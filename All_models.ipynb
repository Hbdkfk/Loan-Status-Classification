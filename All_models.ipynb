{
 "cells": [
  {
   "cell_type": "code",
   "execution_count": 2,
   "metadata": {
    "colab": {},
    "colab_type": "code",
    "id": "1suKVpXs_Af3"
   },
   "outputs": [],
   "source": [
    "import pandas as pd\n",
    "import os\n",
    "import numpy as np\n",
    "import random \n",
    "from scipy.stats import multivariate_normal\n",
    "import math\n",
    "import matplotlib.pyplot as plt"
   ]
  },
  {
   "cell_type": "code",
   "execution_count": 3,
   "metadata": {
    "colab": {
     "base_uri": "https://localhost:8080/",
     "height": 88
    },
    "colab_type": "code",
    "id": "Qx2Ymk6S_E0n",
    "outputId": "316340e3-9c3b-4f69-a682-220944bdf980"
   },
   "outputs": [
    {
     "name": "stdout",
     "output_type": "stream",
     "text": [
      "Drive already mounted at /content/drive; to attempt to forcibly remount, call drive.mount(\"/content/drive\", force_remount=True).\n"
     ]
    },
    {
     "name": "stderr",
     "output_type": "stream",
     "text": [
      "/usr/local/lib/python3.6/dist-packages/IPython/core/interactiveshell.py:2718: DtypeWarning: Columns (19,47,55,112,123,124,125,128,129,130,133,139,140,141) have mixed types.Specify dtype option on import or set low_memory=False.\n",
      "  interactivity=interactivity, compiler=compiler, result=result)\n"
     ]
    }
   ],
   "source": [
    "from google.colab import drive\n",
    "drive.mount('/content/drive')\n",
    "train_data = pd.read_csv('/content/drive/My Drive/Colab Notebooks/project_data/train_data.csv')\n",
    "data = train_data.copy()"
   ]
  },
  {
   "cell_type": "code",
   "execution_count": 4,
   "metadata": {
    "colab": {
     "base_uri": "https://localhost:8080/",
     "height": 419
    },
    "colab_type": "code",
    "id": "BaJM3aFJ_HX9",
    "outputId": "90bf3f95-8a5a-4282-a9d6-8c45a967782d"
   },
   "outputs": [
    {
     "data": {
      "text/html": [
       "<div>\n",
       "<style scoped>\n",
       "    .dataframe tbody tr th:only-of-type {\n",
       "        vertical-align: middle;\n",
       "    }\n",
       "\n",
       "    .dataframe tbody tr th {\n",
       "        vertical-align: top;\n",
       "    }\n",
       "\n",
       "    .dataframe thead th {\n",
       "        text-align: right;\n",
       "    }\n",
       "</style>\n",
       "<table border=\"1\" class=\"dataframe\">\n",
       "  <thead>\n",
       "    <tr style=\"text-align: right;\">\n",
       "      <th></th>\n",
       "      <th>LoanStatNew</th>\n",
       "      <th>Description</th>\n",
       "    </tr>\n",
       "  </thead>\n",
       "  <tbody>\n",
       "    <tr>\n",
       "      <th>0</th>\n",
       "      <td>acc_now_delinq</td>\n",
       "      <td>The number of accounts on which the borrower i...</td>\n",
       "    </tr>\n",
       "    <tr>\n",
       "      <th>1</th>\n",
       "      <td>acc_open_past_24mths</td>\n",
       "      <td>Number of trades opened in past 24 months.</td>\n",
       "    </tr>\n",
       "    <tr>\n",
       "      <th>2</th>\n",
       "      <td>addr_state</td>\n",
       "      <td>The state provided by the borrower in the loan...</td>\n",
       "    </tr>\n",
       "    <tr>\n",
       "      <th>3</th>\n",
       "      <td>all_util</td>\n",
       "      <td>Balance to credit limit on all trades</td>\n",
       "    </tr>\n",
       "    <tr>\n",
       "      <th>4</th>\n",
       "      <td>annual_inc</td>\n",
       "      <td>The self-reported annual income provided by th...</td>\n",
       "    </tr>\n",
       "    <tr>\n",
       "      <th>...</th>\n",
       "      <td>...</td>\n",
       "      <td>...</td>\n",
       "    </tr>\n",
       "    <tr>\n",
       "      <th>148</th>\n",
       "      <td>settlement_amount</td>\n",
       "      <td>The loan amount that the borrower has agreed t...</td>\n",
       "    </tr>\n",
       "    <tr>\n",
       "      <th>149</th>\n",
       "      <td>settlement_percentage</td>\n",
       "      <td>The settlement amount as a percentage of the p...</td>\n",
       "    </tr>\n",
       "    <tr>\n",
       "      <th>150</th>\n",
       "      <td>settlement_term</td>\n",
       "      <td>The number of months that the borrower will be...</td>\n",
       "    </tr>\n",
       "    <tr>\n",
       "      <th>151</th>\n",
       "      <td>NaN</td>\n",
       "      <td>NaN</td>\n",
       "    </tr>\n",
       "    <tr>\n",
       "      <th>152</th>\n",
       "      <td>NaN</td>\n",
       "      <td>* Employer Title replaces Employer Name for al...</td>\n",
       "    </tr>\n",
       "  </tbody>\n",
       "</table>\n",
       "<p>153 rows × 2 columns</p>\n",
       "</div>"
      ],
      "text/plain": [
       "               LoanStatNew                                        Description\n",
       "0           acc_now_delinq  The number of accounts on which the borrower i...\n",
       "1     acc_open_past_24mths         Number of trades opened in past 24 months.\n",
       "2               addr_state  The state provided by the borrower in the loan...\n",
       "3                 all_util              Balance to credit limit on all trades\n",
       "4               annual_inc  The self-reported annual income provided by th...\n",
       "..                     ...                                                ...\n",
       "148      settlement_amount  The loan amount that the borrower has agreed t...\n",
       "149  settlement_percentage  The settlement amount as a percentage of the p...\n",
       "150        settlement_term  The number of months that the borrower will be...\n",
       "151                    NaN                                                NaN\n",
       "152                    NaN  * Employer Title replaces Employer Name for al...\n",
       "\n",
       "[153 rows x 2 columns]"
      ]
     },
     "execution_count": 4,
     "metadata": {
      "tags": []
     },
     "output_type": "execute_result"
    }
   ],
   "source": [
    "feature_description = pd.read_excel('/content/drive/My Drive/Colab Notebooks/project_data/data_dictionary.xlsx')\n",
    "feature_description"
   ]
  },
  {
   "cell_type": "code",
   "execution_count": 5,
   "metadata": {
    "colab": {},
    "colab_type": "code",
    "id": "u0Pb_PxJ_Ots"
   },
   "outputs": [],
   "source": [
    "label = data['loan_status']\n",
    "data = data.drop(['loan_status'], axis = 1)\n",
    "\n",
    "for i in range(len(label)):\n",
    "    if label[i] == 'Charged Off':\n",
    "        label[i] = 1\n",
    "    else:\n",
    "        label[i] = 0\n",
    "\n",
    "import sklearn.model_selection as model_selection\n",
    "\n",
    "X_train, X_test, y_train, y_test = model_selection.train_test_split(data, label, train_size=0.7,test_size=0.3, random_state=101, stratify = label)"
   ]
  },
  {
   "cell_type": "code",
   "execution_count": null,
   "metadata": {
    "colab": {},
    "colab_type": "code",
    "id": "sak4OAnZAiQb"
   },
   "outputs": [],
   "source": [
    "def data_preprocessing(data, miss_threshold, category):\n",
    "    '''\n",
    "    Data: dataframe type original data\n",
    "    miss_threhold: float type, determine whether keep the feature\n",
    "    category: boolean type, determine whether keep categoical data\n",
    "    '''\n",
    "    if category == False: \n",
    "        categorical = []\n",
    "        for name in data.columns:\n",
    "            for x in data[name][data[name].isna() == False]:\n",
    "                if type(x) != str:\n",
    "                    categorical.append(name)\n",
    "                    break\n",
    "        data = data[categorical]\n",
    "                \n",
    "    \n",
    "    data = data[[x for x in data.columns if (sum(data[x].isna())/len(data)) <= miss_threshold]]\n",
    "    unchanged_feature = [x for x in data.columns if len(data[x].unique()) == 1]\n",
    "    data = data.drop(unchanged_feature, axis = 1)\n",
    "    \n",
    "    return data"
   ]
  },
  {
   "cell_type": "code",
   "execution_count": null,
   "metadata": {
    "colab": {},
    "colab_type": "code",
    "id": "oPiLPruuAj7t"
   },
   "outputs": [],
   "source": [
    "miss_threshold = 0.25\n",
    "category = False\n",
    "X_train = data_preprocessing(X_train, miss_threshold, category)\n"
   ]
  },
  {
   "cell_type": "code",
   "execution_count": null,
   "metadata": {
    "colab": {},
    "colab_type": "code",
    "id": "2VGm6MFXAlka"
   },
   "outputs": [],
   "source": [
    "def categorical_check(df, threshold):\n",
    "    non_cate = []\n",
    "    for x in df.columns:\n",
    "        if len(df[x].unique()) >= threshold:\n",
    "            non_cate.append(x)\n",
    "            \n",
    "    return df[non_cate]"
   ]
  },
  {
   "cell_type": "code",
   "execution_count": null,
   "metadata": {
    "colab": {},
    "colab_type": "code",
    "id": "b2rUM1K7AnVB"
   },
   "outputs": [],
   "source": [
    "threshold = 100\n",
    "numerical = categorical_check(X_train, threshold)\n",
    "numerical3 = numerical.drop(['recoveries', 'out_prncp', 'out_prncp_inv', 'collection_recovery_fee'], axis = 1)\n",
    "numerical_test3 = X_test[numerical3.columns]"
   ]
  },
  {
   "cell_type": "code",
   "execution_count": null,
   "metadata": {
    "colab": {},
    "colab_type": "code",
    "id": "l-tVNLWKAo9G"
   },
   "outputs": [],
   "source": [
    "import numpy as np\n",
    "from sklearn.experimental import enable_iterative_imputer\n",
    "from sklearn.impute import IterativeImputer\n",
    "imp = IterativeImputer(max_iter=100, random_state=0)\n",
    "\n",
    "y_train = np.array(y_train.astype(int))\n",
    "y_test = np.array(y_test.astype(int))\n",
    "\n",
    "mice_imp_x = imp.fit_transform(numerical3, y = y_train)\n",
    "mice_imp_x_test = imp.fit(numerical3, y = y_train).transform(numerical_test3)"
   ]
  },
  {
   "cell_type": "code",
   "execution_count": null,
   "metadata": {
    "colab": {
     "base_uri": "https://localhost:8080/",
     "height": 516
    },
    "colab_type": "code",
    "id": "8zcXxoBFArkZ",
    "outputId": "22ea7163-45ce-43d3-89e8-f611ec96a7d0"
   },
   "outputs": [
    {
     "data": {
      "text/plain": [
       "<matplotlib.axes._subplots.AxesSubplot at 0x7f0fc810b7b8>"
      ]
     },
     "execution_count": 10,
     "metadata": {
      "tags": []
     },
     "output_type": "execute_result"
    },
    {
     "data": {
      "image/png": "[encoded data removed]",
      "text/plain": [
       "<Figure size 720x576 with 1 Axes>"
      ]
     },
     "metadata": {
      "needs_background": "light",
      "tags": []
     },
     "output_type": "display_data"
    }
   ],
   "source": [
    "import xgboost as xgb\n",
    "dtrain = xgb.DMatrix(mice_imp_x, y_train)\n",
    "param = {'max_depth':4, 'objective':'binary:logistic', 'nthread': 8, 'eval_metric': 'auc' , 'learning_rate': 0.5, 'n_estimators': 50, 'n_jobs': -1 }\n",
    "\n",
    "num_round = 300\n",
    "bst = xgb.train(param, dtrain, num_round)\n",
    "\n",
    "feature_important = bst.get_score(importance_type='weight')\n",
    "keys = list(feature_important.keys())\n",
    "values = list(feature_important.values())\n",
    "\n",
    "feature_importance = pd.DataFrame(data=values, index=keys, columns=[\"score\"]).sort_values(by = \"score\", ascending=True)\n",
    "feature_importance.plot(kind='barh', grid=True, figsize = (10,8), alpha = 0.8, legend = True, title = 'Feature importance selected by xgboost')"
   ]
  },
  {
   "cell_type": "code",
   "execution_count": null,
   "metadata": {
    "colab": {},
    "colab_type": "code",
    "id": "sR945fGAAvLE"
   },
   "outputs": [],
   "source": [
    "selected_features = feature_importance.index[feature_importance.score > 50]\n",
    "\n",
    "\n",
    "selected_features_index = [int(x[1:]) for x in selected_features]\n",
    "features_names = list(numerical3.columns[selected_features_index])\n",
    "\n",
    "selected_column_index = []\n",
    "for x in features_names:\n",
    "  for i in range(len(X_test.columns)):\n",
    "    if X_test.columns[i] == x:\n",
    "      selected_column_index.append(i)\n",
    "\n",
    "\n",
    "selected_features = [int(x[1:]) for x in selected_features]\n",
    "\n",
    "feature_x = mice_imp_x[:,selected_features]      \n",
    "\n",
    "\n",
    "feature_x_test = mice_imp_x_test[:,selected_features]      "
   ]
  },
  {
   "cell_type": "code",
   "execution_count": null,
   "metadata": {
    "colab": {
     "base_uri": "https://localhost:8080/",
     "height": 221
    },
    "colab_type": "code",
    "id": "zOXa9VT3JZre",
    "outputId": "cf75795d-2adc-425e-fb54-0e0c2c079587"
   },
   "outputs": [
    {
     "data": {
      "text/plain": [
       "['mo_sin_old_rev_tl_op',\n",
       " 'annual_inc',\n",
       " 'total_rec_late_fee',\n",
       " 'loan_amnt',\n",
       " 'total_pymnt_inv',\n",
       " 'funded_amnt_inv',\n",
       " 'last_pymnt_amnt',\n",
       " 'installment',\n",
       " 'total_pymnt',\n",
       " 'total_rec_int',\n",
       " 'total_rec_prncp',\n",
       " 'int_rate']"
      ]
     },
     "execution_count": 12,
     "metadata": {
      "tags": []
     },
     "output_type": "execute_result"
    }
   ],
   "source": [
    "features_names"
   ]
  },
  {
   "cell_type": "code",
   "execution_count": null,
   "metadata": {
    "colab": {
     "base_uri": "https://localhost:8080/",
     "height": 80
    },
    "colab_type": "code",
    "id": "r7LTK5xaM0pD",
    "outputId": "fb0a6d24-5690-460a-d36c-3b196ddf3494"
   },
   "outputs": [
    {
     "data": {
      "text/html": [
       "<div>\n",
       "<style scoped>\n",
       "    .dataframe tbody tr th:only-of-type {\n",
       "        vertical-align: middle;\n",
       "    }\n",
       "\n",
       "    .dataframe tbody tr th {\n",
       "        vertical-align: top;\n",
       "    }\n",
       "\n",
       "    .dataframe thead th {\n",
       "        text-align: right;\n",
       "    }\n",
       "</style>\n",
       "<table border=\"1\" class=\"dataframe\">\n",
       "  <thead>\n",
       "    <tr style=\"text-align: right;\">\n",
       "      <th></th>\n",
       "      <th>LoanStatNew</th>\n",
       "      <th>Description</th>\n",
       "    </tr>\n",
       "  </thead>\n",
       "  <tbody>\n",
       "    <tr>\n",
       "      <th>26</th>\n",
       "      <td>home_ownership</td>\n",
       "      <td>The home ownership status provided by the borr...</td>\n",
       "    </tr>\n",
       "  </tbody>\n",
       "</table>\n",
       "</div>"
      ],
      "text/plain": [
       "       LoanStatNew                                        Description\n",
       "26  home_ownership  The home ownership status provided by the borr..."
      ]
     },
     "execution_count": 13,
     "metadata": {
      "tags": []
     },
     "output_type": "execute_result"
    }
   ],
   "source": [
    "feature_description[feature_description['LoanStatNew'] == 'home_ownership']"
   ]
  },
  {
   "cell_type": "markdown",
   "metadata": {
    "colab_type": "text",
    "id": "vFV5TwcJjwKw"
   },
   "source": [
    "### Manually add some categorical features by the feature description"
   ]
  },
  {
   "cell_type": "code",
   "execution_count": null,
   "metadata": {
    "colab": {},
    "colab_type": "code",
    "id": "tjctpIxArurD"
   },
   "outputs": [],
   "source": [
    "new_categoricals = ['delinq_2yrs', 'home_ownership', 'grade', 'purpose']"
   ]
  },
  {
   "cell_type": "code",
   "execution_count": null,
   "metadata": {
    "colab": {
     "base_uri": "https://localhost:8080/",
     "height": 85
    },
    "colab_type": "code",
    "id": "obDxHN0CXuV7",
    "outputId": "09a3f006-ba2e-4bd2-a53a-a2eec41b9986"
   },
   "outputs": [
    {
     "name": "stdout",
     "output_type": "stream",
     "text": [
      "The nan number for feature delinq_2yrs is 0\n",
      "The nan number for feature home_ownership is 0\n",
      "The nan number for feature grade is 0\n",
      "The nan number for feature purpose is 0\n"
     ]
    }
   ],
   "source": [
    "new_categoricals = ['delinq_2yrs', 'home_ownership', 'grade', 'purpose']\n",
    "for x in new_categoricals:\n",
    "  nan_num = data[x].isna().sum()\n",
    "  print('The nan number for feature {} is {}'.format(x, nan_num))"
   ]
  },
  {
   "cell_type": "markdown",
   "metadata": {
    "colab_type": "text",
    "id": "WkRIRRxew1V0"
   },
   "source": [
    "### Categorical Data Preprocessing"
   ]
  },
  {
   "cell_type": "code",
   "execution_count": null,
   "metadata": {
    "colab": {
     "base_uri": "https://localhost:8080/"
    },
    "colab_type": "code",
    "id": "zIlmXQGUvhF5",
    "outputId": "7487dab6-bda1-47ab-e3df-2c20d9ba2ed2"
   },
   "outputs": [
    {
     "data": {
      "text/html": [
       "<div>\n",
       "<style scoped>\n",
       "    .dataframe tbody tr th:only-of-type {\n",
       "        vertical-align: middle;\n",
       "    }\n",
       "\n",
       "    .dataframe tbody tr th {\n",
       "        vertical-align: top;\n",
       "    }\n",
       "\n",
       "    .dataframe thead th {\n",
       "        text-align: right;\n",
       "    }\n",
       "</style>\n",
       "<table border=\"1\" class=\"dataframe\">\n",
       "  <thead>\n",
       "    <tr style=\"text-align: right;\">\n",
       "      <th></th>\n",
       "      <th>LoanStatNew</th>\n",
       "      <th>Description</th>\n",
       "    </tr>\n",
       "  </thead>\n",
       "  <tbody>\n",
       "    <tr>\n",
       "      <th>0</th>\n",
       "      <td>acc_now_delinq</td>\n",
       "      <td>The number of accounts on which the borrower i...</td>\n",
       "    </tr>\n",
       "    <tr>\n",
       "      <th>1</th>\n",
       "      <td>acc_open_past_24mths</td>\n",
       "      <td>Number of trades opened in past 24 months.</td>\n",
       "    </tr>\n",
       "    <tr>\n",
       "      <th>2</th>\n",
       "      <td>addr_state</td>\n",
       "      <td>The state provided by the borrower in the loan...</td>\n",
       "    </tr>\n",
       "    <tr>\n",
       "      <th>3</th>\n",
       "      <td>all_util</td>\n",
       "      <td>Balance to credit limit on all trades</td>\n",
       "    </tr>\n",
       "    <tr>\n",
       "      <th>4</th>\n",
       "      <td>annual_inc</td>\n",
       "      <td>The self-reported annual income provided by th...</td>\n",
       "    </tr>\n",
       "    <tr>\n",
       "      <th>...</th>\n",
       "      <td>...</td>\n",
       "      <td>...</td>\n",
       "    </tr>\n",
       "    <tr>\n",
       "      <th>148</th>\n",
       "      <td>settlement_amount</td>\n",
       "      <td>The loan amount that the borrower has agreed t...</td>\n",
       "    </tr>\n",
       "    <tr>\n",
       "      <th>149</th>\n",
       "      <td>settlement_percentage</td>\n",
       "      <td>The settlement amount as a percentage of the p...</td>\n",
       "    </tr>\n",
       "    <tr>\n",
       "      <th>150</th>\n",
       "      <td>settlement_term</td>\n",
       "      <td>The number of months that the borrower will be...</td>\n",
       "    </tr>\n",
       "    <tr>\n",
       "      <th>151</th>\n",
       "      <td>NaN</td>\n",
       "      <td>NaN</td>\n",
       "    </tr>\n",
       "    <tr>\n",
       "      <th>152</th>\n",
       "      <td>NaN</td>\n",
       "      <td>* Employer Title replaces Employer Name for al...</td>\n",
       "    </tr>\n",
       "  </tbody>\n",
       "</table>\n",
       "<p>153 rows × 2 columns</p>\n",
       "</div>"
      ],
      "text/plain": [
       "               LoanStatNew                                        Description\n",
       "0           acc_now_delinq  The number of accounts on which the borrower i...\n",
       "1     acc_open_past_24mths         Number of trades opened in past 24 months.\n",
       "2               addr_state  The state provided by the borrower in the loan...\n",
       "3                 all_util              Balance to credit limit on all trades\n",
       "4               annual_inc  The self-reported annual income provided by th...\n",
       "..                     ...                                                ...\n",
       "148      settlement_amount  The loan amount that the borrower has agreed t...\n",
       "149  settlement_percentage  The settlement amount as a percentage of the p...\n",
       "150        settlement_term  The number of months that the borrower will be...\n",
       "151                    NaN                                                NaN\n",
       "152                    NaN  * Employer Title replaces Employer Name for al...\n",
       "\n",
       "[153 rows x 2 columns]"
      ]
     },
     "execution_count": 16,
     "metadata": {
      "tags": []
     },
     "output_type": "execute_result"
    }
   ],
   "source": [
    "feature_description"
   ]
  },
  {
   "cell_type": "code",
   "execution_count": null,
   "metadata": {
    "colab": {
     "base_uri": "https://localhost:8080/"
    },
    "colab_type": "code",
    "id": "0nxa7u7J5Rz8",
    "outputId": "e02f684c-95f1-474b-ad40-55bf96bbe57b"
   },
   "outputs": [
    {
     "data": {
      "text/html": [
       "<div>\n",
       "<style scoped>\n",
       "    .dataframe tbody tr th:only-of-type {\n",
       "        vertical-align: middle;\n",
       "    }\n",
       "\n",
       "    .dataframe tbody tr th {\n",
       "        vertical-align: top;\n",
       "    }\n",
       "\n",
       "    .dataframe thead th {\n",
       "        text-align: right;\n",
       "    }\n",
       "</style>\n",
       "<table border=\"1\" class=\"dataframe\">\n",
       "  <thead>\n",
       "    <tr style=\"text-align: right;\">\n",
       "      <th></th>\n",
       "      <th>LoanStatNew</th>\n",
       "      <th>Description</th>\n",
       "    </tr>\n",
       "  </thead>\n",
       "  <tbody>\n",
       "    <tr>\n",
       "      <th>112</th>\n",
       "      <td>verification_status</td>\n",
       "      <td>Indicates if income was verified by bank, not ...</td>\n",
       "    </tr>\n",
       "  </tbody>\n",
       "</table>\n",
       "</div>"
      ],
      "text/plain": [
       "             LoanStatNew                                        Description\n",
       "112  verification_status  Indicates if income was verified by bank, not ..."
      ]
     },
     "execution_count": 17,
     "metadata": {
      "tags": []
     },
     "output_type": "execute_result"
    }
   ],
   "source": [
    "feature_description[feature_description['LoanStatNew'] == 'verification_status']"
   ]
  },
  {
   "cell_type": "markdown",
   "metadata": {
    "colab_type": "text",
    "id": "7tvf528kyUdc"
   },
   "source": [
    "#### We treat the variable ```home_ownership```, ```purpose``` as nominal variable, and ```grade``` ,  ```delinq_2yrs``` and ```verfication_status as ordinal variable (```delinq_2yrs``` might be discrete variable)"
   ]
  },
  {
   "cell_type": "code",
   "execution_count": null,
   "metadata": {
    "colab": {
     "base_uri": "https://localhost:8080/"
    },
    "colab_type": "code",
    "id": "vXsfITP7xm43",
    "outputId": "73c00886-c7e3-4254-c43b-b2ac1900de9c"
   },
   "outputs": [
    {
     "data": {
      "text/plain": [
       "{'A': 7, 'B': 6, 'C': 5, 'D': 4, 'E': 3, 'F': 2, 'G': 1}"
      ]
     },
     "execution_count": 18,
     "metadata": {
      "tags": []
     },
     "output_type": "execute_result"
    }
   ],
   "source": [
    "grade_keys= sorted(data['grade'].unique())\n",
    "grade_values = [i for i in range(len(data['grade'].unique()), 0, -1)]\n",
    "match_dict = dict(zip(grade_keys, grade_values))\n",
    "match_dict"
   ]
  },
  {
   "cell_type": "code",
   "execution_count": null,
   "metadata": {
    "colab": {
     "base_uri": "https://localhost:8080/"
    },
    "colab_type": "code",
    "id": "11OzVyxX1T_J",
    "outputId": "2402610a-d085-456d-c297-8b20001e7409"
   },
   "outputs": [
    {
     "name": "stderr",
     "output_type": "stream",
     "text": [
      "/usr/local/lib/python3.6/dist-packages/ipykernel_launcher.py:2: SettingWithCopyWarning: \n",
      "A value is trying to be set on a copy of a slice from a DataFrame\n",
      "\n",
      "See the caveats in the documentation: https://pandas.pydata.org/pandas-docs/stable/user_guide/indexing.html#returning-a-view-versus-a-copy\n",
      "  \n"
     ]
    }
   ],
   "source": [
    "for key in match_dict.keys():\n",
    "  data['grade'][data['grade'] == key] = match_dict[key]\n"
   ]
  },
  {
   "cell_type": "code",
   "execution_count": null,
   "metadata": {
    "colab": {
     "base_uri": "https://localhost:8080/"
    },
    "colab_type": "code",
    "id": "QUbYiyF56LT_",
    "outputId": "57c6cd24-f2e4-4723-9147-6cb32c94f103"
   },
   "outputs": [
    {
     "name": "stderr",
     "output_type": "stream",
     "text": [
      "/usr/local/lib/python3.6/dist-packages/ipykernel_launcher.py:5: SettingWithCopyWarning: \n",
      "A value is trying to be set on a copy of a slice from a DataFrame\n",
      "\n",
      "See the caveats in the documentation: https://pandas.pydata.org/pandas-docs/stable/user_guide/indexing.html#returning-a-view-versus-a-copy\n",
      "  \"\"\"\n"
     ]
    },
    {
     "data": {
      "text/plain": [
       "0          2\n",
       "1          1\n",
       "2          1\n",
       "3          1\n",
       "4          0\n",
       "          ..\n",
       "1827120    2\n",
       "1827121    0\n",
       "1827122    1\n",
       "1827123    0\n",
       "1827124    0\n",
       "Name: verification_status, Length: 1827125, dtype: object"
      ]
     },
     "execution_count": 20,
     "metadata": {
      "tags": []
     },
     "output_type": "execute_result"
    }
   ],
   "source": [
    "verify_keys= sorted(data['verification_status'].unique())\n",
    "verify_values = [0,1,2]\n",
    "match_dict = dict(zip(verify_keys, verify_values))\n",
    "for key in match_dict.keys():\n",
    "  data['verification_status'][data['verification_status'] == key] = match_dict[key]\n",
    "\n",
    "data['verification_status']"
   ]
  },
  {
   "cell_type": "code",
   "execution_count": null,
   "metadata": {
    "colab": {},
    "colab_type": "code",
    "id": "osfwx5bl7FKA"
   },
   "outputs": [],
   "source": [
    "from sklearn.preprocessing import OneHotEncoder\n",
    "enc = OneHotEncoder(handle_unknown='ignore')\n",
    "home_ownership = enc.fit_transform(data['home_ownership'].values.reshape(-1,1)).toarray()\n"
   ]
  },
  {
   "cell_type": "code",
   "execution_count": null,
   "metadata": {
    "colab": {},
    "colab_type": "code",
    "id": "SxZkzRmR-dGW"
   },
   "outputs": [],
   "source": [
    "home_ownership = pd.DataFrame(home_ownership, columns = list(enc.categories_[0]))"
   ]
  },
  {
   "cell_type": "code",
   "execution_count": null,
   "metadata": {
    "colab": {},
    "colab_type": "code",
    "id": "LmiE6a8asDZT"
   },
   "outputs": [],
   "source": [
    "enc = OneHotEncoder(handle_unknown='ignore')\n",
    "\n",
    "purpose = enc.fit_transform(data['purpose'].values.reshape(-1,1)).toarray()\n",
    "purpose = pd.DataFrame(purpose, columns = list(enc.categories_[0]))\n"
   ]
  },
  {
   "cell_type": "code",
   "execution_count": null,
   "metadata": {
    "colab": {},
    "colab_type": "code",
    "id": "GkX2teZEtwiR"
   },
   "outputs": [],
   "source": [
    "data = data.drop(['purpose', 'home_ownership'], axis = 1)\n",
    "data = pd.concat([data,home_ownership, purpose ], axis = 1)\n"
   ]
  },
  {
   "cell_type": "code",
   "execution_count": null,
   "metadata": {
    "colab": {},
    "colab_type": "code",
    "id": "IvI3YyKU0GDb"
   },
   "outputs": [],
   "source": [
    "new_col_names = list(purpose.columns) + list(home_ownership.columns) + ['grade'] + ['delinq_2yrs']+ ['verification_status']"
   ]
  },
  {
   "cell_type": "markdown",
   "metadata": {
    "colab_type": "text",
    "id": "xQYeetEN3EMV"
   },
   "source": [
    "### Redo the preprocessing again"
   ]
  },
  {
   "cell_type": "code",
   "execution_count": null,
   "metadata": {
    "colab": {},
    "colab_type": "code",
    "id": "8_tDf3Hm0ol7"
   },
   "outputs": [],
   "source": [
    "X_train, X_test, y_train, y_test = model_selection.train_test_split(data, label, train_size=0.7,test_size=0.3, random_state=101, stratify = label)\n",
    "miss_threshold = 0.25\n",
    "category = False\n",
    "X_train = data_preprocessing(X_train, miss_threshold, category)\n",
    "\n",
    "\n",
    "\n",
    "numerical3 = X_train.drop(['recoveries', 'out_prncp', 'out_prncp_inv', 'collection_recovery_fee'], axis = 1)\n",
    "numerical_test3 = X_test[numerical3.columns]\n",
    "\n",
    "y_train = np.array(y_train.astype(int))\n",
    "y_test = np.array(y_test.astype(int))\n",
    "\n",
    "# mice_imp_x = imp.fit_transform(numerical3, y = y_train)\n",
    "# mice_imp_x_test = imp.fit(numerical3, y = y_train).transform(numerical_test3)\n"
   ]
  },
  {
   "cell_type": "code",
   "execution_count": null,
   "metadata": {
    "colab": {
     "base_uri": "https://localhost:8080/"
    },
    "colab_type": "code",
    "id": "-03MQKrl5vej",
    "outputId": "ad60088d-01b5-44b6-c1ab-410d6c34022f"
   },
   "outputs": [
    {
     "data": {
      "text/plain": [
       "81"
      ]
     },
     "execution_count": 27,
     "metadata": {
      "tags": []
     },
     "output_type": "execute_result"
    }
   ],
   "source": [
    "len(numerical3.columns)"
   ]
  },
  {
   "cell_type": "code",
   "execution_count": null,
   "metadata": {
    "colab": {},
    "colab_type": "code",
    "id": "_x-YVX4m37vO"
   },
   "outputs": [],
   "source": [
    "numerical4 = numerical3[[x for x in numerical3.columns if x not in new_col_names]]\n",
    "numerical_test4 = numerical_test3[list(numerical4.columns)]\n",
    "\n"
   ]
  },
  {
   "cell_type": "code",
   "execution_count": null,
   "metadata": {
    "colab": {},
    "colab_type": "code",
    "id": "4Btl-YAWBVNO"
   },
   "outputs": [],
   "source": [
    "mice_imp_x = imp.fit_transform(numerical4, y = y_train)\n",
    "mice_imp_x_test = imp.fit(numerical4, y = y_train).transform(numerical_test4)\n",
    "\n"
   ]
  },
  {
   "cell_type": "code",
   "execution_count": null,
   "metadata": {
    "colab": {},
    "colab_type": "code",
    "id": "s51tT_t8POM0"
   },
   "outputs": [],
   "source": [
    "mice_imp_x_df = pd.DataFrame(mice_imp_x , columns = list(numerical4.columns))\n",
    "mice_imp_x_test_df = pd.DataFrame(mice_imp_x_test , columns = list(numerical4.columns))\n",
    "\n",
    "mice_imp_x_df = mice_imp_x_df[features_names]\n",
    "mice_imp_x_test_df = mice_imp_x_test_df[features_names]"
   ]
  },
  {
   "cell_type": "code",
   "execution_count": null,
   "metadata": {
    "colab": {},
    "colab_type": "code",
    "id": "7dYmdisORQVa"
   },
   "outputs": [],
   "source": [
    "mice_imp_x_df = pd.concat([mice_imp_x_df, X_train[new_col_names].reset_index(drop=True)], axis = 1)\n",
    "mice_imp_x_test_df = pd.concat([mice_imp_x_test_df, X_test[new_col_names].reset_index(drop=True)], axis = 1)\n"
   ]
  },
  {
   "cell_type": "code",
   "execution_count": null,
   "metadata": {
    "colab": {},
    "colab_type": "code",
    "id": "q0cHJdmaT7Iv"
   },
   "outputs": [],
   "source": [
    "feature_x = np.array(mice_imp_x_df)\n",
    "feature_x_test = np.array(mice_imp_x_test_df)"
   ]
  },
  {
   "cell_type": "code",
   "execution_count": null,
   "metadata": {
    "colab": {},
    "colab_type": "code",
    "id": "ZgSn8jHDUVAt"
   },
   "outputs": [],
   "source": [
    "from sklearn.ensemble import RandomForestClassifier\n",
    "from numpy import mean\n",
    "from sklearn.model_selection import cross_val_score\n",
    "from sklearn.model_selection import RepeatedStratifiedKFold\n",
    "from sklearn.metrics import roc_auc_score, roc_curve, auc\n",
    "from sklearn import metrics\n",
    "\n",
    "# rf = RandomForestClassifier(max_depth = 24, min_samples_leaf = 4,  n_estimators = 300, class_weight = 'balanced_subsample', n_jobs=-1, criterion = 'gini')\n",
    "# pred = rf.fit(feature_x, y_train).predict(feature_x_test)\n",
    "# fpr, tpr, thresholds = metrics.roc_curve(y_test, pred)\n",
    "# metrics.auc(fpr, tpr)"
   ]
  },
  {
   "cell_type": "code",
   "execution_count": null,
   "metadata": {
    "colab": {
     "base_uri": "https://localhost:8080/"
    },
    "colab_type": "code",
    "id": "rWQR0pEXy76z",
    "outputId": "1541d996-fe5b-431d-bfba-d147d513601d"
   },
   "outputs": [
    {
     "data": {
      "text/plain": [
       "(1278987, 34)"
      ]
     },
     "execution_count": 34,
     "metadata": {
      "tags": []
     },
     "output_type": "execute_result"
    }
   ],
   "source": [
    "feature_x.shape"
   ]
  },
  {
   "cell_type": "markdown",
   "metadata": {
    "colab_type": "text",
    "id": "DS9gqZb0DbGm"
   },
   "source": [
    "## Model\n"
   ]
  },
  {
   "cell_type": "markdown",
   "metadata": {
    "colab_type": "text",
    "id": "2qRQLtH5PJXA"
   },
   "source": [
    "#### The testing AUC for RUS Adaboost"
   ]
  },
  {
   "cell_type": "code",
   "execution_count": null,
   "metadata": {
    "colab": {
     "base_uri": "https://localhost:8080/",
     "height": 34
    },
    "colab_type": "code",
    "id": "ERm5q-2v10h7",
    "outputId": "7b2d5870-efde-4344-f671-a1480480273d"
   },
   "outputs": [
    {
     "data": {
      "text/plain": [
       "0.9003275250100077"
      ]
     },
     "execution_count": 35,
     "metadata": {
      "tags": []
     },
     "output_type": "execute_result"
    }
   ],
   "source": [
    "import warnings\n",
    "warnings.filterwarnings(\"ignore\")\n",
    "from sklearn.tree import DecisionTreeClassifier\n",
    "\n",
    "from imblearn.ensemble import RUSBoostClassifier\n",
    "\n",
    "clf = RUSBoostClassifier(random_state=0, n_estimators=300, learning_rate = 0.6, base_estimator = DecisionTreeClassifier(max_depth=2))\n",
    "pred = clf.fit(feature_x, y_train).predict(feature_x_test)  \n",
    "\n",
    "fpr, tpr, thresholds = metrics.roc_curve(y_test, pred)\n",
    "\n",
    "metrics.auc(fpr, tpr)\n"
   ]
  },
  {
   "cell_type": "markdown",
   "metadata": {
    "colab_type": "text",
    "id": "-egPTILoPWkM"
   },
   "source": [
    "* The testing AUC for RUS Boost is 0.900"
   ]
  },
  {
   "cell_type": "markdown",
   "metadata": {
    "colab_type": "text",
    "id": "-iCeLAveO9Tz"
   },
   "source": [
    "#### The training AUC for RUS Adaboost "
   ]
  },
  {
   "cell_type": "code",
   "execution_count": null,
   "metadata": {
    "colab": {
     "base_uri": "https://localhost:8080/"
    },
    "colab_type": "code",
    "id": "LKwPo6y48rJH",
    "outputId": "ddc06823-8556-4152-f0ce-88493b0af8e7"
   },
   "outputs": [
    {
     "data": {
      "text/plain": [
       "0.9021743760625676"
      ]
     },
     "execution_count": 36,
     "metadata": {
      "tags": []
     },
     "output_type": "execute_result"
    }
   ],
   "source": [
    "clf = RUSBoostClassifier(random_state=0, n_estimators=300, learning_rate = 0.6, base_estimator = DecisionTreeClassifier(max_depth=2))\n",
    "pred = clf.fit(feature_x, y_train).predict(feature_x)  \n",
    "\n",
    "fpr, tpr, thresholds = metrics.roc_curve(y_train, pred)\n",
    "\n",
    "metrics.auc(fpr, tpr)\n"
   ]
  },
  {
   "cell_type": "markdown",
   "metadata": {
    "colab_type": "text",
    "id": "2Gl00WlBPxht"
   },
   "source": [
    "#### The training AUC for RUS Adaboost is 0.902"
   ]
  },
  {
   "cell_type": "markdown",
   "metadata": {
    "colab_type": "text",
    "id": "WFnPQozLasPl"
   },
   "source": [
    "### RUS AdaBoost Result Analysis"
   ]
  },
  {
   "cell_type": "code",
   "execution_count": null,
   "metadata": {
    "colab": {},
    "colab_type": "code",
    "id": "TLYaaQ4wQIf5"
   },
   "outputs": [],
   "source": [
    "scores = clf.fit(feature_x, y_train).predict_proba(feature_x_test)"
   ]
  },
  {
   "cell_type": "code",
   "execution_count": null,
   "metadata": {
    "colab": {
     "base_uri": "https://localhost:8080/",
     "height": 34
    },
    "colab_type": "code",
    "id": "xP2OvvUSQbJC",
    "outputId": "d6dc93c6-2ee1-437e-baf5-33eb95286239"
   },
   "outputs": [
    {
     "data": {
      "text/plain": [
       "0.9697492300695169"
      ]
     },
     "execution_count": 38,
     "metadata": {
      "tags": []
     },
     "output_type": "execute_result"
    }
   ],
   "source": [
    "from sklearn.metrics import roc_auc_score, roc_curve, auc\n",
    "\n",
    "fpr, tpr, thresholds = roc_curve(y_test, scores[:,1])\n",
    "auc(fpr, tpr)"
   ]
  },
  {
   "cell_type": "code",
   "execution_count": null,
   "metadata": {
    "colab": {
     "base_uri": "https://localhost:8080/",
     "height": 404
    },
    "colab_type": "code",
    "id": "cBHZJhbSZ_ED",
    "outputId": "cbecb2fe-4af2-4412-e366-ef4ad005dd79"
   },
   "outputs": [
    {
     "data": {
      "image/png": "[encoded data removed]",
      "text/plain": [
       "<Figure size 576x432 with 1 Axes>"
      ]
     },
     "metadata": {
      "needs_background": "light",
      "tags": []
     },
     "output_type": "display_data"
    }
   ],
   "source": [
    "plt.figure(figsize= (8,6))\n",
    "\n",
    "lw = 2\n",
    "plt.plot(fpr, tpr, color='darkorange', \n",
    "         lw=lw, label='ROC curve (area = %0.2f)' % auc(fpr, tpr))\n",
    "plt.plot([0, 1], [0, 1], color='navy', lw=lw, linestyle='--', label = 'random guess')\n",
    "plt.xlim([-0.02, 1.0])\n",
    "plt.ylim([0.0, 1.05])\n",
    "plt.xlabel('False Positive Rate')\n",
    "plt.ylabel('True Positive Rate')\n",
    "plt.title('Receiver operating characteristic for RUS Adaboost model')\n",
    "plt.legend(loc=\"lower right\")\n",
    "plt.show()"
   ]
  },
  {
   "cell_type": "markdown",
   "metadata": {
    "colab_type": "text",
    "id": "aNYeU8p4a7dd"
   },
   "source": [
    "### Select the best threshold to determine the label"
   ]
  },
  {
   "cell_type": "code",
   "execution_count": null,
   "metadata": {
    "colab": {},
    "colab_type": "code",
    "id": "aETWpmhIbVlO"
   },
   "outputs": [],
   "source": [
    "probs = scores[:, 1]"
   ]
  },
  {
   "cell_type": "code",
   "execution_count": null,
   "metadata": {
    "colab": {},
    "colab_type": "code",
    "id": "n84P3boeahET"
   },
   "outputs": [],
   "source": [
    "def pred_convert(pred, threshold):\n",
    "\n",
    "  result = np.array([0 for _ in range(len(pred))])\n",
    "  result[pred.flatten() > threshold] = 1\n",
    "  return result"
   ]
  },
  {
   "cell_type": "code",
   "execution_count": null,
   "metadata": {
    "colab": {},
    "colab_type": "code",
    "id": "fEPVZTllbrme"
   },
   "outputs": [],
   "source": [
    "from numpy import arange\n",
    "\n",
    "threshold = arange(0.49, 0.51, 0.0001)\n",
    "auc_dict = {}\n",
    "for x in threshold:\n",
    "  y_hat = pred_convert(probs, x)\n",
    "  auc_dict[x] = roc_auc_score(y_test, y_hat)\n",
    "\n",
    "auc_dict = {k: v for k, v in sorted(auc_dict.items(), key=lambda item: item[1], reverse = True)}\n"
   ]
  },
  {
   "cell_type": "code",
   "execution_count": null,
   "metadata": {
    "colab": {
     "base_uri": "https://localhost:8080/"
    },
    "colab_type": "code",
    "id": "NJ_7VgP0b7iT",
    "outputId": "987ccf80-ecfc-4c1e-c2d9-822f596e786b"
   },
   "outputs": [
    {
     "name": "stdout",
     "output_type": "stream",
     "text": [
      "Best Threshold=0.500427, G-Mean=0.904\n"
     ]
    }
   ],
   "source": [
    "labels = pred_convert(probs, 0.5)\n",
    "gmeans = (tpr * (1-fpr))** 0.5\n",
    "ix = np.argmax(gmeans)\n",
    "print('Best Threshold=%f, G-Mean=%.3f' % (thresholds[ix], gmeans[ix]))"
   ]
  },
  {
   "cell_type": "code",
   "execution_count": null,
   "metadata": {
    "colab": {
     "base_uri": "https://localhost:8080/"
    },
    "colab_type": "code",
    "id": "3gLKHM4wdBjt",
    "outputId": "952a165a-5d09-49e3-fc36-c85c2583587e"
   },
   "outputs": [
    {
     "data": {
      "image/png": "[encoded data removed]",
      "text/plain": [
       "<Figure size 576x432 with 1 Axes>"
      ]
     },
     "metadata": {
      "needs_background": "light",
      "tags": []
     },
     "output_type": "display_data"
    }
   ],
   "source": [
    "from sklearn.metrics import precision_recall_curve\n",
    "\n",
    "precision, recall, thresholds = precision_recall_curve(\n",
    "    y_test, probs)\n",
    "\n",
    "\n",
    "\n",
    "plt.figure(figsize = (8, 6))\n",
    "plt.rcParams['font.size'] = 16\n",
    "plt.plot(recall, precision, 'r', label='Precision-Recall Curve for RUS Adaboost')\n",
    "plt.xlabel('Recall') \n",
    "plt.ylabel('Precision')\n",
    "plt.xlim(0,1)\n",
    "plt.ylim(0,1)\n",
    "plt.title('Precision and Recall Curves')\n",
    "plt.legend(loc=\"lower left\")\n",
    "plt.show()"
   ]
  },
  {
   "cell_type": "code",
   "execution_count": null,
   "metadata": {
    "colab": {
     "base_uri": "https://localhost:8080/"
    },
    "colab_type": "code",
    "id": "uyzIWx41dNuj",
    "outputId": "67d95ced-9860-4381-811c-6812c1dec373"
   },
   "outputs": [
    {
     "name": "stdout",
     "output_type": "stream",
     "text": [
      "Normalized confusion matrix\n",
      "[[0.89571721 0.10428279]\n",
      " [0.09506216 0.90493784]]\n"
     ]
    },
    {
     "data": {
      "image/png": "[encoded data removed]",
      "text/plain": [
       "<Figure size 720x720 with 2 Axes>"
      ]
     },
     "metadata": {
      "needs_background": "light",
      "tags": []
     },
     "output_type": "display_data"
    }
   ],
   "source": [
    "from sklearn.metrics import confusion_matrix\n",
    "import itertools\n",
    "\n",
    "def plot_confusion_matrix(cm, classes,\n",
    "                          normalize=False,\n",
    "                          title='Confusion matrix',\n",
    "                          cmap=plt.cm.Oranges):\n",
    "    \"\"\"\n",
    "    This function prints and plots the confusion matrix.\n",
    "    Normalization can be applied by setting `normalize=True`.\n",
    "    Source: http://scikit-learn.org/stable/auto_examples/model_selection/plot_confusion_matrix.html\n",
    "    \"\"\"\n",
    "    if normalize:\n",
    "        cm = cm.astype('float') / cm.sum(axis=1)[:, np.newaxis]\n",
    "        print(\"Normalized confusion matrix\")\n",
    "    else:\n",
    "        print('Confusion matrix, without normalization')\n",
    "\n",
    "    print(cm)\n",
    "\n",
    "    # Plot the confusion matrix\n",
    "    plt.figure(figsize = (10, 10))\n",
    "    plt.imshow(cm, interpolation='nearest', cmap=cmap)\n",
    "    plt.title(title, size = 24)\n",
    "    plt.colorbar(aspect=4)\n",
    "    tick_marks = np.arange(len(classes))\n",
    "    plt.xticks(tick_marks, classes, rotation=45, size = 14)\n",
    "    plt.yticks(tick_marks, classes, size = 14)\n",
    "\n",
    "    fmt = '.2f' if normalize else 'd'\n",
    "    thresh = cm.max() / 2.\n",
    "    \n",
    "    # Labeling the plot\n",
    "    for i, j in itertools.product(range(cm.shape[0]), range(cm.shape[1])):\n",
    "        plt.text(j, i, format(cm[i, j], fmt), fontsize = 20,\n",
    "                 horizontalalignment=\"center\",\n",
    "                 color=\"white\" if cm[i, j] > thresh else \"black\")\n",
    "        \n",
    "    plt.grid(None)\n",
    "    plt.tight_layout()\n",
    "    plt.ylabel('True label', size = 18)\n",
    "    plt.xlabel('Predicted label', size = 18)\n",
    "\n",
    "# Confusion matrix\n",
    "cm = confusion_matrix(y_test, labels)\n",
    "plot_confusion_matrix(cm, classes = ['0', '1'], normalize = True, \n",
    "                      title = 'Confusion Matrix')"
   ]
  },
  {
   "cell_type": "code",
   "execution_count": null,
   "metadata": {
    "colab": {
     "base_uri": "https://localhost:8080/"
    },
    "colab_type": "code",
    "id": "S0UrUcbNdjSk",
    "outputId": "fb42e255-161e-4af5-e6fb-4e4cdfed52b7"
   },
   "outputs": [
    {
     "name": "stdout",
     "output_type": "stream",
     "text": [
      "The macro-averaged precision value is 0.6989686298242299.\n",
      "The macro-averaged recall value is 0.9003275250100078.\n"
     ]
    }
   ],
   "source": [
    "from sklearn.metrics import precision_score, recall_score\n",
    "print('The macro-averaged precision value is {}.'.format(precision_score(y_test, labels, average=\"macro\")))\n",
    "print('The macro-averaged recall value is {}.'.format(recall_score(y_test, labels, average=\"macro\"))) "
   ]
  },
  {
   "cell_type": "code",
   "execution_count": null,
   "metadata": {
    "colab": {
     "base_uri": "https://localhost:8080/"
    },
    "colab_type": "code",
    "id": "kNHLTvjXiyIj",
    "outputId": "d72df2a4-c1e5-46ca-94f9-1f0a76be773b"
   },
   "outputs": [
    {
     "name": "stdout",
     "output_type": "stream",
     "text": [
      "The micro-averaged precision value is 0.896391054807366.\n",
      "The micro-averaged recall value is 0.896391054807366.\n"
     ]
    }
   ],
   "source": [
    "from sklearn.metrics import precision_score, recall_score\n",
    "### # A \"micro-average\": quantifying score on all classes jointly\n",
    "\n",
    "print('The micro-averaged precision value is {}.'.format(precision_score(y_test, labels, average=\"micro\")))\n",
    "print('The micro-averaged recall value is {}.'.format(recall_score(y_test, labels, average=\"micro\"))) "
   ]
  },
  {
   "cell_type": "markdown",
   "metadata": {
    "colab_type": "text",
    "id": "_uZ9nYBIMrYA"
   },
   "source": [
    "### xgboost with Categorical variable "
   ]
  },
  {
   "cell_type": "code",
   "execution_count": null,
   "metadata": {
    "colab": {},
    "colab_type": "code",
    "id": "JqjSACvglqPR"
   },
   "outputs": [],
   "source": [
    "from xgboost import XGBClassifier\n",
    "from numpy import mean\n",
    "\n",
    "from sklearn.model_selection import cross_val_score\n",
    "from sklearn.model_selection import RepeatedStratifiedKFold"
   ]
  },
  {
   "cell_type": "markdown",
   "metadata": {
    "colab_type": "text",
    "id": "jLsWNbUYXgwJ"
   },
   "source": [
    "* scale_pos_weight：Control the balance of positive and negative weights, useful for unbalanced classes. A typical value to consider: sum(negative instances) / sum(positive instances). "
   ]
  },
  {
   "cell_type": "code",
   "execution_count": null,
   "metadata": {
    "colab": {
     "base_uri": "https://localhost:8080/",
     "height": 34
    },
    "colab_type": "code",
    "id": "cbbm-skIWWT5",
    "outputId": "ec6af51a-dd6b-416c-db50-87cdc35b5e89"
   },
   "outputs": [
    {
     "data": {
      "text/plain": [
       "0.9347271453931557"
      ]
     },
     "execution_count": 49,
     "metadata": {
      "tags": []
     },
     "output_type": "execute_result"
    }
   ],
   "source": [
    "from sklearn import metrics\n",
    "\n",
    "xgb = XGBClassifier(colsample_bytree = 0.7, learning_rate=0.5, max_depth= 20, \n",
    "                    scale_pos_weight= 1,  eval_metric = 'auc', n_estimator = 300)\n",
    "\n",
    "pred = xgb.fit(feature_x, y_train).predict(feature_x_test)\n",
    "\n",
    "fpr, tpr, thresholds = metrics.roc_curve(y_test, pred)\n",
    "\n",
    "metrics.auc(fpr, tpr)"
   ]
  },
  {
   "cell_type": "code",
   "execution_count": null,
   "metadata": {
    "colab": {
     "base_uri": "https://localhost:8080/",
     "height": 34
    },
    "colab_type": "code",
    "id": "1rjwpqXi8TgE",
    "outputId": "1128c31c-080b-468b-d982-b933447d096b"
   },
   "outputs": [
    {
     "data": {
      "text/plain": [
       "0.9480999983007634"
      ]
     },
     "execution_count": 50,
     "metadata": {
      "tags": []
     },
     "output_type": "execute_result"
    }
   ],
   "source": [
    "weight = round((len(y_train)- y_train.sum()) / y_train.sum(),2)\n",
    "\n",
    "xgb = XGBClassifier(colsample_bytree = 0.7, learning_rate=0.5, max_depth= 20, \n",
    "                    scale_pos_weight= weight,  eval_metric = 'auc', n_estimator = 300)\n",
    "\n",
    "pred_weighted = xgb.fit(feature_x, y_train).predict(feature_x_test)\n",
    "\n",
    "fpr2, tpr2, thresholds2 = roc_curve(y_test, pred_weighted)\n",
    "\n",
    "auc(fpr2, tpr2)"
   ]
  },
  {
   "cell_type": "code",
   "execution_count": null,
   "metadata": {
    "colab": {
     "base_uri": "https://localhost:8080/",
     "height": 34
    },
    "colab_type": "code",
    "id": "XT9a7nvU7Lxk",
    "outputId": "e679eafd-8b68-480c-b9cb-daf724b4b9ca"
   },
   "outputs": [
    {
     "data": {
      "text/plain": [
       "0.9929861265849215"
      ]
     },
     "execution_count": 51,
     "metadata": {
      "tags": []
     },
     "output_type": "execute_result"
    }
   ],
   "source": [
    "prod_weighted_xg = xgb.fit(feature_x, y_train).predict_proba(feature_x_test)\n",
    "\n",
    "fpr_xg2, tpr_xg2, thresholds_xg2 = roc_curve(y_test, prod_weighted_xg[:,1])\n",
    "\n",
    "auc(fpr_xg2, tpr_xg2)"
   ]
  },
  {
   "cell_type": "code",
   "execution_count": null,
   "metadata": {
    "colab": {},
    "colab_type": "code",
    "id": "VIjvyuKUl0Oj"
   },
   "outputs": [],
   "source": [
    "threshold = arange(0.0, 1.0, 0.01)\n",
    "auc_dict = {}\n",
    "for x in threshold:\n",
    "  y_hat = pred_convert(prod_weighted_xg[:,1], x)\n",
    "  auc_dict[x] = roc_auc_score(y_test, y_hat)\n",
    "\n",
    "auc_dict = {k: v for k, v in sorted(auc_dict.items(), key=lambda item: item[1], reverse = True)}"
   ]
  },
  {
   "cell_type": "code",
   "execution_count": null,
   "metadata": {
    "colab": {},
    "colab_type": "code",
    "id": "Ma1_Wp2RmdyO"
   },
   "outputs": [],
   "source": [
    "label_xg2 = pred_convert(prod_weighted_xg[:,1], 0.02)"
   ]
  },
  {
   "cell_type": "code",
   "execution_count": null,
   "metadata": {
    "colab": {
     "base_uri": "https://localhost:8080/",
     "height": 662
    },
    "colab_type": "code",
    "id": "e8TmiyBDMmtS",
    "outputId": "8b6c6877-cc45-4855-d1c4-1134384f7630"
   },
   "outputs": [
    {
     "name": "stdout",
     "output_type": "stream",
     "text": [
      "Normalized confusion matrix\n",
      "[[0.97784798 0.02215202]\n",
      " [0.04870438 0.95129562]]\n"
     ]
    },
    {
     "data": {
      "image/png": "[encoded data removed]",
      "text/plain": [
       "<Figure size 720x720 with 2 Axes>"
      ]
     },
     "metadata": {
      "needs_background": "light",
      "tags": []
     },
     "output_type": "display_data"
    }
   ],
   "source": [
    "from sklearn.metrics import confusion_matrix\n",
    "import itertools\n",
    "\n",
    "def plot_confusion_matrix(cm, classes,\n",
    "                          normalize=False,\n",
    "                          title='Confusion matrix',\n",
    "                          cmap=plt.cm.Oranges):\n",
    "    \"\"\"\n",
    "    This function prints and plots the confusion matrix.\n",
    "    Normalization can be applied by setting `normalize=True`.\n",
    "    \"\"\"\n",
    "    if normalize:\n",
    "        cm = cm.astype('float') / cm.sum(axis=1)[:, np.newaxis]\n",
    "        print(\"Normalized confusion matrix\")\n",
    "    else:\n",
    "        print('Confusion matrix, without normalization')\n",
    "\n",
    "    print(cm)\n",
    "\n",
    "    # Plot the confusion matrix\n",
    "    plt.figure(figsize = (10, 10))\n",
    "    plt.imshow(cm, interpolation='nearest', cmap=cmap)\n",
    "    plt.title(title, size = 24)\n",
    "    plt.colorbar(aspect=4)\n",
    "    tick_marks = np.arange(len(classes))\n",
    "    plt.xticks(tick_marks, classes, rotation=45, size = 14)\n",
    "    plt.yticks(tick_marks, classes, size = 14)\n",
    "\n",
    "    fmt = '.2f' if normalize else 'd'\n",
    "    thresh = cm.max() / 2.\n",
    "    \n",
    "    # Labeling the plot\n",
    "    for i, j in itertools.product(range(cm.shape[0]), range(cm.shape[1])):\n",
    "        plt.text(j, i, format(cm[i, j], fmt), fontsize = 20,\n",
    "                 horizontalalignment=\"center\",\n",
    "                 color=\"white\" if cm[i, j] > thresh else \"black\")\n",
    "        \n",
    "    plt.grid(None)\n",
    "    plt.tight_layout()\n",
    "    plt.ylabel('True label', size = 18)\n",
    "    plt.xlabel('Predicted label', size = 18)\n",
    "\n",
    "# Confusion matrix\n",
    "cm = confusion_matrix(y_test, label_xg2)\n",
    "plot_confusion_matrix(cm, classes = ['0', '1'], normalize = True, \n",
    "                      title = 'Confusion Matrix')"
   ]
  },
  {
   "cell_type": "code",
   "execution_count": null,
   "metadata": {
    "colab": {},
    "colab_type": "code",
    "id": "ieFZVtZahkxw"
   },
   "outputs": [],
   "source": [
    "xgb = XGBClassifier(colsample_bytree = 0.7, learning_rate=0.5, max_depth= 20, \n",
    "                    scale_pos_weight= 1,  eval_metric = 'auc', n_estimator = 300)\n",
    "\n",
    "prob = xgb.fit(feature_x, y_train).predict_proba(feature_x_test)\n"
   ]
  },
  {
   "cell_type": "code",
   "execution_count": null,
   "metadata": {
    "colab": {
     "base_uri": "https://localhost:8080/",
     "height": 51
    },
    "colab_type": "code",
    "id": "3lS6-t-Sgk14",
    "outputId": "ff1dfe3d-46fc-4ad4-e90c-ea32b6ebe652"
   },
   "outputs": [
    {
     "name": "stdout",
     "output_type": "stream",
     "text": [
      "The macro-averaged precision value is 0.9885784622037688.\n",
      "The macro-averaged recall value is 0.9347271453931556.\n"
     ]
    }
   ],
   "source": [
    "from sklearn.metrics import precision_score, recall_score\n",
    "print('The macro-averaged precision value is {}.'.format(precision_score(y_test, pred, average=\"macro\")))\n",
    "print('The macro-averaged recall value is {}.'.format(recall_score(y_test, pred, average=\"macro\"))) "
   ]
  },
  {
   "cell_type": "code",
   "execution_count": null,
   "metadata": {
    "colab": {
     "base_uri": "https://localhost:8080/",
     "height": 51
    },
    "colab_type": "code",
    "id": "jF3MAdvihS4i",
    "outputId": "6fcac145-305d-4f8f-c531-4ffcde1f6a3e"
   },
   "outputs": [
    {
     "name": "stdout",
     "output_type": "stream",
     "text": [
      "The micro-averaged precision value is 0.9897051472439422.\n",
      "The micro-averaged recall value is 0.9897051472439422.\n"
     ]
    }
   ],
   "source": [
    "\n",
    "print('The micro-averaged precision value is {}.'.format(precision_score(y_test, pred, average=\"micro\")))\n",
    "print('The micro-averaged recall value is {}.'.format(recall_score(y_test, pred, average=\"micro\"))) "
   ]
  },
  {
   "cell_type": "code",
   "execution_count": null,
   "metadata": {
    "colab": {},
    "colab_type": "code",
    "id": "wnhlt9axhc42"
   },
   "outputs": [],
   "source": [
    "prob = prob[:, 1]"
   ]
  },
  {
   "cell_type": "code",
   "execution_count": null,
   "metadata": {
    "colab": {},
    "colab_type": "code",
    "id": "azwTdr_JvOhk"
   },
   "outputs": [],
   "source": [
    "from sklearn.metrics import roc_auc_score, roc_curve, auc\n",
    "\n",
    "fpr, tpr, thresholds = roc_curve(y_test, prob)\n",
    "roc_auc = auc(fpr, tpr)\n"
   ]
  },
  {
   "cell_type": "code",
   "execution_count": null,
   "metadata": {
    "colab": {
     "base_uri": "https://localhost:8080/",
     "height": 34
    },
    "colab_type": "code",
    "id": "XNc3_p-tvfzT",
    "outputId": "d6e05044-e467-48e0-c8ce-ec7e0a9ecc9e"
   },
   "outputs": [
    {
     "name": "stdout",
     "output_type": "stream",
     "text": [
      "Best Threshold=0.015982, G-Mean=0.963\n"
     ]
    }
   ],
   "source": [
    "gmeans = (tpr * (1-fpr))** 0.5\n",
    "ix = np.argmax(gmeans)\n",
    "print('Best Threshold=%f, G-Mean=%.3f' % (thresholds[ix], gmeans[ix]))"
   ]
  },
  {
   "cell_type": "code",
   "execution_count": null,
   "metadata": {
    "colab": {},
    "colab_type": "code",
    "id": "dC06Rbrmvw1g"
   },
   "outputs": [],
   "source": [
    "threshold = arange(0.0, 1.0, 0.01)\n",
    "auc_dict = {}\n",
    "for x in threshold:\n",
    "  y_hat = pred_convert(prob, x)\n",
    "  auc_dict[x] = roc_auc_score(y_test, y_hat)\n",
    "\n",
    "auc_dict = {k: v for k, v in sorted(auc_dict.items(), key=lambda item: item[1], reverse = True)}"
   ]
  },
  {
   "cell_type": "code",
   "execution_count": null,
   "metadata": {
    "colab": {},
    "colab_type": "code",
    "id": "pMFfKLcFx5Vt"
   },
   "outputs": [],
   "source": [
    "label_xg = pred_convert(prob, 0.02)\n"
   ]
  },
  {
   "cell_type": "markdown",
   "metadata": {
    "colab_type": "text",
    "id": "785eeNfrwwoJ"
   },
   "source": [
    "* By checking the auc dictionary, the best threshold for xgboost model is 0.02, and the correspoding AUC is 0.963."
   ]
  },
  {
   "cell_type": "code",
   "execution_count": null,
   "metadata": {
    "colab": {
     "base_uri": "https://localhost:8080/",
     "height": 419
    },
    "colab_type": "code",
    "id": "VxpjoZ3qxexc",
    "outputId": "f5ace213-0911-4ade-ac49-20678bf2fc2f"
   },
   "outputs": [
    {
     "data": {
      "image/png": "[encoded data removed]",
      "text/plain": [
       "<Figure size 576x432 with 1 Axes>"
      ]
     },
     "metadata": {
      "needs_background": "light",
      "tags": []
     },
     "output_type": "display_data"
    }
   ],
   "source": [
    "plt.figure(figsize= (8,6))\n",
    "\n",
    "lw = 2\n",
    "plt.plot(fpr, tpr, color='darkorange', \n",
    "         lw=lw, label='ROC curve (area = %0.2f)' % auc(fpr, tpr))\n",
    "plt.plot([0, 1], [0, 1], color='navy', lw=lw, linestyle='--', label = 'random guess')\n",
    "plt.xlim([-0.02, 1.0])\n",
    "plt.ylim([0.0, 1.05])\n",
    "plt.xlabel('False Positive Rate')\n",
    "plt.ylabel('True Positive Rate')\n",
    "plt.title('Receiver operating characteristic for XGboost model')\n",
    "plt.legend(loc=\"lower right\")\n",
    "plt.show()"
   ]
  },
  {
   "cell_type": "code",
   "execution_count": null,
   "metadata": {
    "colab": {
     "base_uri": "https://localhost:8080/",
     "height": 419
    },
    "colab_type": "code",
    "id": "c6KVmmzGv_3c",
    "outputId": "660c4269-0f75-4414-ed67-364c07cc0d9e"
   },
   "outputs": [
    {
     "data": {
      "image/png": "[encoded data removed]",
      "text/plain": [
       "<Figure size 576x432 with 1 Axes>"
      ]
     },
     "metadata": {
      "needs_background": "light",
      "tags": []
     },
     "output_type": "display_data"
    }
   ],
   "source": [
    "precision, recall, thresholds = precision_recall_curve(\n",
    "    y_test, prob)\n",
    "\n",
    "plt.figure(figsize = (8, 6))\n",
    "plt.rcParams['font.size'] = 16\n",
    "plt.plot(recall, precision, 'r', label='P-R Curve for XgBoost with equally weight')\n",
    "plt.xlabel('Recall') \n",
    "plt.ylabel('Precision')\n",
    "plt.xlim(0,1)\n",
    "plt.ylim(0,1)\n",
    "plt.title('Precision and Recall Curves')\n",
    "plt.legend(loc=\"lower left\")\n",
    "plt.show()"
   ]
  },
  {
   "cell_type": "code",
   "execution_count": null,
   "metadata": {
    "colab": {
     "base_uri": "https://localhost:8080/",
     "height": 662
    },
    "colab_type": "code",
    "id": "jsSZrtfbxFMq",
    "outputId": "0136e33c-168b-44e8-f9dc-213d94a00ddf"
   },
   "outputs": [
    {
     "name": "stdout",
     "output_type": "stream",
     "text": [
      "Normalized confusion matrix\n",
      "[[0.98147536 0.01852464]\n",
      " [0.05521993 0.94478007]]\n"
     ]
    },
    {
     "data": {
      "image/png": "[encoded data removed]",
      "text/plain": [
       "<Figure size 720x720 with 2 Axes>"
      ]
     },
     "metadata": {
      "needs_background": "light",
      "tags": []
     },
     "output_type": "display_data"
    }
   ],
   "source": [
    "\n",
    "# Confusion matrix\n",
    "cm = confusion_matrix(y_test, label_xg)\n",
    "plot_confusion_matrix(cm, classes = ['0', '1'], normalize = True, \n",
    "                      title = 'Confusion Matrix')"
   ]
  },
  {
   "cell_type": "markdown",
   "metadata": {
    "colab_type": "text",
    "id": "-qdOhXHtycxE"
   },
   "source": [
    "### Comparasion different models including XGboost, RUS Adaboost, Random Forest, Logistic Regression, ANN, CNN"
   ]
  },
  {
   "cell_type": "code",
   "execution_count": null,
   "metadata": {
    "colab": {
     "base_uri": "https://localhost:8080/",
     "height": 419
    },
    "colab_type": "code",
    "id": "tMg9BdUiyH4u",
    "outputId": "81928d00-5476-4e22-c958-b4cd05590e7e"
   },
   "outputs": [
    {
     "data": {
      "image/png": "[encoded data removed]",
      "text/plain": [
       "<Figure size 576x432 with 1 Axes>"
      ]
     },
     "metadata": {
      "needs_background": "light",
      "tags": []
     },
     "output_type": "display_data"
    }
   ],
   "source": [
    "from sklearn.metrics import roc_auc_score, roc_curve, auc\n",
    "\n",
    "fpr_ad, tpr_ad, thresholds_ad = roc_curve(y_test, scores[:,1])\n",
    "auc_ad = auc(fpr_ad, tpr_ad)\n",
    "\n",
    "fpr_xg, tpr_xg, thresholds_xg = roc_curve(y_test, prob)\n",
    "roc_auc_xg = auc(fpr_xg, tpr_xg)\n",
    "\n",
    "\n",
    "plt.figure(figsize= (8,6))\n",
    "\n",
    "lw = 2\n",
    "plt.plot(fpr_ad, tpr_ad, color='darkorange', \n",
    "         lw=lw, label='RUS Adaboost ROC curve (area = %0.2f)' % auc_ad)\n",
    "\n",
    "plt.plot(fpr_xg, tpr_xg, color='red', \n",
    "         lw=lw, label='XG Boost ROC curve (area = %0.2f)' % roc_auc_xg)\n",
    "\n",
    "\n",
    "plt.plot([0, 1], [0, 1], color='navy', lw=lw, linestyle='--', label = 'random guess')\n",
    "plt.xlim([-0.02, 1.0])\n",
    "plt.ylim([0.0, 1.05])\n",
    "plt.xlabel('False Positive Rate')\n",
    "plt.ylabel('True Positive Rate')\n",
    "plt.title('Receiver operating characteristic')\n",
    "plt.legend(loc=\"lower right\")\n",
    "plt.show()"
   ]
  },
  {
   "cell_type": "code",
   "execution_count": null,
   "metadata": {
    "colab": {},
    "colab_type": "code",
    "id": "AHjGPGPq0cwN"
   },
   "outputs": [],
   "source": [
    "rf = RandomForestClassifier(max_depth = 24, min_samples_leaf = 4,  n_estimators = 300, class_weight = 'balanced_subsample', n_jobs=-1, criterion = 'gini')\n",
    "prob_rf = rf.fit(feature_x, y_train).predict_proba(feature_x_test)\n"
   ]
  },
  {
   "cell_type": "code",
   "execution_count": null,
   "metadata": {
    "colab": {
     "base_uri": "https://localhost:8080/",
     "height": 34
    },
    "colab_type": "code",
    "id": "V1O31HqO1Hji",
    "outputId": "69712c2b-1fbb-4ca6-8393-f988671fa9fe"
   },
   "outputs": [
    {
     "data": {
      "text/plain": [
       "0.9616216842461205"
      ]
     },
     "execution_count": 66,
     "metadata": {
      "tags": []
     },
     "output_type": "execute_result"
    }
   ],
   "source": [
    "fpr_rf, tpr_rf, thresholds_rf = metrics.roc_curve(y_test, prob_rf[:,1])\n",
    "metrics.auc(fpr_rf, tpr_rf)"
   ]
  },
  {
   "cell_type": "code",
   "execution_count": null,
   "metadata": {
    "colab": {
     "base_uri": "https://localhost:8080/",
     "height": 34
    },
    "colab_type": "code",
    "id": "Jhp9k3MHHC0Z",
    "outputId": "448873e8-772c-4ac7-a7ad-cdeada43765a"
   },
   "outputs": [
    {
     "name": "stdout",
     "output_type": "stream",
     "text": [
      "Best Threshold=0.372206, G-Mean=0.885\n"
     ]
    }
   ],
   "source": [
    "gmeans = (tpr_rf * (1-fpr_rf))** 0.5\n",
    "ix = np.argmax(gmeans)\n",
    "print('Best Threshold=%f, G-Mean=%.3f' % (thresholds_rf[ix], gmeans[ix]))"
   ]
  },
  {
   "cell_type": "code",
   "execution_count": null,
   "metadata": {
    "colab": {},
    "colab_type": "code",
    "id": "blr0BY_qKbVQ"
   },
   "outputs": [],
   "source": [
    "from sklearn import preprocessing\n",
    "\n",
    "def stadardize(X):\n",
    "  scaler = preprocessing.StandardScaler().fit(X)\n",
    "  X = scaler.transform(X)\n",
    "  return X"
   ]
  },
  {
   "cell_type": "code",
   "execution_count": null,
   "metadata": {
    "colab": {
     "base_uri": "https://localhost:8080/",
     "height": 34
    },
    "colab_type": "code",
    "id": "8LgjfrleH5aJ",
    "outputId": "e04b1dbf-4d5f-481c-d324-4a2d19f58718"
   },
   "outputs": [
    {
     "data": {
      "text/plain": [
       "0.938018283630839"
      ]
     },
     "execution_count": 69,
     "metadata": {
      "tags": []
     },
     "output_type": "execute_result"
    }
   ],
   "source": [
    "from sklearn.linear_model import LogisticRegression\n",
    "\n",
    "lr = LogisticRegression(solver='lbfgs', penalty = 'l2', n_jobs = -1, max_iter = 200, C = 500, class_weight = 'balanced')\n",
    "\n",
    "feature_x = np.array(mice_imp_x_df[features_names])\n",
    "feature_x_test = np.array(mice_imp_x_test_df[features_names])\n",
    "feature_x = stadardize(feature_x)\n",
    "feature_x_test = stadardize(feature_x_test)\n",
    "prob_lr = lr.fit(feature_x, y_train).predict_proba(feature_x_test)\n",
    "fpr_lr, tpr_lr, thresholds_lr = roc_curve(y_test, prob_lr[:,1])\n",
    "auc(fpr_lr, tpr_lr)"
   ]
  },
  {
   "cell_type": "code",
   "execution_count": 114,
   "metadata": {
    "colab": {
     "base_uri": "https://localhost:8080/",
     "height": 34
    },
    "colab_type": "code",
    "id": "esCBYO6p02h8",
    "outputId": "377b8c4a-ff51-4084-d4d2-c52a0bea62f2"
   },
   "outputs": [
    {
     "data": {
      "text/plain": [
       "0.935779643096474"
      ]
     },
     "execution_count": 114,
     "metadata": {
      "tags": []
     },
     "output_type": "execute_result"
    }
   ],
   "source": [
    "from sklearn.linear_model import LogisticRegression\n",
    "\n",
    "lr = LogisticRegression(solver='lbfgs', penalty = 'l2', n_jobs = -1, max_iter = 200, C = 1, class_weight = 'balanced')\n",
    "\n",
    "feature_x = np.array(mice_imp_x_df[features_names])\n",
    "feature_x_test = np.array(mice_imp_x_test_df[features_names])\n",
    "feature_x = stadardize(feature_x)\n",
    "feature_x_test = stadardize(feature_x_test)\n",
    "prob_lr = lr.fit(feature_x, y_train).predict_proba(feature_x_test)\n",
    "fpr_lr, tpr_lr, thresholds_lr = roc_curve(y_test, prob_lr[:,1])\n",
    "auc(fpr_lr, tpr_lr)"
   ]
  },
  {
   "cell_type": "code",
   "execution_count": 115,
   "metadata": {
    "colab": {
     "base_uri": "https://localhost:8080/",
     "height": 421
    },
    "colab_type": "code",
    "id": "JEeow6h70kQw",
    "outputId": "9b3c28b1-3de7-494e-ac61-9de2504210a5"
   },
   "outputs": [
    {
     "data": {
      "text/html": [
       "<div>\n",
       "<style scoped>\n",
       "    .dataframe tbody tr th:only-of-type {\n",
       "        vertical-align: middle;\n",
       "    }\n",
       "\n",
       "    .dataframe tbody tr th {\n",
       "        vertical-align: top;\n",
       "    }\n",
       "\n",
       "    .dataframe thead th {\n",
       "        text-align: right;\n",
       "    }\n",
       "</style>\n",
       "<table border=\"1\" class=\"dataframe\">\n",
       "  <thead>\n",
       "    <tr style=\"text-align: right;\">\n",
       "      <th></th>\n",
       "      <th>coeffient</th>\n",
       "    </tr>\n",
       "  </thead>\n",
       "  <tbody>\n",
       "    <tr>\n",
       "      <th>mo_sin_old_rev_tl_op</th>\n",
       "      <td>0.028356</td>\n",
       "    </tr>\n",
       "    <tr>\n",
       "      <th>annual_inc</th>\n",
       "      <td>-0.386361</td>\n",
       "    </tr>\n",
       "    <tr>\n",
       "      <th>total_rec_late_fee</th>\n",
       "      <td>0.227967</td>\n",
       "    </tr>\n",
       "    <tr>\n",
       "      <th>loan_amnt</th>\n",
       "      <td>19.023402</td>\n",
       "    </tr>\n",
       "    <tr>\n",
       "      <th>total_pymnt_inv</th>\n",
       "      <td>46.599502</td>\n",
       "    </tr>\n",
       "    <tr>\n",
       "      <th>funded_amnt_inv</th>\n",
       "      <td>-19.527696</td>\n",
       "    </tr>\n",
       "    <tr>\n",
       "      <th>last_pymnt_amnt</th>\n",
       "      <td>-4.812569</td>\n",
       "    </tr>\n",
       "    <tr>\n",
       "      <th>installment</th>\n",
       "      <td>0.856805</td>\n",
       "    </tr>\n",
       "    <tr>\n",
       "      <th>total_pymnt</th>\n",
       "      <td>65.230113</td>\n",
       "    </tr>\n",
       "    <tr>\n",
       "      <th>total_rec_int</th>\n",
       "      <td>-28.894912</td>\n",
       "    </tr>\n",
       "    <tr>\n",
       "      <th>total_rec_prncp</th>\n",
       "      <td>-95.545349</td>\n",
       "    </tr>\n",
       "    <tr>\n",
       "      <th>int_rate</th>\n",
       "      <td>0.259003</td>\n",
       "    </tr>\n",
       "  </tbody>\n",
       "</table>\n",
       "</div>"
      ],
      "text/plain": [
       "                      coeffient\n",
       "mo_sin_old_rev_tl_op   0.028356\n",
       "annual_inc            -0.386361\n",
       "total_rec_late_fee     0.227967\n",
       "loan_amnt             19.023402\n",
       "total_pymnt_inv       46.599502\n",
       "funded_amnt_inv      -19.527696\n",
       "last_pymnt_amnt       -4.812569\n",
       "installment            0.856805\n",
       "total_pymnt           65.230113\n",
       "total_rec_int        -28.894912\n",
       "total_rec_prncp      -95.545349\n",
       "int_rate               0.259003"
      ]
     },
     "execution_count": 115,
     "metadata": {
      "tags": []
     },
     "output_type": "execute_result"
    }
   ],
   "source": [
    "pd.DataFrame(lr.coef_[0],features_names, columns= ['coeffient'])"
   ]
  },
  {
   "cell_type": "code",
   "execution_count": null,
   "metadata": {
    "colab": {
     "base_uri": "https://localhost:8080/",
     "height": 68
    },
    "colab_type": "code",
    "id": "FlPccoqWw-tO",
    "outputId": "42eb0bf1-9ec5-4c2e-c058-01f2de2c9172"
   },
   "outputs": [
    {
     "data": {
      "text/plain": [
       "array([ 3.92487989e-02, -5.36204724e-01, -1.77256444e-01,  1.21945892e+02,\n",
       "        1.98448218e+02, -1.22326516e+02, -4.60267557e+00,  7.98643123e-01,\n",
       "        3.30865385e+02, -1.38392325e+02, -4.47542582e+02,  2.48206309e-01])"
      ]
     },
     "execution_count": 107,
     "metadata": {
      "tags": []
     },
     "output_type": "execute_result"
    }
   ],
   "source": [
    "lr.coef_[0]"
   ]
  },
  {
   "cell_type": "code",
   "execution_count": null,
   "metadata": {
    "colab": {
     "base_uri": "https://localhost:8080/",
     "height": 221
    },
    "colab_type": "code",
    "id": "L3fx5nKNxCek",
    "outputId": "5ebc66fb-4aa8-45ed-b22f-fa4fa54fa729"
   },
   "outputs": [
    {
     "data": {
      "text/plain": [
       "['mo_sin_old_rev_tl_op',\n",
       " 'annual_inc',\n",
       " 'total_rec_late_fee',\n",
       " 'loan_amnt',\n",
       " 'total_pymnt_inv',\n",
       " 'funded_amnt_inv',\n",
       " 'last_pymnt_amnt',\n",
       " 'installment',\n",
       " 'total_pymnt',\n",
       " 'total_rec_int',\n",
       " 'total_rec_prncp',\n",
       " 'int_rate']"
      ]
     },
     "execution_count": 108,
     "metadata": {
      "tags": []
     },
     "output_type": "execute_result"
    }
   ],
   "source": [
    "features_names"
   ]
  },
  {
   "cell_type": "code",
   "execution_count": null,
   "metadata": {
    "colab": {},
    "colab_type": "code",
    "id": "pyILKRdCO2pZ"
   },
   "outputs": [],
   "source": [
    "auc_lr = auc(fpr_lr, tpr_lr)"
   ]
  },
  {
   "cell_type": "code",
   "execution_count": null,
   "metadata": {
    "colab": {
     "base_uri": "https://localhost:8080/",
     "height": 34
    },
    "colab_type": "code",
    "id": "TC9ZjGZ8NFCN",
    "outputId": "55b48cdf-f7f5-40ef-d585-6ec2c690d245"
   },
   "outputs": [
    {
     "data": {
      "text/plain": [
       "0.9616216842461205"
      ]
     },
     "execution_count": 95,
     "metadata": {
      "tags": []
     },
     "output_type": "execute_result"
    }
   ],
   "source": [
    "roc_auc_rf"
   ]
  },
  {
   "cell_type": "code",
   "execution_count": null,
   "metadata": {
    "colab": {
     "base_uri": "https://localhost:8080/",
     "height": 419
    },
    "colab_type": "code",
    "id": "7rf38ZUBK6tX",
    "outputId": "35ab6622-08dd-44ce-821d-d85b158dac31"
   },
   "outputs": [
    {
     "data": {
      "image/png": "[encoded data removed]",
      "text/plain": [
       "<Figure size 576x432 with 1 Axes>"
      ]
     },
     "metadata": {
      "needs_background": "light",
      "tags": []
     },
     "output_type": "display_data"
    }
   ],
   "source": [
    "from sklearn.metrics import roc_auc_score, roc_curve, auc\n",
    "\n",
    "\n",
    "\n",
    "fpr_ad, tpr_ad, thresholds_ad = roc_curve(y_test, scores[:,1])\n",
    "auc_ad = auc(fpr_ad, tpr_ad)\n",
    "\n",
    "fpr_xg, tpr_xg, thresholds_xg = roc_curve(y_test, prob)\n",
    "roc_auc_xg = auc(fpr_xg, tpr_xg)\n",
    "\n",
    "fpr_rf, tpr_rf, thresholds_rf = roc_curve(y_test, prob_rf[:,1])\n",
    "roc_auc_rf = auc(fpr_rf, tpr_rf)\n",
    "\n",
    "plt.figure(figsize= (8,6))\n",
    "\n",
    "lw = 2\n",
    "plt.plot(fpr_ad, tpr_ad, color='darkorange', \n",
    "         lw=lw, label='RUS Adaboost' )\n",
    "\n",
    "plt.plot(fpr_lr, tpr_lr, color='grey', \n",
    "         lw=lw, label='Logisitic Regression')\n",
    "\n",
    "\n",
    "plt.plot(fpr_xg, tpr_xg, color='red', \n",
    "         lw=lw, label='XG Boost')\n",
    "\n",
    "plt.plot(fpr_rf, tpr_rf, color='green', \n",
    "         lw=lw, label='Random Forest')\n",
    "\n",
    "\n",
    "plt.plot([0, 1], [0, 1], color='navy', lw=lw, linestyle='--', label = 'random guess')\n",
    "plt.xlim([-0.02, 1.0])\n",
    "plt.ylim([0.0, 1.05])\n",
    "plt.xlabel('False Positive Rate')\n",
    "plt.ylabel('True Positive Rate')\n",
    "plt.title('Receiver operating characteristic')\n",
    "plt.legend(loc=\"lower right\")\n",
    "plt.show()"
   ]
  },
  {
   "cell_type": "code",
   "execution_count": null,
   "metadata": {
    "colab": {},
    "colab_type": "code",
    "id": "nn2CQGZBPCUy"
   },
   "outputs": [],
   "source": [
    "from keras import metrics\n",
    "from keras.optimizers import Adam\n",
    "\n",
    "def ANN(n_input):\n",
    "  model = Sequential()\n",
    "  model.add(Dense(20, input_dim = n_input, activation= 'relu', kernel_initializer='he_uniform'))\n",
    "  model.add(Dense(10, activation= 'relu'))\n",
    "  model.add(Dense(1, activation='sigmoid'))\n",
    "  model.compile(loss = 'binary_crossentropy', optimizer='adam', metrics = [metrics.AUC()])\n",
    "  return model"
   ]
  },
  {
   "cell_type": "code",
   "execution_count": null,
   "metadata": {
    "colab": {},
    "colab_type": "code",
    "id": "i-ah1HZbatLI"
   },
   "outputs": [],
   "source": [
    "feature_combo_x = np.append(feature_x, np.array(X_train[new_col_names].reset_index(drop=True)), axis= 1)\n",
    "feature_combo_x_test = np.append(feature_x_test, np.array(X_test[new_col_names].reset_index(drop=True)), axis= 1)"
   ]
  },
  {
   "cell_type": "code",
   "execution_count": null,
   "metadata": {
    "colab": {},
    "colab_type": "code",
    "id": "uyVpIxQ-aJAC"
   },
   "outputs": [],
   "source": [
    "feature_combo_x = np.asarray(feature_combo_x).astype(np.float32)\n",
    "feature_combo_x_test = np.asarray(feature_combo_x_test).astype(np.float32)"
   ]
  },
  {
   "cell_type": "code",
   "execution_count": null,
   "metadata": {
    "colab": {
     "base_uri": "https://localhost:8080/",
     "height": 714
    },
    "colab_type": "code",
    "id": "6xgMSxNVaaGu",
    "outputId": "9f4867ed-d25a-4426-b485-5f6c69de87ac"
   },
   "outputs": [
    {
     "name": "stdout",
     "output_type": "stream",
     "text": [
      "Epoch 1/20\n",
      "39969/39969 - 60s - loss: 0.1248 - auc_3: 0.9331\n",
      "Epoch 2/20\n",
      "39969/39969 - 60s - loss: 0.1039 - auc_3: 0.9464\n",
      "Epoch 3/20\n",
      "39969/39969 - 56s - loss: 0.1003 - auc_3: 0.9489\n",
      "Epoch 4/20\n",
      "39969/39969 - 58s - loss: 0.0982 - auc_3: 0.9504\n",
      "Epoch 5/20\n",
      "39969/39969 - 58s - loss: 0.0965 - auc_3: 0.9513\n",
      "Epoch 6/20\n",
      "39969/39969 - 58s - loss: 0.0953 - auc_3: 0.9521\n",
      "Epoch 7/20\n",
      "39969/39969 - 58s - loss: 0.0941 - auc_3: 0.9527\n",
      "Epoch 8/20\n",
      "39969/39969 - 62s - loss: 0.0940 - auc_3: 0.9529\n",
      "Epoch 9/20\n",
      "39969/39969 - 62s - loss: 0.0933 - auc_3: 0.9535\n",
      "Epoch 10/20\n",
      "39969/39969 - 58s - loss: 0.0925 - auc_3: 0.9541\n",
      "Epoch 11/20\n",
      "39969/39969 - 62s - loss: 0.0920 - auc_3: 0.9545\n",
      "Epoch 12/20\n",
      "39969/39969 - 58s - loss: 0.0918 - auc_3: 0.9548\n",
      "Epoch 13/20\n",
      "39969/39969 - 59s - loss: 0.0912 - auc_3: 0.9550\n",
      "Epoch 14/20\n",
      "39969/39969 - 59s - loss: 0.0913 - auc_3: 0.9549\n",
      "Epoch 15/20\n",
      "39969/39969 - 57s - loss: 0.0909 - auc_3: 0.9552\n",
      "Epoch 16/20\n",
      "39969/39969 - 57s - loss: 0.0906 - auc_3: 0.9556\n",
      "Epoch 17/20\n",
      "39969/39969 - 57s - loss: 0.0905 - auc_3: 0.9556\n",
      "Epoch 18/20\n",
      "39969/39969 - 59s - loss: 0.0901 - auc_3: 0.9559\n",
      "Epoch 19/20\n",
      "39969/39969 - 56s - loss: 0.0899 - auc_3: 0.9561\n",
      "Epoch 20/20\n",
      "39969/39969 - 58s - loss: 0.0896 - auc_3: 0.9562\n",
      "ROC AUC: 0.954\n"
     ]
    }
   ],
   "source": [
    "from sklearn.metrics import roc_auc_score\n",
    "from keras.layers import Dense\n",
    "from keras.models import Sequential\n",
    "\n",
    "n_input = feature_combo_x.shape[1]\n",
    "model = ANN(n_input)\n",
    "history = model.fit(feature_combo_x, y_train, epochs= 20, verbose=2)\n",
    "# evaluate model\n",
    "pred_ann = model.predict(feature_combo_x_test)\n",
    "score = roc_auc_score(y_test, pred_ann)\n",
    "print('ROC AUC: %.3f' % score)"
   ]
  },
  {
   "cell_type": "code",
   "execution_count": null,
   "metadata": {
    "colab": {},
    "colab_type": "code",
    "id": "mNP4sRJXrsc5"
   },
   "outputs": [],
   "source": [
    "import torch\n",
    "import torch.nn as nn\n",
    "import torch.nn.functional as F"
   ]
  },
  {
   "cell_type": "code",
   "execution_count": null,
   "metadata": {
    "colab": {},
    "colab_type": "code",
    "id": "-PpazdJVr_bY"
   },
   "outputs": [],
   "source": [
    "class CNN(nn.Module):\n",
    "    def __init__(self, input_dim, output_dim):\n",
    "        super(CNN, self).__init__()\n",
    "        kernel_size = 3\n",
    "        self.input_dim = input_dim\n",
    "        self.conv1 = torch.nn.Conv1d(in_channels=1, out_channels=3, kernel_size=kernel_size)\n",
    "        self.conv2 = torch.nn.Conv1d(in_channels=3, out_channels=3, kernel_size=kernel_size)\n",
    "        self.linear1 = nn.Linear((input_dim-2*(kernel_size-1))*3, 10)\n",
    "        self.linear2 = nn.Linear(10, output_dim)\n",
    "        self.sigmoid = nn.Sigmoid()\n",
    "    \n",
    "    def forward(self, input_data):\n",
    "        conv_out1 = self.conv1(input_data.view(input_data.size()[0], 1, input_data.size()[1]))\n",
    "        conv_out1 = nn.ReLU()(conv_out1)\n",
    "        conv_out2 = self.conv2(conv_out1)\n",
    "        conv_out2 = nn.ReLU()(conv_out2)\n",
    "        linear1 = self.linear1(conv_out2.view(conv_out2.size()[0], -1))\n",
    "        linear1 = nn.ReLU()(linear1)\n",
    "        linear2 = self.linear2(linear1)\n",
    "        y_pred = self.sigmoid(linear2)\n",
    "        return y_pred"
   ]
  },
  {
   "cell_type": "code",
   "execution_count": null,
   "metadata": {
    "colab": {},
    "colab_type": "code",
    "id": "DJX9gT4RsB-6"
   },
   "outputs": [],
   "source": [
    "import torch.optim as optim\n",
    "device = torch.device(\"cuda:0\" if torch.cuda.is_available() else \"cpu\")\n",
    "\n",
    "n_input = feature_combo_x.shape[1]\n",
    "cnn_model = CNN(input_dim= n_input, output_dim=1)\n",
    "cnn_model.to(device)\n",
    "learning_rate = 0.008\n",
    "loss_fn = torch.nn.BCELoss(size_average=False)\n",
    "optimiser = torch.optim.Adam(cnn_model.parameters(), lr=learning_rate)"
   ]
  },
  {
   "cell_type": "code",
   "execution_count": null,
   "metadata": {
    "colab": {
     "base_uri": "https://localhost:8080/",
     "height": 527
    },
    "colab_type": "code",
    "id": "sOH4PqE5sGGg",
    "outputId": "f1e0b6d2-32ae-40cf-9a2b-80ca90705c9c"
   },
   "outputs": [
    {
     "name": "stdout",
     "output_type": "stream",
     "text": [
      "epoch 0: 0.098929762840271\n",
      "epoch 1: 0.08346138894557953\n",
      "epoch 2: 0.08070623129606247\n",
      "epoch 3: 0.078996442258358\n",
      "epoch 4: 0.07806582003831863\n",
      "epoch 5: 0.07734573632478714\n",
      "epoch 6: 0.07684843242168427\n",
      "epoch 7: 0.0763840451836586\n",
      "epoch 8: 0.07582369446754456\n",
      "epoch 9: 0.0753263607621193\n",
      "epoch 10: 0.07492119073867798\n",
      "epoch 11: 0.07454755157232285\n",
      "epoch 12: 0.07413537800312042\n",
      "epoch 13: 0.07379821687936783\n",
      "epoch 14: 0.07308073341846466\n",
      "epoch 15: 0.07277193665504456\n",
      "epoch 16: 0.07251884788274765\n",
      "epoch 17: 0.07239980250597\n",
      "epoch 18: 0.0722629725933075\n",
      "epoch 19: 0.07213317602872849\n",
      "epoch 20: 0.07196275144815445\n",
      "epoch 21: 0.07190398126840591\n",
      "epoch 22: 0.07177552580833435\n",
      "epoch 23: 0.07169761508703232\n",
      "epoch 24: 0.07170102745294571\n",
      "epoch 25: 0.07156853377819061\n",
      "epoch 26: 0.07155993580818176\n",
      "epoch 27: 0.07142481952905655\n",
      "epoch 28: 0.07146844267845154\n",
      "epoch 29: 0.07136477530002594\n"
     ]
    }
   ],
   "source": [
    "num_epochs = 30\n",
    "batch_size = 128\n",
    "\n",
    "train_x = torch.tensor(feature_combo_x.astype(float),dtype = torch.float)\n",
    "test_x = torch.tensor(feature_combo_x_test.astype(float),dtype = torch.float)\n",
    "train_y = torch.tensor(y_train,dtype = torch.float)\n",
    "test_y = torch.tensor(y_test,dtype = torch.float)\n",
    "\n",
    "for t in range(num_epochs):\n",
    "    total_loss = 0\n",
    "    for i in range(len(train_x)//batch_size):\n",
    "        optimiser.zero_grad()\n",
    "        batch_data = train_x[i*batch_size:(i+1)*batch_size]\n",
    "        batch_label = train_y[i*batch_size:(i+1)*batch_size]\n",
    "        y_pred = cnn_model(batch_data.float())\n",
    "        # weight = 4 * (batch_label == 1).float() + torch.ones(batch_size, device=device)\n",
    "        loss = torch.nn.BCELoss()(y_pred, batch_label)        #cnn_writer.add_scalar('CNN loss', loss, t * len(train_data)//batch_size +i)\n",
    "        total_loss += loss\n",
    "        loss.backward()\n",
    "        optimiser.step()\n",
    "    print(\"epoch {:d}: {}\".format(t, total_loss/(len(train_data)//batch_size)))"
   ]
  },
  {
   "cell_type": "code",
   "execution_count": null,
   "metadata": {
    "colab": {},
    "colab_type": "code",
    "id": "npNCXongu6J9"
   },
   "outputs": [],
   "source": [
    "torch.save(cnn_model,(str(cnn_model).split()[0][:-1])+'_2')\n",
    "cnn_pred = cnn_model(test_x).cpu()\n",
    "cnn_pred = cnn_pred.data.numpy()\n",
    "fpr_cnn, tpr_cnn, thresholds_cnn = roc_curve(y_test, cnn_pred)\n",
    "cnn_auc = auc(fpr, tpr)"
   ]
  },
  {
   "cell_type": "code",
   "execution_count": null,
   "metadata": {
    "colab": {
     "base_uri": "https://localhost:8080/",
     "height": 34
    },
    "colab_type": "code",
    "id": "ONSLEcFe0cHh",
    "outputId": "4005e7df-66a4-4de5-ea0e-4f63eea79c08"
   },
   "outputs": [
    {
     "name": "stdout",
     "output_type": "stream",
     "text": [
      "Best Threshold=0.000000, G-Mean=0.866\n"
     ]
    }
   ],
   "source": [
    "gmeans = (tpr_cnn * (1-fpr_cnn))** 0.5\n",
    "ix = np.argmax(gmeans)\n",
    "print('Best Threshold=%f, G-Mean=%.3f' % (thresholds[ix], gmeans[ix]))"
   ]
  },
  {
   "cell_type": "code",
   "execution_count": null,
   "metadata": {
    "colab": {
     "base_uri": "https://localhost:8080/",
     "height": 419
    },
    "colab_type": "code",
    "id": "QVlTU3nszgXo",
    "outputId": "2723e9ea-fbb7-439d-cb7b-a5a698e6d109"
   },
   "outputs": [
    {
     "data": {
      "image/png": "[encoded data removed]",
      "text/plain": [
       "<Figure size 576x432 with 1 Axes>"
      ]
     },
     "metadata": {
      "needs_background": "light",
      "tags": []
     },
     "output_type": "display_data"
    }
   ],
   "source": [
    "from sklearn.metrics import roc_auc_score, roc_curve, auc\n",
    "\n",
    "fpr_lr, tpr_lr, thresholds_lr = roc_curve(y_test, prob_lr[:,1])\n",
    "auc_lr = auc(fpr_lr, tpr_lr)\n",
    "\n",
    "fpr_ad, tpr_ad, thresholds_ad = roc_curve(y_test, scores[:,1])\n",
    "auc_ad = auc(fpr_ad, tpr_ad)\n",
    "\n",
    "fpr_xg, tpr_xg, thresholds_xg = roc_curve(y_test, prob)\n",
    "roc_auc_xg = auc(fpr_xg, tpr_xg)\n",
    "\n",
    "fpr_rf, tpr_rf, thresholds_rf = roc_curve(y_test, prob_rf[:,1])\n",
    "roc_auc_rf = auc(fpr_rf, tpr_rf)\n",
    "\n",
    "fpr_ann, tpr_ann, thresholds_ann = roc_curve(y_test, pred_ann)\n",
    "roc_auc_ann = auc(fpr_ann, tpr_ann)\n",
    "\n",
    "fpr_cnn, tpr_cnn, thresholds_cnn = roc_curve(y_test, cnn_pred)\n",
    "cnn_auc = auc(fpr, tpr)\n",
    "\n",
    "plt.figure(figsize= (8,6))\n",
    "\n",
    "lw = 2\n",
    "plt.plot(fpr_ad, tpr_ad, color='darkorange', \n",
    "         lw=lw, label='RUS Adaboost' )\n",
    "\n",
    "plt.plot(fpr_lr, tpr_lr, color='grey', \n",
    "         lw=lw, label='Logisitic Regression')\n",
    "\n",
    "plt.plot(fpr_ann, tpr_ann, color='purple', \n",
    "         lw=lw, label='Artificial Neural Network')\n",
    "\n",
    "plt.plot(fpr_cnn, tpr_cnn, color='cyan', \n",
    "         lw=lw, label='Convolutional Neural Network')\n",
    "\n",
    "plt.plot(fpr_xg, tpr_xg, color='red', \n",
    "         lw=lw, label='Weighted XG Boost')\n",
    "\n",
    "plt.plot(fpr_rf, tpr_rf, color='green', \n",
    "         lw=lw, label='Random Forest')\n",
    "\n",
    "plt.plot([0, 1], [0, 1], color='navy', lw=lw, linestyle='--', label = 'random guess')\n",
    "plt.xlim([-0.02, 1.0])\n",
    "plt.ylim([0.0, 1.05])\n",
    "plt.xlabel('False Positive Rate')\n",
    "plt.ylabel('True Positive Rate')\n",
    "plt.title('Receiver operating characteristic')\n",
    "plt.legend(loc=\"lower right\", prop={'size': 11})\n",
    "plt.show()"
   ]
  },
  {
   "cell_type": "code",
   "execution_count": null,
   "metadata": {
    "colab": {
     "base_uri": "https://localhost:8080/",
     "height": 419
    },
    "colab_type": "code",
    "id": "XN8LKAgiz7L8",
    "outputId": "6d7cfb02-a615-45b2-f8f6-a8ab9f258671"
   },
   "outputs": [
    {
     "data": {
      "image/png": "[encoded data removed]",
      "text/plain": [
       "<Figure size 576x432 with 1 Axes>"
      ]
     },
     "metadata": {
      "needs_background": "light",
      "tags": []
     },
     "output_type": "display_data"
    }
   ],
   "source": [
    "pre_ad, rec_ad, thresholds_ad = precision_recall_curve(\n",
    "    y_test, scores[:,1])\n",
    "\n",
    "pre_xg, rec_xg, thresholds_xg = precision_recall_curve(\n",
    "    y_test, prob)\n",
    "\n",
    "pre_rf, rec_rf, thresholds_rf = precision_recall_curve(\n",
    "    y_test, prob_rf[:,1])\n",
    "\n",
    "pre_lr, rec_lr, thresholds_lr = precision_recall_curve(\n",
    "    y_test, prob_lr[:,1])\n",
    "\n",
    "pre_ann, rec_ann, thresholds_ann = precision_recall_curve(\n",
    "    y_test, pred_ann)\n",
    "\n",
    "pre_cnn, rec_cnn, thresholds_cnn = precision_recall_curve(\n",
    "    y_test, cnn_pred)\n",
    "\n",
    "\n",
    "\n",
    "plt.figure(figsize = (8, 6))\n",
    "plt.rcParams['font.size'] = 16\n",
    "\n",
    "plt.plot(rec_ad, pre_ad, 'darkorange', label='RUS Adaboost')\n",
    "plt.plot(rec_xg, pre_xg, 'red', label='Weighted XG Boost')\n",
    "plt.plot(rec_lr, pre_lr, 'grey', label='Logistic Regression')\n",
    "plt.plot(rec_rf, pre_rf, 'green', label='Random Forest')\n",
    "plt.plot(rec_ann, pre_ann, 'purple', label='Artificial Neural Network')\n",
    "plt.plot(rec_cnn, pre_cnn, 'cyan', label='Convolutional Neural Network')\n",
    "\n",
    "\n",
    "\n",
    "\n",
    "plt.xlabel('Recall') \n",
    "plt.ylabel('Precision')\n",
    "plt.xlim(0,1)\n",
    "plt.ylim(0,1)\n",
    "plt.title('Precision and Recall Curves')\n",
    "plt.legend(loc=\"lower left\", prop={'size': 11})\n",
    "plt.show()"
   ]
  },
  {
   "cell_type": "code",
   "execution_count": null,
   "metadata": {
    "colab": {},
    "colab_type": "code",
    "id": "ITtDubpX6vNc"
   },
   "outputs": [],
   "source": [
    "lr = LogisticRegression(solver='lbfgs', penalty = 'l2', n_jobs = -1, max_iter = 200, C = 500, class_weight = 'balanced')\n",
    "\n",
    "feature_x = np.array(mice_imp_x_df[features_names])\n",
    "feature_x_test = np.array(mice_imp_x_test_df[features_names])\n",
    "feature_x = stadardize(feature_x)\n",
    "feature_x_test = stadardize(feature_x_test)\n",
    "# prob_lr = lr.fit(feature_x, y_train).predict_proba(feature_x_test)\n",
    "# fpr_lr, tpr_lr, thresholds_lr = metrics.roc_curve(y_test, prob_lr[:,1])\n",
    "# metrics.auc(fpr_lr, tpr_lr)"
   ]
  },
  {
   "cell_type": "code",
   "execution_count": null,
   "metadata": {
    "colab": {
     "base_uri": "https://localhost:8080/",
     "height": 34
    },
    "colab_type": "code",
    "id": "Zf4H-Tzhkf4h",
    "outputId": "b90e16cb-3c59-4eae-aef7-c2213944c7ff"
   },
   "outputs": [
    {
     "name": "stdout",
     "output_type": "stream",
     "text": [
      "Mean ROC AUC: 0.939\n"
     ]
    }
   ],
   "source": [
    "\n",
    "# grid search k value for SMOTE oversampling for imbalanced classification\n",
    "from numpy import mean\n",
    "\n",
    "from sklearn.tree import DecisionTreeClassifier\n",
    "from imblearn.pipeline import Pipeline\n",
    "from imblearn.over_sampling import SMOTE\n",
    "from imblearn.under_sampling import RandomUnderSampler\n",
    "\n",
    "\n",
    "over = SMOTE(sampling_strategy=0.1, k_neighbors = 3)\n",
    "under = RandomUnderSampler(sampling_strategy=0.5)\n",
    "steps = [('over', over), ('under', under), ('model', lr)]\n",
    "pipeline = Pipeline(steps=steps)\n",
    "# evaluate pipeline\n",
    "\n",
    "cv = RepeatedStratifiedKFold(n_splits=5, n_repeats=2, random_state=1)\n",
    "scores = cross_val_score(pipeline, feature_x, y_train, scoring='roc_auc', cv=cv, n_jobs=-1)\n",
    "print('Mean ROC AUC: %.3f' % mean(scores))"
   ]
  },
  {
   "cell_type": "code",
   "execution_count": null,
   "metadata": {
    "colab": {
     "base_uri": "https://localhost:8080/",
     "height": 34
    },
    "colab_type": "code",
    "id": "1Icc_Fsw7vlZ",
    "outputId": "29dbe679-ddc6-4b4a-f293-23a36fe6a1ce"
   },
   "outputs": [
    {
     "data": {
      "text/plain": [
       "0.9378416791243942"
      ]
     },
     "execution_count": 89,
     "metadata": {
      "tags": []
     },
     "output_type": "execute_result"
    }
   ],
   "source": [
    "\n",
    "prob_lr2 = pipeline.fit(feature_x, y_train).predict_proba(feature_x_test)\n",
    "fpr_lr2, tpr_lr2, thresholds_lr2 = roc_curve(y_test, prob_lr2[:,1])\n",
    "auc(fpr_lr2, tpr_lr2)"
   ]
  },
  {
   "cell_type": "code",
   "execution_count": 112,
   "metadata": {
    "colab": {
     "base_uri": "https://localhost:8080/",
     "height": 34
    },
    "colab_type": "code",
    "id": "7sjqUxc4CytS",
    "outputId": "2341d1cb-684e-43d5-a8bf-5d53116ae760"
   },
   "outputs": [
    {
     "data": {
      "text/plain": [
       "0.938018283630839"
      ]
     },
     "execution_count": 112,
     "metadata": {
      "tags": []
     },
     "output_type": "execute_result"
    }
   ],
   "source": [
    "auc(fpr_lr, tpr_lr)"
   ]
  },
  {
   "cell_type": "code",
   "execution_count": 113,
   "metadata": {
    "colab": {
     "base_uri": "https://localhost:8080/",
     "height": 310
    },
    "colab_type": "code",
    "id": "E73l8ZUyAg-8",
    "outputId": "a7bab71a-5f7e-4ba7-ede0-9c070013330d"
   },
   "outputs": [
    {
     "data": {
      "image/png": "[encoded data removed]",
      "text/plain": [
       "<Figure size 432x288 with 1 Axes>"
      ]
     },
     "metadata": {
      "needs_background": "light",
      "tags": []
     },
     "output_type": "display_data"
    }
   ],
   "source": [
    "lw = 2\n",
    "\n",
    "\n",
    "plt.plot(fpr_lr, tpr_lr, color='purple', \n",
    "         lw=lw, label='Logistic Regression')\n",
    "\n",
    "plt.plot(fpr_lr2, tpr_lr2, color='green', \n",
    "         lw=lw, label='Logistic Regression with SMOTE')\n",
    "\n",
    "\n",
    "plt.plot([0, 1], [0, 1], color='navy', lw=lw, linestyle='--', label = 'random guess')\n",
    "plt.xlim([-0.02, 1.0])\n",
    "plt.ylim([0.0, 1.05])\n",
    "plt.xlabel('False Positive Rate')\n",
    "plt.ylabel('True Positive Rate')\n",
    "plt.title('ROC Comparasion between LR with SMOTE and without')\n",
    "plt.legend(loc=\"lower right\", prop={'size': 11})\n",
    "plt.show()"
   ]
  },
  {
   "cell_type": "markdown",
   "metadata": {
    "colab_type": "text",
    "id": "JgD_i9tE5fYE"
   },
   "source": [
    "## Predict the real test data\n",
    "\n",
    "\n",
    "* Try three models RUS Adaboost, Xgboost, Random Forest\n",
    "\n",
    "* Predict the scores \n",
    "\n",
    "* Convert the scores to labels and compare the Jacobian difference\n"
   ]
  },
  {
   "cell_type": "code",
   "execution_count": 6,
   "metadata": {
    "colab": {},
    "colab_type": "code",
    "id": "0gUMXfuM39-t"
   },
   "outputs": [],
   "source": [
    "real_test = pd.read_csv('/content/drive/My Drive/Colab Notebooks/project_data/updated_test_data_20200728.csv')\n"
   ]
  },
  {
   "cell_type": "code",
   "execution_count": 7,
   "metadata": {
    "colab": {},
    "colab_type": "code",
    "id": "kb67nt0A0vuk"
   },
   "outputs": [],
   "source": [
    "real_test2 = pd.read_csv('/content/drive/My Drive/Colab Notebooks/project_data/updated_test_data_20200728.csv')\n"
   ]
  },
  {
   "cell_type": "code",
   "execution_count": 8,
   "metadata": {
    "colab": {
     "base_uri": "https://localhost:8080/",
     "height": 34
    },
    "colab_type": "code",
    "id": "BU5Fvjx_1C2v",
    "outputId": "d8141e0d-2419-440f-d76e-f486ce8273fe"
   },
   "outputs": [
    {
     "data": {
      "text/plain": [
       "{'A': 7, 'B': 6, 'C': 5, 'D': 4, 'E': 3, 'F': 2, 'G': 1}"
      ]
     },
     "execution_count": 8,
     "metadata": {
      "tags": []
     },
     "output_type": "execute_result"
    }
   ],
   "source": [
    "grade_keys= sorted(real_test['grade'].unique())\n",
    "grade_values = [i for i in range(len(real_test['grade'].unique()), 0, -1)]\n",
    "match_dict = dict(zip(grade_keys, grade_values))\n",
    "match_dict"
   ]
  },
  {
   "cell_type": "code",
   "execution_count": 9,
   "metadata": {
    "colab": {
     "base_uri": "https://localhost:8080/",
     "height": 102
    },
    "colab_type": "code",
    "id": "ezUPs1Pc9JM1",
    "outputId": "fb460d94-5906-4b10-a56a-e1039b4669ec"
   },
   "outputs": [
    {
     "name": "stderr",
     "output_type": "stream",
     "text": [
      "/usr/local/lib/python3.6/dist-packages/ipykernel_launcher.py:2: SettingWithCopyWarning: \n",
      "A value is trying to be set on a copy of a slice from a DataFrame\n",
      "\n",
      "See the caveats in the documentation: https://pandas.pydata.org/pandas-docs/stable/user_guide/indexing.html#returning-a-view-versus-a-copy\n",
      "  \n"
     ]
    }
   ],
   "source": [
    "for key in match_dict.keys():\n",
    "  real_test['grade'][real_test['grade'] == key] = match_dict[key]"
   ]
  },
  {
   "cell_type": "code",
   "execution_count": 10,
   "metadata": {
    "colab": {
     "base_uri": "https://localhost:8080/",
     "height": 306
    },
    "colab_type": "code",
    "id": "GPYu2PtY9olJ",
    "outputId": "4dedea88-d988-45b8-bbdf-a05889030389"
   },
   "outputs": [
    {
     "name": "stderr",
     "output_type": "stream",
     "text": [
      "/usr/local/lib/python3.6/dist-packages/ipykernel_launcher.py:5: SettingWithCopyWarning: \n",
      "A value is trying to be set on a copy of a slice from a DataFrame\n",
      "\n",
      "See the caveats in the documentation: https://pandas.pydata.org/pandas-docs/stable/user_guide/indexing.html#returning-a-view-versus-a-copy\n",
      "  \"\"\"\n"
     ]
    },
    {
     "data": {
      "text/plain": [
       "0         1\n",
       "1         0\n",
       "2         0\n",
       "3         2\n",
       "4         2\n",
       "         ..\n",
       "211622    1\n",
       "211623    2\n",
       "211624    0\n",
       "211625    2\n",
       "211626    2\n",
       "Name: verification_status, Length: 211627, dtype: object"
      ]
     },
     "execution_count": 10,
     "metadata": {
      "tags": []
     },
     "output_type": "execute_result"
    }
   ],
   "source": [
    "verify_keys= sorted(real_test['verification_status'].unique())\n",
    "verify_values = [0,1,2]\n",
    "match_dict = dict(zip(verify_keys, verify_values))\n",
    "for key in match_dict.keys():\n",
    "  real_test['verification_status'][real_test['verification_status'] == key] = match_dict[key]\n",
    "\n",
    "real_test['verification_status']"
   ]
  },
  {
   "cell_type": "code",
   "execution_count": 12,
   "metadata": {
    "colab": {},
    "colab_type": "code",
    "id": "YgZa4L2Q9ztb"
   },
   "outputs": [],
   "source": [
    "from sklearn.preprocessing import OneHotEncoder\n",
    "enc = OneHotEncoder(handle_unknown='ignore')\n",
    "home_ownership = enc.fit_transform(real_test['home_ownership'].values.reshape(-1,1)).toarray()\n",
    "home_ownership = pd.DataFrame(home_ownership, columns = list(enc.categories_[0]))"
   ]
  },
  {
   "cell_type": "code",
   "execution_count": 13,
   "metadata": {
    "colab": {},
    "colab_type": "code",
    "id": "n2FfQf0V98ZE"
   },
   "outputs": [],
   "source": [
    "purpose = enc.fit_transform(real_test['purpose'].values.reshape(-1,1)).toarray()\n",
    "purpose = pd.DataFrame(purpose, columns = list(enc.categories_[0]))\n"
   ]
  },
  {
   "cell_type": "code",
   "execution_count": null,
   "metadata": {
    "colab": {},
    "colab_type": "code",
    "id": "g3AreL-B_Jfm"
   },
   "outputs": [],
   "source": [
    "data = data.drop(['purpose', 'home_ownership'], axis = 1)\n",
    "data = pd.concat([data,home_ownership, purpose ], axis = 1)\n"
   ]
  }
 ],
 "metadata": {
  "colab": {
   "machine_shape": "hm",
   "name": "RUS AdaBoost and xgboost_with_categorial.ipynb",
   "provenance": []
  },
  "kernelspec": {
   "display_name": "Python 3",
   "language": "python",
   "name": "python3"
  },
  "language_info": {
   "codemirror_mode": {
    "name": "ipython",
    "version": 3
   },
   "file_extension": ".py",
   "mimetype": "text/x-python",
   "name": "python",
   "nbconvert_exporter": "python",
   "pygments_lexer": "ipython3",
   "version": "3.7.4"
  }
 },
 "nbformat": 4,
 "nbformat_minor": 1
}
