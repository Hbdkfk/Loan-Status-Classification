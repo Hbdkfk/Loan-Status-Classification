{
  "nbformat": 4,
  "nbformat_minor": 0,
  "metadata": {
    "colab": {
      "name": "CNN.ipynb",
      "provenance": []
    },
    "kernelspec": {
      "name": "python3",
      "display_name": "Python 3"
    }
  },
  "cells": [
    {
      "cell_type": "code",
      "metadata": {
        "id": "H0gxCixQv2ig",
        "colab_type": "code",
        "colab": {}
      },
      "source": [
        "import pandas as pd\n",
        "import os\n",
        "import numpy as np\n",
        "import random \n",
        "from scipy.stats import multivariate_normal\n",
        "import math\n",
        "import matplotlib.pyplot as plt"
      ],
      "execution_count": null,
      "outputs": []
    },
    {
      "cell_type": "code",
      "metadata": {
        "id": "pBHe8_kkv7i4",
        "colab_type": "code",
        "colab": {
          "base_uri": "https://localhost:8080/",
          "height": 156
        },
        "outputId": "da195092-115a-4a3a-ca9f-ea92ad1534fd"
      },
      "source": [
        "from google.colab import drive\n",
        "drive.mount('/content/drive')\n",
        "train_data = pd.read_csv('/content/drive/My Drive/project_data/train_data.csv')\n",
        "data = train_data.copy()"
      ],
      "execution_count": null,
      "outputs": [
        {
          "output_type": "stream",
          "text": [
            "Go to this URL in a browser: https://accounts.google.com/o/oauth2/auth?client_id=947318989803-6bn6qk8qdgf4n4g3pfee6491hc0brc4i.apps.googleusercontent.com&redirect_uri=urn%3aietf%3awg%3aoauth%3a2.0%3aoob&response_type=code&scope=email%20https%3a%2f%2fwww.googleapis.com%2fauth%2fdocs.test%20https%3a%2f%2fwww.googleapis.com%2fauth%2fdrive%20https%3a%2f%2fwww.googleapis.com%2fauth%2fdrive.photos.readonly%20https%3a%2f%2fwww.googleapis.com%2fauth%2fpeopleapi.readonly\n",
            "\n",
            "Enter your authorization code:\n",
            "··········\n",
            "Mounted at /content/drive\n"
          ],
          "name": "stdout"
        },
        {
          "output_type": "stream",
          "text": [
            "/usr/local/lib/python3.6/dist-packages/IPython/core/interactiveshell.py:2718: DtypeWarning: Columns (19,47,55,112,123,124,125,128,129,130,133,139,140,141) have mixed types.Specify dtype option on import or set low_memory=False.\n",
            "  interactivity=interactivity, compiler=compiler, result=result)\n"
          ],
          "name": "stderr"
        }
      ]
    },
    {
      "cell_type": "code",
      "metadata": {
        "id": "pKKFb35Yv9JE",
        "colab_type": "code",
        "colab": {
          "base_uri": "https://localhost:8080/",
          "height": 419
        },
        "outputId": "577aba4f-ce21-4ded-b563-6289fea8e102"
      },
      "source": [
        "feature_description = pd.read_excel('/content/drive/My Drive/project_data/data_dictionary.xlsx')\n",
        "feature_description"
      ],
      "execution_count": null,
      "outputs": [
        {
          "output_type": "execute_result",
          "data": {
            "text/html": [
              "<div>\n",
              "<style scoped>\n",
              "    .dataframe tbody tr th:only-of-type {\n",
              "        vertical-align: middle;\n",
              "    }\n",
              "\n",
              "    .dataframe tbody tr th {\n",
              "        vertical-align: top;\n",
              "    }\n",
              "\n",
              "    .dataframe thead th {\n",
              "        text-align: right;\n",
              "    }\n",
              "</style>\n",
              "<table border=\"1\" class=\"dataframe\">\n",
              "  <thead>\n",
              "    <tr style=\"text-align: right;\">\n",
              "      <th></th>\n",
              "      <th>LoanStatNew</th>\n",
              "      <th>Description</th>\n",
              "    </tr>\n",
              "  </thead>\n",
              "  <tbody>\n",
              "    <tr>\n",
              "      <th>0</th>\n",
              "      <td>acc_now_delinq</td>\n",
              "      <td>The number of accounts on which the borrower i...</td>\n",
              "    </tr>\n",
              "    <tr>\n",
              "      <th>1</th>\n",
              "      <td>acc_open_past_24mths</td>\n",
              "      <td>Number of trades opened in past 24 months.</td>\n",
              "    </tr>\n",
              "    <tr>\n",
              "      <th>2</th>\n",
              "      <td>addr_state</td>\n",
              "      <td>The state provided by the borrower in the loan...</td>\n",
              "    </tr>\n",
              "    <tr>\n",
              "      <th>3</th>\n",
              "      <td>all_util</td>\n",
              "      <td>Balance to credit limit on all trades</td>\n",
              "    </tr>\n",
              "    <tr>\n",
              "      <th>4</th>\n",
              "      <td>annual_inc</td>\n",
              "      <td>The self-reported annual income provided by th...</td>\n",
              "    </tr>\n",
              "    <tr>\n",
              "      <th>...</th>\n",
              "      <td>...</td>\n",
              "      <td>...</td>\n",
              "    </tr>\n",
              "    <tr>\n",
              "      <th>148</th>\n",
              "      <td>settlement_amount</td>\n",
              "      <td>The loan amount that the borrower has agreed t...</td>\n",
              "    </tr>\n",
              "    <tr>\n",
              "      <th>149</th>\n",
              "      <td>settlement_percentage</td>\n",
              "      <td>The settlement amount as a percentage of the p...</td>\n",
              "    </tr>\n",
              "    <tr>\n",
              "      <th>150</th>\n",
              "      <td>settlement_term</td>\n",
              "      <td>The number of months that the borrower will be...</td>\n",
              "    </tr>\n",
              "    <tr>\n",
              "      <th>151</th>\n",
              "      <td>NaN</td>\n",
              "      <td>NaN</td>\n",
              "    </tr>\n",
              "    <tr>\n",
              "      <th>152</th>\n",
              "      <td>NaN</td>\n",
              "      <td>* Employer Title replaces Employer Name for al...</td>\n",
              "    </tr>\n",
              "  </tbody>\n",
              "</table>\n",
              "<p>153 rows × 2 columns</p>\n",
              "</div>"
            ],
            "text/plain": [
              "               LoanStatNew                                        Description\n",
              "0           acc_now_delinq  The number of accounts on which the borrower i...\n",
              "1     acc_open_past_24mths         Number of trades opened in past 24 months.\n",
              "2               addr_state  The state provided by the borrower in the loan...\n",
              "3                 all_util              Balance to credit limit on all trades\n",
              "4               annual_inc  The self-reported annual income provided by th...\n",
              "..                     ...                                                ...\n",
              "148      settlement_amount  The loan amount that the borrower has agreed t...\n",
              "149  settlement_percentage  The settlement amount as a percentage of the p...\n",
              "150        settlement_term  The number of months that the borrower will be...\n",
              "151                    NaN                                                NaN\n",
              "152                    NaN  * Employer Title replaces Employer Name for al...\n",
              "\n",
              "[153 rows x 2 columns]"
            ]
          },
          "metadata": {
            "tags": []
          },
          "execution_count": 3
        }
      ]
    },
    {
      "cell_type": "code",
      "metadata": {
        "id": "aamcTE07wP5U",
        "colab_type": "code",
        "colab": {}
      },
      "source": [
        "def data_preprocessing(data, miss_threshold, category):\n",
        "    '''\n",
        "    Data: dataframe type original data\n",
        "    miss_threhold: float type, determine whether keep the feature\n",
        "    category: boolean type, determine whether keep categoical data\n",
        "    '''\n",
        "    if category == False: \n",
        "        categorical = []\n",
        "        for name in data.columns:\n",
        "            for x in data[name][data[name].isna() == False]:\n",
        "                if type(x) != str:\n",
        "                    categorical.append(name)\n",
        "                    break\n",
        "        data = data[categorical]\n",
        "                \n",
        "    \n",
        "    data = data[[x for x in data.columns if (sum(data[x].isna())/len(data)) <= miss_threshold]]\n",
        "    unchanged_feature = [x for x in data.columns if len(data[x].unique()) == 1]\n",
        "    data = data.drop(unchanged_feature, axis = 1)\n",
        "    \n",
        "    return data"
      ],
      "execution_count": null,
      "outputs": []
    },
    {
      "cell_type": "code",
      "metadata": {
        "id": "IhdIxezjwQgE",
        "colab_type": "code",
        "colab": {}
      },
      "source": [
        "label = data['loan_status']\n",
        "data = data.drop(['loan_status'], axis = 1)\n",
        "\n",
        "for i in range(len(label)):\n",
        "    if label[i] == 'Charged Off':\n",
        "        label[i] = 1\n",
        "    else:\n",
        "        label[i] = 0\n",
        "\n",
        "import sklearn.model_selection as model_selection\n",
        "\n",
        "X_train, X_test, y_train, y_test = model_selection.train_test_split(data, label, train_size=0.7,test_size=0.3, random_state=101, stratify = label)"
      ],
      "execution_count": null,
      "outputs": []
    },
    {
      "cell_type": "code",
      "metadata": {
        "id": "HVgze48kwefn",
        "colab_type": "code",
        "colab": {}
      },
      "source": [
        "miss_threshold = 0.25\n",
        "category = False\n",
        "X_train = data_preprocessing(X_train, miss_threshold, category)"
      ],
      "execution_count": null,
      "outputs": []
    },
    {
      "cell_type": "code",
      "metadata": {
        "id": "F09I6MDPwg28",
        "colab_type": "code",
        "colab": {}
      },
      "source": [
        "def categorical_check(df, threshold):\n",
        "    non_cate = []\n",
        "    for x in df.columns:\n",
        "        if len(df[x].unique()) >= threshold:\n",
        "            non_cate.append(x)\n",
        "            \n",
        "    return df[non_cate]"
      ],
      "execution_count": null,
      "outputs": []
    },
    {
      "cell_type": "code",
      "metadata": {
        "id": "VeTECiOxwjAy",
        "colab_type": "code",
        "colab": {}
      },
      "source": [
        "threshold = 100\n",
        "numerical = categorical_check(X_train, threshold)\n",
        "numerical3 = numerical.drop(['recoveries', 'out_prncp', 'out_prncp_inv', 'collection_recovery_fee'], axis = 1)\n",
        "numerical_test3 = X_test[numerical3.columns]"
      ],
      "execution_count": null,
      "outputs": []
    },
    {
      "cell_type": "code",
      "metadata": {
        "id": "8BCQQcLSwlCJ",
        "colab_type": "code",
        "colab": {}
      },
      "source": [
        "import numpy as np\n",
        "from sklearn.experimental import enable_iterative_imputer\n",
        "from sklearn.impute import IterativeImputer\n",
        "imp = IterativeImputer(max_iter=100, random_state=0)\n",
        "\n",
        "y_train = np.array(y_train.astype(int))\n",
        "y_test = np.array(y_test.astype(int))\n",
        "\n",
        "mice_imp_x = imp.fit_transform(numerical3, y = y_train)\n",
        "mice_imp_x_test = imp.fit(numerical3, y = y_train).transform(numerical_test3)"
      ],
      "execution_count": null,
      "outputs": []
    },
    {
      "cell_type": "code",
      "metadata": {
        "id": "cX64x2c6wnS9",
        "colab_type": "code",
        "colab": {}
      },
      "source": [
        "from sklearn import preprocessing\n",
        "\n",
        "def stadardize(X):\n",
        "  scaler = preprocessing.StandardScaler().fit(X)\n",
        "  X = scaler.transform(X)\n",
        "  return X"
      ],
      "execution_count": null,
      "outputs": []
    },
    {
      "cell_type": "code",
      "metadata": {
        "id": "4Jp1r-LZwp35",
        "colab_type": "code",
        "colab": {}
      },
      "source": [
        "mice_imp_x = stadardize(mice_imp_x)\n",
        "\n",
        "mice_imp_x_test = stadardize(mice_imp_x_test)"
      ],
      "execution_count": null,
      "outputs": []
    },
    {
      "cell_type": "markdown",
      "metadata": {
        "id": "9heEYpFSw9vX",
        "colab_type": "text"
      },
      "source": [
        "## Convolutional Neural Network\n",
        "\n",
        "\n",
        "##### Structure: \n",
        "\n",
        "ConvNet architectures: Convolutional Layer, Pooling Layer, and Fully-Connected Layer (exactly as seen in regular Neural Networks). We will stack these layers to form a full ConvNet architecture.\n",
        "\n",
        "Example Architecture: Overview. We will go into more details below, but a simple ConvNet for CIFAR-10 classification could have the architecture [INPUT - CONV1 - RELU - CONV2 - RELU - FC - FC]."
      ]
    },
    {
      "cell_type": "code",
      "metadata": {
        "id": "b7cM3ae9w-T5",
        "colab_type": "code",
        "colab": {}
      },
      "source": [
        "import torch\n",
        "import torch.nn as nn\n",
        "import torch.nn.functional as F"
      ],
      "execution_count": null,
      "outputs": []
    },
    {
      "cell_type": "code",
      "metadata": {
        "id": "y2yX887SxB0l",
        "colab_type": "code",
        "colab": {}
      },
      "source": [
        "class CNN(nn.Module):\n",
        "    def __init__(self, input_dim, output_dim):\n",
        "        super(CNN, self).__init__()\n",
        "        kernel_size = 3\n",
        "        self.input_dim = input_dim\n",
        "        self.conv1 = torch.nn.Conv1d(in_channels=1, out_channels=3, kernel_size=kernel_size)\n",
        "        self.conv2 = torch.nn.Conv1d(in_channels=3, out_channels=3, kernel_size=kernel_size)\n",
        "        self.linear1 = nn.Linear((input_dim-2*(kernel_size-1))*3, 10)\n",
        "        self.linear2 = nn.Linear(10, output_dim)\n",
        "        self.sigmoid = nn.Sigmoid()\n",
        "    \n",
        "    def forward(self, input_data):\n",
        "        conv_out1 = self.conv1(input_data.view(input_data.size()[0], 1, input_data.size()[1]))\n",
        "        conv_out1 = nn.ReLU()(conv_out1)\n",
        "        conv_out2 = self.conv2(conv_out1)\n",
        "        conv_out2 = nn.ReLU()(conv_out2)\n",
        "        linear1 = self.linear1(conv_out2.view(conv_out2.size()[0], -1))\n",
        "        linear1 = nn.ReLU()(linear1)\n",
        "        linear2 = self.linear2(linear1)\n",
        "        y_pred = self.sigmoid(linear2)\n",
        "        return y_pred"
      ],
      "execution_count": null,
      "outputs": []
    },
    {
      "cell_type": "code",
      "metadata": {
        "id": "by004TxTxESD",
        "colab_type": "code",
        "colab": {
          "base_uri": "https://localhost:8080/",
          "height": 51
        },
        "outputId": "48ad8c47-148f-4006-e3f3-7c55614302f0"
      },
      "source": [
        "import torch.optim as optim\n",
        "device = torch.device(\"cuda:0\" if torch.cuda.is_available() else \"cpu\")\n",
        "\n",
        "n_input = mice_imp_x.shape[1]\n",
        "cnn_model = CNN(input_dim= n_input, output_dim=1)\n",
        "cnn_model.to(device)\n",
        "learning_rate = 0.008\n",
        "loss_fn = torch.nn.BCELoss(size_average=False)\n",
        "optimiser = torch.optim.Adam(cnn_model.parameters(), lr=learning_rate)"
      ],
      "execution_count": null,
      "outputs": [
        {
          "output_type": "stream",
          "text": [
            "/usr/local/lib/python3.6/dist-packages/torch/nn/_reduction.py:44: UserWarning: size_average and reduce args will be deprecated, please use reduction='sum' instead.\n",
            "  warnings.warn(warning.format(ret))\n"
          ],
          "name": "stderr"
        }
      ]
    },
    {
      "cell_type": "code",
      "metadata": {
        "id": "6F374TROG97o",
        "colab_type": "code",
        "colab": {}
      },
      "source": [
        "device = torch.device(\"cuda:0\" if torch.cuda.is_available() else \"cpu\")\n",
        "criterion = nn.CrossEntropyLoss()"
      ],
      "execution_count": null,
      "outputs": []
    },
    {
      "cell_type": "code",
      "metadata": {
        "id": "Qnm1pYqGGjTa",
        "colab_type": "code",
        "colab": {
          "base_uri": "https://localhost:8080/",
          "height": 751
        },
        "outputId": "0a412cc2-9ea0-4aa4-ac21-59e5e8b9f958"
      },
      "source": [
        "num_epochs = 40\n",
        "batch_size = 128\n",
        "\n",
        "train_x = torch.tensor(mice_imp_x,dtype = torch.float)\n",
        "test_x = torch.tensor(mice_imp_x_test,dtype = torch.float)\n",
        "train_y = torch.tensor(y_train,dtype = torch.float)\n",
        "test_y = torch.tensor(y_test,dtype = torch.float)\n",
        "\n",
        "for t in range(num_epochs):\n",
        "    total_loss = 0\n",
        "    for i in range(len(train_x)//batch_size):\n",
        "        optimiser.zero_grad()\n",
        "        batch_data = train_x[i*batch_size:(i+1)*batch_size]\n",
        "        batch_label = train_y[i*batch_size:(i+1)*batch_size]\n",
        "        y_pred = cnn_model(batch_data.float())\n",
        "        # weight = 4 * (batch_label == 1).float() + torch.ones(batch_size, device=device)\n",
        "        loss = torch.nn.BCELoss()(y_pred, batch_label)        #cnn_writer.add_scalar('CNN loss', loss, t * len(train_data)//batch_size +i)\n",
        "        total_loss += loss\n",
        "        loss.backward()\n",
        "        optimiser.step()\n",
        "    print(\"epoch {:d}: {}\".format(t, total_loss/(len(train_data)//batch_size)))"
      ],
      "execution_count": null,
      "outputs": [
        {
          "output_type": "stream",
          "text": [
            "/usr/local/lib/python3.6/dist-packages/torch/nn/modules/loss.py:529: UserWarning: Using a target size (torch.Size([128])) that is different to the input size (torch.Size([128, 1])) is deprecated. Please ensure they have the same size.\n",
            "  return F.binary_cross_entropy(input, target, weight=self.weight, reduction=self.reduction)\n"
          ],
          "name": "stderr"
        },
        {
          "output_type": "stream",
          "text": [
            "epoch 0: 0.09741280227899551\n",
            "epoch 1: 0.0791642889380455\n",
            "epoch 2: 0.07459075003862381\n",
            "epoch 3: 0.07368170469999313\n",
            "epoch 4: 0.07344461232423782\n",
            "epoch 5: 0.0730099305510521\n",
            "epoch 6: 0.07294480502605438\n",
            "epoch 7: 0.07287263870239258\n",
            "epoch 8: 0.07278874516487122\n",
            "epoch 9: 0.07258531451225281\n",
            "epoch 10: 0.07193247228860855\n",
            "epoch 11: 0.07203179597854614\n",
            "epoch 12: 0.07188287377357483\n",
            "epoch 13: 0.07166395336389542\n",
            "epoch 14: 0.071556955575943\n",
            "epoch 15: 0.07176217436790466\n",
            "epoch 16: 0.07146111130714417\n",
            "epoch 17: 0.0714334100484848\n",
            "epoch 18: 0.0713324323296547\n",
            "epoch 19: 0.07121387124061584\n",
            "epoch 20: 0.07101451605558395\n",
            "epoch 21: 0.07114891707897186\n",
            "epoch 22: 0.07119790464639664\n",
            "epoch 23: 0.07124759256839752\n",
            "epoch 24: 0.07098409533500671\n",
            "epoch 25: 0.07108124345541\n",
            "epoch 26: 0.07057098299264908\n",
            "epoch 27: 0.07091677933931351\n",
            "epoch 28: 0.07081902027130127\n",
            "epoch 29: 0.07074030488729477\n",
            "epoch 30: 0.07067129760980606\n",
            "epoch 31: 0.07075726240873337\n",
            "epoch 32: 0.0706469863653183\n",
            "epoch 33: 0.07070007920265198\n",
            "epoch 34: 0.07068412005901337\n",
            "epoch 35: 0.07054352760314941\n",
            "epoch 36: 0.07054731994867325\n",
            "epoch 37: 0.07058129459619522\n",
            "epoch 38: 0.07058953493833542\n",
            "epoch 39: 0.07070354372262955\n"
          ],
          "name": "stdout"
        }
      ]
    },
    {
      "cell_type": "code",
      "metadata": {
        "id": "0Bu59hIvG_Fk",
        "colab_type": "code",
        "colab": {}
      },
      "source": [
        "torch.save(cnn_model,(str(cnn_model).split()[0][:-1])+'_2')"
      ],
      "execution_count": null,
      "outputs": []
    },
    {
      "cell_type": "code",
      "metadata": {
        "id": "IgA0DQUEOFWy",
        "colab_type": "code",
        "colab": {}
      },
      "source": [
        "pred = cnn_model(test_x).cpu()\n",
        "pred = pred.data.numpy()"
      ],
      "execution_count": null,
      "outputs": []
    },
    {
      "cell_type": "code",
      "metadata": {
        "id": "HLbG33ZkIy-5",
        "colab_type": "code",
        "colab": {}
      },
      "source": [
        "pred = pred.ravel()"
      ],
      "execution_count": null,
      "outputs": []
    },
    {
      "cell_type": "code",
      "metadata": {
        "id": "aQx2FeEeWQqy",
        "colab_type": "code",
        "colab": {
          "base_uri": "https://localhost:8080/",
          "height": 34
        },
        "outputId": "20c40b3b-c971-4ecd-8fae-88631069270c"
      },
      "source": [
        "from sklearn.metrics import roc_auc_score, roc_curve, auc\n",
        "\n",
        "fpr, tpr, thresholds = roc_curve(y_test, pred)\n",
        "auc(fpr, tpr)"
      ],
      "execution_count": null,
      "outputs": [
        {
          "output_type": "execute_result",
          "data": {
            "text/plain": [
              "0.9491397918961059"
            ]
          },
          "metadata": {
            "tags": []
          },
          "execution_count": 20
        }
      ]
    },
    {
      "cell_type": "code",
      "metadata": {
        "id": "RqOBec4pE5IZ",
        "colab_type": "code",
        "colab": {}
      },
      "source": [
        "fpr, tpr, _ = roc_curve(y_test.ravel(), pred.ravel())\n",
        "roc_auc = auc(fpr, tpr)"
      ],
      "execution_count": null,
      "outputs": []
    },
    {
      "cell_type": "code",
      "metadata": {
        "id": "IRpu-H0FE8V0",
        "colab_type": "code",
        "colab": {
          "base_uri": "https://localhost:8080/",
          "height": 404
        },
        "outputId": "0123b472-712a-47c3-a8e1-79b272c1cd3b"
      },
      "source": [
        "plt.figure(figsize= (8,6))\n",
        "\n",
        "lw = 2\n",
        "plt.plot(fpr, tpr, color='darkorange', \n",
        "         lw=lw, label='ROC curve (area = %0.2f)' % roc_auc)\n",
        "plt.plot([0, 1], [0, 1], color='navy', lw=lw, linestyle='--')\n",
        "plt.xlim([-0.02, 1.0])\n",
        "plt.ylim([0.0, 1.05])\n",
        "plt.xlabel('False Positive Rate')\n",
        "plt.ylabel('True Positive Rate')\n",
        "plt.title('Receiver operating characteristic for CNN model')\n",
        "plt.legend(loc=\"lower right\")\n",
        "plt.show()"
      ],
      "execution_count": null,
      "outputs": [
        {
          "output_type": "display_data",
          "data": {
            "image/png": "[encoded data removed]",
            "text/plain": [
              "<Figure size 576x432 with 1 Axes>"
            ]
          },
          "metadata": {
            "tags": [],
            "needs_background": "light"
          }
        }
      ]
    },
    {
      "cell_type": "code",
      "metadata": {
        "id": "Gu8uL8XBDtry",
        "colab_type": "code",
        "colab": {
          "base_uri": "https://localhost:8080/",
          "height": 34
        },
        "outputId": "a5876dd0-3475-4ae0-cce0-140b2468500e"
      },
      "source": [
        "roc_auc_score(y_test, pred)"
      ],
      "execution_count": null,
      "outputs": [
        {
          "output_type": "execute_result",
          "data": {
            "text/plain": [
              "0.9491397918961059"
            ]
          },
          "metadata": {
            "tags": []
          },
          "execution_count": 23
        }
      ]
    },
    {
      "cell_type": "markdown",
      "metadata": {
        "id": "K0Qv9gQMDffv",
        "colab_type": "text"
      },
      "source": [
        "### Select the best threshold to determine the label"
      ]
    },
    {
      "cell_type": "code",
      "metadata": {
        "id": "haNbDA2eIUyE",
        "colab_type": "code",
        "colab": {}
      },
      "source": [
        "def pred_convert(pred, threshold):\n",
        "\n",
        "  result = np.array([0 for _ in range(len(pred))])\n",
        "  result[pred.flatten() > threshold] = 1\n",
        "  return result"
      ],
      "execution_count": null,
      "outputs": []
    },
    {
      "cell_type": "code",
      "metadata": {
        "id": "1EX4dj_4JF0b",
        "colab_type": "code",
        "colab": {}
      },
      "source": [
        "from numpy import arange\n",
        "\n",
        "threshold = arange(0, 1, 0.01)\n",
        "auc_dict = {}\n",
        "for x in threshold:\n",
        "  y_hat = pred_convert(pred, x)\n",
        "  auc_dict[x] = roc_auc_score(y_test, y_hat)\n",
        "\n",
        "auc_dict = {k: v for k, v in sorted(auc_dict.items(), key=lambda item: item[1], reverse = True)}\n"
      ],
      "execution_count": null,
      "outputs": []
    },
    {
      "cell_type": "code",
      "metadata": {
        "id": "0b0KqBEmNhGg",
        "colab_type": "code",
        "colab": {
          "base_uri": "https://localhost:8080/",
          "height": 34
        },
        "outputId": "11b934d3-7c23-45a3-c2ad-6d04df71fbc0"
      },
      "source": [
        "gmeans = (tpr * (1-fpr))** 0.5\n",
        "ix = np.argmax(gmeans)\n",
        "print('Best Threshold=%f, G-Mean=%.3f' % (thresholds[ix], gmeans[ix]))"
      ],
      "execution_count": null,
      "outputs": [
        {
          "output_type": "stream",
          "text": [
            "Best Threshold=0.055948, G-Mean=0.860\n"
          ],
          "name": "stdout"
        }
      ]
    },
    {
      "cell_type": "code",
      "metadata": {
        "id": "zgX3V17fhdXo",
        "colab_type": "code",
        "colab": {}
      },
      "source": [
        "label = pred_convert(pred, 0.055)"
      ],
      "execution_count": null,
      "outputs": []
    },
    {
      "cell_type": "code",
      "metadata": {
        "id": "h9yimdb3-A01",
        "colab_type": "code",
        "colab": {
          "base_uri": "https://localhost:8080/",
          "height": 34
        },
        "outputId": "05ea7bf3-738d-4569-a946-426f03564fe8"
      },
      "source": [
        "fpr, tpr, _ = roc_curve(y_test, label)\n",
        "print('The best AUC threhold 0.05 is {}.'.format(auc(fpr, tpr)))"
      ],
      "execution_count": null,
      "outputs": [
        {
          "output_type": "stream",
          "text": [
            "The best AUC threhold 0.05 is 0.8600036340001063.\n"
          ],
          "name": "stdout"
        }
      ]
    },
    {
      "cell_type": "code",
      "metadata": {
        "id": "ucZQRPSy-zEh",
        "colab_type": "code",
        "colab": {
          "base_uri": "https://localhost:8080/",
          "height": 419
        },
        "outputId": "0c16e992-36d5-4772-99b1-55a4a75573e2"
      },
      "source": [
        "from sklearn.metrics import precision_recall_curve\n",
        "\n",
        "precision, recall, thresholds = precision_recall_curve(\n",
        "    y_test, pred)\n",
        "\n",
        "\n",
        "\n",
        "plt.figure(figsize = (8, 6))\n",
        "plt.rcParams['font.size'] = 16\n",
        "plt.plot(recall, precision, 'r', label='Precision-Recall Curve for CNN')\n",
        "plt.xlabel('Recall') \n",
        "plt.ylabel('Precision')\n",
        "plt.xlim(0,1)\n",
        "plt.ylim(0,1)\n",
        "plt.title('Precision Recall Curves')\n",
        "plt.legend(loc=\"lower left\")\n",
        "plt.show()"
      ],
      "execution_count": null,
      "outputs": [
        {
          "output_type": "display_data",
          "data": {
            "image/png": "[encoded data removed]",
            "text/plain": [
              "<Figure size 576x432 with 1 Axes>"
            ]
          },
          "metadata": {
            "tags": [],
            "needs_background": "light"
          }
        }
      ]
    },
    {
      "cell_type": "code",
      "metadata": {
        "id": "gLxvFq97_0Kt",
        "colab_type": "code",
        "colab": {
          "base_uri": "https://localhost:8080/",
          "height": 662
        },
        "outputId": "ccb41bbf-9fc1-45a2-96bd-7cc414efac63"
      },
      "source": [
        "from sklearn.metrics import confusion_matrix\n",
        "import itertools\n",
        "\n",
        "def plot_confusion_matrix(cm, classes,\n",
        "                          normalize=False,\n",
        "                          title='Confusion matrix',\n",
        "                          cmap=plt.cm.Oranges):\n",
        "    \"\"\"\n",
        "    This function prints and plots the confusion matrix.\n",
        "    Normalization can be applied by setting `normalize=True`.\n",
        "    Source: http://scikit-learn.org/stable/auto_examples/model_selection/plot_confusion_matrix.html\n",
        "    \"\"\"\n",
        "    if normalize:\n",
        "        cm = cm.astype('float') / cm.sum(axis=1)[:, np.newaxis]\n",
        "        print(\"Normalized confusion matrix\")\n",
        "    else:\n",
        "        print('Confusion matrix, without normalization')\n",
        "\n",
        "    print(cm)\n",
        "\n",
        "    # Plot the confusion matrix\n",
        "    plt.figure(figsize = (10, 10))\n",
        "    plt.imshow(cm, interpolation='nearest', cmap=cmap)\n",
        "    plt.title(title, size = 24)\n",
        "    plt.colorbar(aspect=4)\n",
        "    tick_marks = np.arange(len(classes))\n",
        "    plt.xticks(tick_marks, classes, rotation=45, size = 14)\n",
        "    plt.yticks(tick_marks, classes, size = 14)\n",
        "\n",
        "    fmt = '.2f' if normalize else 'd'\n",
        "    thresh = cm.max() / 2.\n",
        "    \n",
        "    # Labeling the plot\n",
        "    for i, j in itertools.product(range(cm.shape[0]), range(cm.shape[1])):\n",
        "        plt.text(j, i, format(cm[i, j], fmt), fontsize = 20,\n",
        "                 horizontalalignment=\"center\",\n",
        "                 color=\"white\" if cm[i, j] > thresh else \"black\")\n",
        "        \n",
        "    plt.grid(None)\n",
        "    plt.tight_layout()\n",
        "    plt.ylabel('True label', size = 18)\n",
        "    plt.xlabel('Predicted label', size = 18)\n",
        "\n",
        "# Confusion matrix\n",
        "cm = confusion_matrix(y_test, label)\n",
        "plot_confusion_matrix(cm, classes = ['0', '1'], normalize = True, \n",
        "                      title = 'Confusion Matrix')"
      ],
      "execution_count": null,
      "outputs": [
        {
          "output_type": "stream",
          "text": [
            "Normalized confusion matrix\n",
            "[[0.87625571 0.12374429]\n",
            " [0.15624844 0.84375156]]\n"
          ],
          "name": "stdout"
        },
        {
          "output_type": "display_data",
          "data": {
            "image/png": "[encoded data removed]",
            "text/plain": [
              "<Figure size 720x720 with 2 Axes>"
            ]
          },
          "metadata": {
            "tags": [],
            "needs_background": "light"
          }
        }
      ]
    },
    {
      "cell_type": "markdown",
      "metadata": {
        "id": "59h2xlPl1mYm",
        "colab_type": "text"
      },
      "source": [
        "Code Reference: http://scikit-learn.org/stable/auto_examples/model_selection/plot_confusion_matrix.html"
      ]
    },
    {
      "cell_type": "code",
      "metadata": {
        "id": "J90FekTYEL0G",
        "colab_type": "code",
        "colab": {}
      },
      "source": [
        ""
      ],
      "execution_count": null,
      "outputs": []
    }
  ]
}