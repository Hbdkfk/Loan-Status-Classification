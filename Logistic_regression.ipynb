{
  "nbformat": 4,
  "nbformat_minor": 0,
  "metadata": {
    "colab": {
      "name": "Logistic_regression",
      "provenance": [],
      "toc_visible": true
    },
    "kernelspec": {
      "name": "python3",
      "display_name": "Python 3"
    }
  },
  "cells": [
    {
      "cell_type": "code",
      "metadata": {
        "id": "xfe1XkpZ6jvC",
        "colab_type": "code",
        "colab": {}
      },
      "source": [
        "import pandas as pd\n",
        "import os\n",
        "import numpy as np\n",
        "import random \n",
        "from scipy.stats import multivariate_normal\n",
        "import math\n",
        "import matplotlib.pyplot as plt"
      ],
      "execution_count": 1,
      "outputs": []
    },
    {
      "cell_type": "code",
      "metadata": {
        "id": "3dDg6Sor6sq4",
        "colab_type": "code",
        "colab": {
          "base_uri": "https://localhost:8080/",
          "height": 88
        },
        "outputId": "23754fdc-71c5-4873-9c0d-f4d7b8be4bbe"
      },
      "source": [
        "from google.colab import drive\n",
        "drive.mount('/content/drive')\n",
        "train_data = pd.read_csv('/content/drive/My Drive/project_data/train_data.csv')\n",
        "data = train_data.copy()"
      ],
      "execution_count": 2,
      "outputs": [
        {
          "output_type": "stream",
          "text": [
            "Drive already mounted at /content/drive; to attempt to forcibly remount, call drive.mount(\"/content/drive\", force_remount=True).\n"
          ],
          "name": "stdout"
        },
        {
          "output_type": "stream",
          "text": [
            "/usr/local/lib/python3.6/dist-packages/IPython/core/interactiveshell.py:2718: DtypeWarning: Columns (19,47,55,112,123,124,125,128,129,130,133,139,140,141) have mixed types.Specify dtype option on import or set low_memory=False.\n",
            "  interactivity=interactivity, compiler=compiler, result=result)\n"
          ],
          "name": "stderr"
        }
      ]
    },
    {
      "cell_type": "code",
      "metadata": {
        "id": "vXVy7Wa06vBg",
        "colab_type": "code",
        "colab": {
          "base_uri": "https://localhost:8080/",
          "height": 419
        },
        "outputId": "2dc3bdf0-0bf0-4fc3-853d-c519038f3559"
      },
      "source": [
        "feature_description = pd.read_excel('/content/drive/My Drive/project_data/data_dictionary.xlsx')\n",
        "feature_description"
      ],
      "execution_count": 4,
      "outputs": [
        {
          "output_type": "execute_result",
          "data": {
            "text/html": [
              "<div>\n",
              "<style scoped>\n",
              "    .dataframe tbody tr th:only-of-type {\n",
              "        vertical-align: middle;\n",
              "    }\n",
              "\n",
              "    .dataframe tbody tr th {\n",
              "        vertical-align: top;\n",
              "    }\n",
              "\n",
              "    .dataframe thead th {\n",
              "        text-align: right;\n",
              "    }\n",
              "</style>\n",
              "<table border=\"1\" class=\"dataframe\">\n",
              "  <thead>\n",
              "    <tr style=\"text-align: right;\">\n",
              "      <th></th>\n",
              "      <th>LoanStatNew</th>\n",
              "      <th>Description</th>\n",
              "    </tr>\n",
              "  </thead>\n",
              "  <tbody>\n",
              "    <tr>\n",
              "      <th>0</th>\n",
              "      <td>acc_now_delinq</td>\n",
              "      <td>The number of accounts on which the borrower i...</td>\n",
              "    </tr>\n",
              "    <tr>\n",
              "      <th>1</th>\n",
              "      <td>acc_open_past_24mths</td>\n",
              "      <td>Number of trades opened in past 24 months.</td>\n",
              "    </tr>\n",
              "    <tr>\n",
              "      <th>2</th>\n",
              "      <td>addr_state</td>\n",
              "      <td>The state provided by the borrower in the loan...</td>\n",
              "    </tr>\n",
              "    <tr>\n",
              "      <th>3</th>\n",
              "      <td>all_util</td>\n",
              "      <td>Balance to credit limit on all trades</td>\n",
              "    </tr>\n",
              "    <tr>\n",
              "      <th>4</th>\n",
              "      <td>annual_inc</td>\n",
              "      <td>The self-reported annual income provided by th...</td>\n",
              "    </tr>\n",
              "    <tr>\n",
              "      <th>...</th>\n",
              "      <td>...</td>\n",
              "      <td>...</td>\n",
              "    </tr>\n",
              "    <tr>\n",
              "      <th>148</th>\n",
              "      <td>settlement_amount</td>\n",
              "      <td>The loan amount that the borrower has agreed t...</td>\n",
              "    </tr>\n",
              "    <tr>\n",
              "      <th>149</th>\n",
              "      <td>settlement_percentage</td>\n",
              "      <td>The settlement amount as a percentage of the p...</td>\n",
              "    </tr>\n",
              "    <tr>\n",
              "      <th>150</th>\n",
              "      <td>settlement_term</td>\n",
              "      <td>The number of months that the borrower will be...</td>\n",
              "    </tr>\n",
              "    <tr>\n",
              "      <th>151</th>\n",
              "      <td>NaN</td>\n",
              "      <td>NaN</td>\n",
              "    </tr>\n",
              "    <tr>\n",
              "      <th>152</th>\n",
              "      <td>NaN</td>\n",
              "      <td>* Employer Title replaces Employer Name for al...</td>\n",
              "    </tr>\n",
              "  </tbody>\n",
              "</table>\n",
              "<p>153 rows × 2 columns</p>\n",
              "</div>"
            ],
            "text/plain": [
              "               LoanStatNew                                        Description\n",
              "0           acc_now_delinq  The number of accounts on which the borrower i...\n",
              "1     acc_open_past_24mths         Number of trades opened in past 24 months.\n",
              "2               addr_state  The state provided by the borrower in the loan...\n",
              "3                 all_util              Balance to credit limit on all trades\n",
              "4               annual_inc  The self-reported annual income provided by th...\n",
              "..                     ...                                                ...\n",
              "148      settlement_amount  The loan amount that the borrower has agreed t...\n",
              "149  settlement_percentage  The settlement amount as a percentage of the p...\n",
              "150        settlement_term  The number of months that the borrower will be...\n",
              "151                    NaN                                                NaN\n",
              "152                    NaN  * Employer Title replaces Employer Name for al...\n",
              "\n",
              "[153 rows x 2 columns]"
            ]
          },
          "metadata": {
            "tags": []
          },
          "execution_count": 4
        }
      ]
    },
    {
      "cell_type": "markdown",
      "metadata": {
        "id": "1kcjVgUY69VD",
        "colab_type": "text"
      },
      "source": [
        "## Data Preprocessing"
      ]
    },
    {
      "cell_type": "code",
      "metadata": {
        "id": "YlxevfQs69vz",
        "colab_type": "code",
        "colab": {}
      },
      "source": [
        "def data_preprocessing(data, miss_threshold, category):\n",
        "    '''\n",
        "    Data: dataframe type original data\n",
        "    miss_threhold: float type, determine whether keep the feature\n",
        "    category: boolean type, determine whether keep categoical data\n",
        "    '''\n",
        "    if category == False: \n",
        "        categorical = []\n",
        "        for name in data.columns:\n",
        "            for x in data[name][data[name].isna() == False]:\n",
        "                if type(x) != str:\n",
        "                    categorical.append(name)\n",
        "                    break\n",
        "        data = data[categorical]\n",
        "                \n",
        "    \n",
        "    data = data[[x for x in data.columns if (sum(data[x].isna())/len(data)) <= miss_threshold]]\n",
        "    unchanged_feature = [x for x in data.columns if len(data[x].unique()) == 1]\n",
        "    data = data.drop(unchanged_feature, axis = 1)\n",
        "    \n",
        "    return data"
      ],
      "execution_count": 3,
      "outputs": []
    },
    {
      "cell_type": "code",
      "metadata": {
        "id": "CtqlJz6O7APf",
        "colab_type": "code",
        "colab": {}
      },
      "source": [
        "label = data['loan_status']\n",
        "data = data.drop(['loan_status'], axis = 1)\n",
        "\n",
        "for i in range(len(label)):\n",
        "    if label[i] == 'Charged Off':\n",
        "        label[i] = 1\n",
        "    else:\n",
        "        label[i] = 0\n",
        "\n",
        "import sklearn.model_selection as model_selection\n",
        "\n",
        "X_train, X_test, y_train, y_test = model_selection.train_test_split(data, label, train_size=0.7,test_size=0.3, random_state=101, stratify = label)"
      ],
      "execution_count": 4,
      "outputs": []
    },
    {
      "cell_type": "code",
      "metadata": {
        "id": "d0wqjZ7d7DcP",
        "colab_type": "code",
        "colab": {}
      },
      "source": [
        "miss_threshold = 0.25\n",
        "category = False\n",
        "X_train = data_preprocessing(X_train, miss_threshold, category)"
      ],
      "execution_count": 5,
      "outputs": []
    },
    {
      "cell_type": "code",
      "metadata": {
        "id": "w-VAkJ4S7HHe",
        "colab_type": "code",
        "colab": {}
      },
      "source": [
        "def categorical_check(df, threshold):\n",
        "    non_cate = []\n",
        "    for x in df.columns:\n",
        "        if len(df[x].unique()) >= threshold:\n",
        "            non_cate.append(x)\n",
        "    return df[non_cate]"
      ],
      "execution_count": 6,
      "outputs": []
    },
    {
      "cell_type": "code",
      "metadata": {
        "id": "Dp4_8NNA7KBa",
        "colab_type": "code",
        "colab": {}
      },
      "source": [
        "threshold = 100\n",
        "numerical = categorical_check(X_train, threshold)\n",
        "numerical3 = numerical.drop(['recoveries', 'out_prncp', 'out_prncp_inv', 'collection_recovery_fee'], axis = 1)\n",
        "numerical_test3 = X_test[numerical3.columns]"
      ],
      "execution_count": 7,
      "outputs": []
    },
    {
      "cell_type": "code",
      "metadata": {
        "id": "nd15dTo87MMI",
        "colab_type": "code",
        "colab": {}
      },
      "source": [
        "import numpy as np\n",
        "from sklearn.experimental import enable_iterative_imputer\n",
        "from sklearn.impute import IterativeImputer\n",
        "imp = IterativeImputer(max_iter=100, random_state=0)\n",
        "\n",
        "y_train = np.array(y_train.astype(int))\n",
        "y_test = np.array(y_test.astype(int))\n",
        "\n",
        "mice_imp_x = imp.fit_transform(numerical3, y = y_train)\n",
        "mice_imp_x_test = imp.fit(numerical3, y = y_train).transform(numerical_test3)"
      ],
      "execution_count": 8,
      "outputs": []
    },
    {
      "cell_type": "code",
      "metadata": {
        "id": "HzoAVjGEmkRk",
        "colab_type": "code",
        "colab": {}
      },
      "source": [
        "mice_imp_x_df = pd.DataFrame(mice_imp_x, columns=numerical3.columns)"
      ],
      "execution_count": 11,
      "outputs": []
    },
    {
      "cell_type": "code",
      "metadata": {
        "id": "5ro9ydbUmWjG",
        "colab_type": "code",
        "colab": {
          "base_uri": "https://localhost:8080/",
          "height": 71
        },
        "outputId": "cc2aa6bd-fd02-484e-b93c-57e5f43e333a"
      },
      "source": [
        "from scipy.cluster import hierarchy\n",
        "def corr_ord(df):\n",
        "  cov = np.cov(df, rowvar = False)\n",
        "  order = np.array(hierarchy.dendrogram(hierarchy.ward(cov), no_plot = True)['ivl'], dtype= 'int')\n",
        "  order_features = []\n",
        "  for x in order:\n",
        "    for i, name in enumerate(list(df.columns)):\n",
        "      if x == i:\n",
        "        order_features.append(name)\n",
        "        break\n",
        "  return df[order_features]\n",
        "\n",
        "\n",
        "import seaborn as sns\n",
        "import matplotlib.pyplot as plt\n",
        "\n",
        "# plt.figure(figsize=(12,10))\n",
        "# sns.heatmap(corr_ord(df).corr(), annot = True, fmt='.1g')"
      ],
      "execution_count": 12,
      "outputs": [
        {
          "output_type": "stream",
          "text": [
            "/usr/local/lib/python3.6/dist-packages/statsmodels/tools/_testing.py:19: FutureWarning: pandas.util.testing is deprecated. Use the functions in the public API at pandas.testing instead.\n",
            "  import pandas.util.testing as tm\n"
          ],
          "name": "stderr"
        }
      ]
    },
    {
      "cell_type": "code",
      "metadata": {
        "id": "8zE-XTEBrwzg",
        "colab_type": "code",
        "colab": {
          "base_uri": "https://localhost:8080/",
          "height": 996
        },
        "outputId": "8d1afc17-f0d7-4c9f-d988-dbaf42b20d78"
      },
      "source": [
        "plt.figure(figsize=(15,15))\n",
        "sns.heatmap(corr_ord(mice_imp_x_df).corr())"
      ],
      "execution_count": 14,
      "outputs": [
        {
          "output_type": "execute_result",
          "data": {
            "text/plain": [
              "<matplotlib.axes._subplots.AxesSubplot at 0x7f37985f7b00>"
            ]
          },
          "metadata": {
            "tags": []
          },
          "execution_count": 14
        },
        {
          "output_type": "display_data",
          "data": {
            "image/png": "[encoded data removed]",
            "text/plain": [
              "<Figure size 1080x1080 with 2 Axes>"
            ]
          },
          "metadata": {
            "tags": [],
            "needs_background": "light"
          }
        }
      ]
    },
    {
      "cell_type": "code",
      "metadata": {
        "id": "KO_3Tl7hvwYi",
        "colab_type": "code",
        "colab": {}
      },
      "source": [
        "import seaborn as sns\n",
        "\n",
        "sns.heatmap(train_data.isnull(), cbar=False)\n"
      ],
      "execution_count": null,
      "outputs": []
    },
    {
      "cell_type": "code",
      "metadata": {
        "id": "N7aINhKpyZOo",
        "colab_type": "code",
        "colab": {
          "base_uri": "https://localhost:8080/",
          "height": 221
        },
        "outputId": "865c6f8c-6d3c-4755-e298-c0ef65abdc28"
      },
      "source": [
        "train_data.isnull().sum()"
      ],
      "execution_count": 4,
      "outputs": [
        {
          "output_type": "execute_result",
          "data": {
            "text/plain": [
              "id                       1827125\n",
              "member_id                1827125\n",
              "loan_amnt                      0\n",
              "funded_amnt                    0\n",
              "funded_amnt_inv                0\n",
              "                          ...   \n",
              "settlement_status        1810175\n",
              "settlement_date          1810175\n",
              "settlement_amount        1810175\n",
              "settlement_percentage    1810175\n",
              "settlement_term          1810175\n",
              "Length: 145, dtype: int64"
            ]
          },
          "metadata": {
            "tags": []
          },
          "execution_count": 4
        }
      ]
    },
    {
      "cell_type": "code",
      "metadata": {
        "id": "GwIefZJ08QKz",
        "colab_type": "code",
        "colab": {
          "base_uri": "https://localhost:8080/",
          "height": 516
        },
        "outputId": "3e65dcc5-1a6f-4924-f0d7-46bee8eb1505"
      },
      "source": [
        "import xgboost as xgb\n",
        "dtrain = xgb.DMatrix(mice_imp_x, y_train)\n",
        "param = {'max_depth':4, 'objective':'binary:logistic', 'nthread': 8, 'eval_metric': 'auc' , 'learning_rate': 0.5, 'n_estimators': 50, 'n_jobs': -1 }\n",
        "\n",
        "num_round = 300\n",
        "bst = xgb.train(param, dtrain, num_round)\n",
        "\n",
        "feature_important = bst.get_score(importance_type='weight')\n",
        "keys = list(feature_important.keys())\n",
        "values = list(feature_important.values())\n",
        "\n",
        "feature_importance = pd.DataFrame(data=values, index=keys, columns=[\"score\"]).sort_values(by = \"score\", ascending=True)\n",
        "feature_importance.plot(kind='barh', grid=True, figsize = (10,8), alpha = 0.8, legend = True, title = 'Feature importance selected by xgboost')"
      ],
      "execution_count": 12,
      "outputs": [
        {
          "output_type": "execute_result",
          "data": {
            "text/plain": [
              "<matplotlib.axes._subplots.AxesSubplot at 0x7f7266b059e8>"
            ]
          },
          "metadata": {
            "tags": []
          },
          "execution_count": 12
        },
        {
          "output_type": "display_data",
          "data": {
            "image/png": "[encoded data removed]",
            "text/plain": [
              "<Figure size 720x576 with 1 Axes>"
            ]
          },
          "metadata": {
            "tags": [],
            "needs_background": "light"
          }
        }
      ]
    },
    {
      "cell_type": "code",
      "metadata": {
        "id": "-nNi3hHzCFek",
        "colab_type": "code",
        "colab": {
          "base_uri": "https://localhost:8080/",
          "height": 1000
        },
        "outputId": "70451f7c-a98c-48bf-ff6c-4dd0e0472fbf"
      },
      "source": [
        "feature_importance"
      ],
      "execution_count": 13,
      "outputs": [
        {
          "output_type": "execute_result",
          "data": {
            "text/html": [
              "<div>\n",
              "<style scoped>\n",
              "    .dataframe tbody tr th:only-of-type {\n",
              "        vertical-align: middle;\n",
              "    }\n",
              "\n",
              "    .dataframe tbody tr th {\n",
              "        vertical-align: top;\n",
              "    }\n",
              "\n",
              "    .dataframe thead th {\n",
              "        text-align: right;\n",
              "    }\n",
              "</style>\n",
              "<table border=\"1\" class=\"dataframe\">\n",
              "  <thead>\n",
              "    <tr style=\"text-align: right;\">\n",
              "      <th></th>\n",
              "      <th>score</th>\n",
              "    </tr>\n",
              "  </thead>\n",
              "  <tbody>\n",
              "    <tr>\n",
              "      <th>f1</th>\n",
              "      <td>2</td>\n",
              "    </tr>\n",
              "    <tr>\n",
              "      <th>f22</th>\n",
              "      <td>2</td>\n",
              "    </tr>\n",
              "    <tr>\n",
              "      <th>f28</th>\n",
              "      <td>7</td>\n",
              "    </tr>\n",
              "    <tr>\n",
              "      <th>f31</th>\n",
              "      <td>11</td>\n",
              "    </tr>\n",
              "    <tr>\n",
              "      <th>f16</th>\n",
              "      <td>16</td>\n",
              "    </tr>\n",
              "    <tr>\n",
              "      <th>f17</th>\n",
              "      <td>16</td>\n",
              "    </tr>\n",
              "    <tr>\n",
              "      <th>f33</th>\n",
              "      <td>21</td>\n",
              "    </tr>\n",
              "    <tr>\n",
              "      <th>f30</th>\n",
              "      <td>21</td>\n",
              "    </tr>\n",
              "    <tr>\n",
              "      <th>f21</th>\n",
              "      <td>22</td>\n",
              "    </tr>\n",
              "    <tr>\n",
              "      <th>f26</th>\n",
              "      <td>22</td>\n",
              "    </tr>\n",
              "    <tr>\n",
              "      <th>f25</th>\n",
              "      <td>22</td>\n",
              "    </tr>\n",
              "    <tr>\n",
              "      <th>f9</th>\n",
              "      <td>24</td>\n",
              "    </tr>\n",
              "    <tr>\n",
              "      <th>f35</th>\n",
              "      <td>24</td>\n",
              "    </tr>\n",
              "    <tr>\n",
              "      <th>f18</th>\n",
              "      <td>27</td>\n",
              "    </tr>\n",
              "    <tr>\n",
              "      <th>f19</th>\n",
              "      <td>27</td>\n",
              "    </tr>\n",
              "    <tr>\n",
              "      <th>f7</th>\n",
              "      <td>28</td>\n",
              "    </tr>\n",
              "    <tr>\n",
              "      <th>f27</th>\n",
              "      <td>30</td>\n",
              "    </tr>\n",
              "    <tr>\n",
              "      <th>f29</th>\n",
              "      <td>30</td>\n",
              "    </tr>\n",
              "    <tr>\n",
              "      <th>f34</th>\n",
              "      <td>31</td>\n",
              "    </tr>\n",
              "    <tr>\n",
              "      <th>f8</th>\n",
              "      <td>31</td>\n",
              "    </tr>\n",
              "    <tr>\n",
              "      <th>f32</th>\n",
              "      <td>32</td>\n",
              "    </tr>\n",
              "    <tr>\n",
              "      <th>f20</th>\n",
              "      <td>32</td>\n",
              "    </tr>\n",
              "    <tr>\n",
              "      <th>f23</th>\n",
              "      <td>35</td>\n",
              "    </tr>\n",
              "    <tr>\n",
              "      <th>f6</th>\n",
              "      <td>50</td>\n",
              "    </tr>\n",
              "    <tr>\n",
              "      <th>f24</th>\n",
              "      <td>55</td>\n",
              "    </tr>\n",
              "    <tr>\n",
              "      <th>f5</th>\n",
              "      <td>58</td>\n",
              "    </tr>\n",
              "    <tr>\n",
              "      <th>f14</th>\n",
              "      <td>69</td>\n",
              "    </tr>\n",
              "    <tr>\n",
              "      <th>f0</th>\n",
              "      <td>125</td>\n",
              "    </tr>\n",
              "    <tr>\n",
              "      <th>f11</th>\n",
              "      <td>165</td>\n",
              "    </tr>\n",
              "    <tr>\n",
              "      <th>f2</th>\n",
              "      <td>181</td>\n",
              "    </tr>\n",
              "    <tr>\n",
              "      <th>f15</th>\n",
              "      <td>248</td>\n",
              "    </tr>\n",
              "    <tr>\n",
              "      <th>f4</th>\n",
              "      <td>273</td>\n",
              "    </tr>\n",
              "    <tr>\n",
              "      <th>f10</th>\n",
              "      <td>336</td>\n",
              "    </tr>\n",
              "    <tr>\n",
              "      <th>f13</th>\n",
              "      <td>458</td>\n",
              "    </tr>\n",
              "    <tr>\n",
              "      <th>f12</th>\n",
              "      <td>820</td>\n",
              "    </tr>\n",
              "    <tr>\n",
              "      <th>f3</th>\n",
              "      <td>1059</td>\n",
              "    </tr>\n",
              "  </tbody>\n",
              "</table>\n",
              "</div>"
            ],
            "text/plain": [
              "     score\n",
              "f1       2\n",
              "f22      2\n",
              "f28      7\n",
              "f31     11\n",
              "f16     16\n",
              "f17     16\n",
              "f33     21\n",
              "f30     21\n",
              "f21     22\n",
              "f26     22\n",
              "f25     22\n",
              "f9      24\n",
              "f35     24\n",
              "f18     27\n",
              "f19     27\n",
              "f7      28\n",
              "f27     30\n",
              "f29     30\n",
              "f34     31\n",
              "f8      31\n",
              "f32     32\n",
              "f20     32\n",
              "f23     35\n",
              "f6      50\n",
              "f24     55\n",
              "f5      58\n",
              "f14     69\n",
              "f0     125\n",
              "f11    165\n",
              "f2     181\n",
              "f15    248\n",
              "f4     273\n",
              "f10    336\n",
              "f13    458\n",
              "f12    820\n",
              "f3    1059"
            ]
          },
          "metadata": {
            "tags": []
          },
          "execution_count": 13
        }
      ]
    },
    {
      "cell_type": "code",
      "metadata": {
        "id": "m37FPjUK8Zvm",
        "colab_type": "code",
        "colab": {}
      },
      "source": [
        "selected_features = feature_importance.index[feature_importance.score > 40]\n",
        "\n",
        "\n",
        "selected_features_index = [int(x[1:]) for x in selected_features]\n",
        "features_names = list(numerical3.columns[selected_features_index])\n",
        "\n",
        "selected_column_index = []\n",
        "for x in features_names:\n",
        "  for i in range(len(X_test.columns)):\n",
        "    if X_test.columns[i] == x:\n",
        "      selected_column_index.append(i)\n",
        "\n",
        "\n",
        "selected_features = [int(x[1:]) for x in selected_features]\n",
        "feature_x = mice_imp_x[:,selected_features]      \n",
        "\n",
        "feature_x = mice_imp_x[:,selected_features]      \n",
        "\n",
        "feature_x_test = mice_imp_x_test[:,selected_features]    "
      ],
      "execution_count": 14,
      "outputs": []
    },
    {
      "cell_type": "code",
      "metadata": {
        "id": "kXn6XB9rC74e",
        "colab_type": "code",
        "colab": {}
      },
      "source": [
        "from sklearn import preprocessing\n",
        "\n",
        "def stadardize(X):\n",
        "  scaler = preprocessing.StandardScaler().fit(X)\n",
        "  X = scaler.transform(X)\n",
        "  return X"
      ],
      "execution_count": 15,
      "outputs": []
    },
    {
      "cell_type": "code",
      "metadata": {
        "id": "hwqRU0nw7Qml",
        "colab_type": "code",
        "colab": {}
      },
      "source": [
        "feature_x = stadardize(feature_x)\n",
        "\n",
        "feature_x_test = stadardize(feature_x_test)"
      ],
      "execution_count": 16,
      "outputs": []
    },
    {
      "cell_type": "code",
      "metadata": {
        "id": "c9lXqZ0nDFKY",
        "colab_type": "code",
        "colab": {}
      },
      "source": [
        "df = pd.DataFrame(feature_x, columns = features_names)"
      ],
      "execution_count": 18,
      "outputs": []
    },
    {
      "cell_type": "code",
      "metadata": {
        "id": "owknGWiz7SvL",
        "colab_type": "code",
        "colab": {
          "base_uri": "https://localhost:8080/",
          "height": 762
        },
        "outputId": "724809d6-0a6c-4ac0-88eb-57748c186f68"
      },
      "source": [
        "from scipy.cluster import hierarchy\n",
        "def corr_ord(df):\n",
        "  cov = np.cov(df, rowvar = False)\n",
        "  order = np.array(hierarchy.dendrogram(hierarchy.ward(cov), no_plot = True)['ivl'], dtype= 'int')\n",
        "  order_features = []\n",
        "  for x in order:\n",
        "    for i, name in enumerate(list(df.columns)):\n",
        "      if x == i:\n",
        "        order_features.append(name)\n",
        "        break\n",
        "  return df[order_features]\n",
        "\n",
        "\n",
        "import seaborn as sns\n",
        "import matplotlib.pyplot as plt\n",
        "\n",
        "plt.figure(figsize=(12,10))\n",
        "sns.heatmap(corr_ord(df).corr(), annot = True, fmt='.1g')"
      ],
      "execution_count": 19,
      "outputs": [
        {
          "output_type": "stream",
          "text": [
            "/usr/local/lib/python3.6/dist-packages/statsmodels/tools/_testing.py:19: FutureWarning: pandas.util.testing is deprecated. Use the functions in the public API at pandas.testing instead.\n",
            "  import pandas.util.testing as tm\n"
          ],
          "name": "stderr"
        },
        {
          "output_type": "execute_result",
          "data": {
            "text/plain": [
              "<matplotlib.axes._subplots.AxesSubplot at 0x7f726bf51550>"
            ]
          },
          "metadata": {
            "tags": []
          },
          "execution_count": 19
        },
        {
          "output_type": "display_data",
          "data": {
            "image/png": "[encoded data removed]",
            "text/plain": [
              "<Figure size 864x720 with 2 Axes>"
            ]
          },
          "metadata": {
            "tags": [],
            "needs_background": "light"
          }
        }
      ]
    },
    {
      "cell_type": "markdown",
      "metadata": {
        "id": "d3Gud0AKHlI8",
        "colab_type": "text"
      },
      "source": [
        "#### Test AUC"
      ]
    },
    {
      "cell_type": "code",
      "metadata": {
        "id": "ffgkdL9TCwAx",
        "colab_type": "code",
        "colab": {
          "base_uri": "https://localhost:8080/",
          "height": 34
        },
        "outputId": "dc73561f-71d0-4308-8bc0-ec4e231745a1"
      },
      "source": [
        "from sklearn import metrics\n",
        "from sklearn.linear_model import LogisticRegression\n",
        "from sklearn.model_selection import RepeatedStratifiedKFold\n",
        "\n",
        "lr = LogisticRegression(solver='lbfgs', class_weight= 'balanced', penalty = 'l2', C = 500, n_jobs = -1, max_iter = 300)\n",
        "\n",
        "pred = lr.fit(feature_x, y_train).predict(feature_x_test)\n",
        "fpr, tpr, thresholds = metrics.roc_curve(y_test, pred)\n",
        "metrics.auc(fpr, tpr)"
      ],
      "execution_count": 20,
      "outputs": [
        {
          "output_type": "execute_result",
          "data": {
            "text/plain": [
              "0.8402427944702194"
            ]
          },
          "metadata": {
            "tags": []
          },
          "execution_count": 20
        }
      ]
    },
    {
      "cell_type": "code",
      "metadata": {
        "id": "zZ7arZDAykjf",
        "colab_type": "code",
        "colab": {
          "base_uri": "https://localhost:8080/",
          "height": 34
        },
        "outputId": "a8594d5d-d86d-4121-dc22-e754b09d16e8"
      },
      "source": [
        "from sklearn.ensemble import RandomForestClassifier\n",
        "from numpy import mean\n",
        "from sklearn.model_selection import cross_val_score\n",
        "from sklearn.model_selection import RepeatedStratifiedKFold\n",
        "# generate dataset\n",
        "\n",
        "lr = LogisticRegression(solver='lbfgs', class_weight= 'balanced', penalty = 'l2', C = 500, n_jobs = -1, max_iter = 300)\n",
        "\n",
        "\n",
        "# define evaluation procedure\n",
        "cv = RepeatedStratifiedKFold(n_splits=5, n_repeats=2, random_state=1)\n",
        "# evaluate model\n",
        "scores = cross_val_score(lr, feature_x, y_train, scoring='roc_auc', cv=cv, n_jobs=-1)\n",
        "# summarize performance\n",
        "print('Mean ROC AUC: %.3f' % mean(scores))"
      ],
      "execution_count": 22,
      "outputs": [
        {
          "output_type": "stream",
          "text": [
            "Mean ROC AUC: 0.939\n"
          ],
          "name": "stdout"
        }
      ]
    },
    {
      "cell_type": "markdown",
      "metadata": {
        "id": "Hj89lYcyHoXn",
        "colab_type": "text"
      },
      "source": [
        "#### Train AUC"
      ]
    },
    {
      "cell_type": "code",
      "metadata": {
        "id": "J-wKIEL_HCle",
        "colab_type": "code",
        "colab": {}
      },
      "source": [
        "lr = LogisticRegression(solver='lbfgs', class_weight= 'balanced', penalty = 'l2', C = 10, n_jobs = -1, max_iter = 300)\n",
        "\n",
        "pred = lr.fit(feature_x, y_train).predict(feature_x)\n",
        "fpr, tpr, thresholds = metrics.roc_curve(y_train, pred)\n",
        "metrics.auc(fpr, tpr)\n"
      ],
      "execution_count": null,
      "outputs": []
    },
    {
      "cell_type": "markdown",
      "metadata": {
        "id": "59u0DQDhIFT5",
        "colab_type": "text"
      },
      "source": [
        "### Tune Hyperparamters"
      ]
    },
    {
      "cell_type": "code",
      "metadata": {
        "id": "7ecKWrTgHqQY",
        "colab_type": "code",
        "colab": {}
      },
      "source": [
        "import scipy.stats as st\n",
        "from sklearn.model_selection import RandomizedSearchCV\n",
        "from pprint import pprint\n",
        "\n",
        "C = [0.1, 0.01, 0.05, 0.5, 1, 5, 10, 50, 100, 500]\n",
        "weights = {0: 1,1:0.085}\n",
        "class_weight = ['balanced', weights]\n",
        "\n",
        "random_grid = {'C': C\n",
        "               }\n",
        "\n",
        "lr = LogisticRegression(solver='lbfgs', penalty = 'l2', n_jobs = -1, max_iter = 200, class_weight = 'balanced')\n",
        "pprint(random_grid)\n",
        "\n",
        "cv = RepeatedStratifiedKFold(n_splits=3, n_repeats=2, random_state= 5)"
      ],
      "execution_count": null,
      "outputs": []
    },
    {
      "cell_type": "code",
      "metadata": {
        "id": "-D985R8RIxz8",
        "colab_type": "code",
        "colab": {}
      },
      "source": [
        "# lr_random = RandomizedSearchCV(estimator = lr, param_distributions = random_grid, n_iter = 100, cv = cv, verbose=2, random_state=42, n_jobs = -1, scoring='roc_auc')\n",
        "\n",
        "# lr_random.fit(feature_x, y_train)"
      ],
      "execution_count": null,
      "outputs": []
    },
    {
      "cell_type": "code",
      "metadata": {
        "id": "nUX6USEmgmZb",
        "colab_type": "code",
        "colab": {}
      },
      "source": [
        "# lr_random.best_score_"
      ],
      "execution_count": null,
      "outputs": []
    },
    {
      "cell_type": "code",
      "metadata": {
        "id": "_Cjzw2NldQWo",
        "colab_type": "code",
        "colab": {}
      },
      "source": [
        "# lr_random.best_params_"
      ],
      "execution_count": null,
      "outputs": []
    },
    {
      "cell_type": "markdown",
      "metadata": {
        "id": "WtPVUi1102gR",
        "colab_type": "text"
      },
      "source": [
        "* The best hyperparameter for regulization strength C is 500. \n",
        "\n",
        "* The best corrsponding AUC score is 0.939"
      ]
    },
    {
      "cell_type": "markdown",
      "metadata": {
        "id": "gR6CglLJdaBf",
        "colab_type": "text"
      },
      "source": [
        "#### Test AUC with L2 regulization"
      ]
    },
    {
      "cell_type": "code",
      "metadata": {
        "id": "Gc0NdEOKWI7-",
        "colab_type": "code",
        "colab": {}
      },
      "source": [
        "lr = LogisticRegression(solver='lbfgs', penalty = 'l2', n_jobs = -1, max_iter = 200, C = 500, class_weight = 'balanced')\n",
        "pred = lr.fit(feature_x, y_train).predict(feature_x_test)\n",
        "fpr, tpr, thresholds = metrics.roc_curve(y_test, pred)\n",
        "metrics.auc(fpr, tpr)"
      ],
      "execution_count": null,
      "outputs": []
    },
    {
      "cell_type": "markdown",
      "metadata": {
        "id": "rxQ5zUL_dc_r",
        "colab_type": "text"
      },
      "source": [
        "#### Train AUC with L2 regulization\n"
      ]
    },
    {
      "cell_type": "code",
      "metadata": {
        "id": "Z1rTVG6hWqjO",
        "colab_type": "code",
        "colab": {}
      },
      "source": [
        "lr = LogisticRegression(solver='lbfgs', penalty = 'l2', n_jobs = -1, max_iter = 200, C = 500, class_weight = 'balanced')\n",
        "\n",
        "pred = lr.fit(feature_x, y_train).predict(feature_x)\n",
        "fpr, tpr, thresholds = metrics.roc_curve(y_train, pred)\n",
        "metrics.auc(fpr, tpr)"
      ],
      "execution_count": null,
      "outputs": []
    },
    {
      "cell_type": "code",
      "metadata": {
        "id": "bZL_1eUQYVQ5",
        "colab_type": "code",
        "colab": {}
      },
      "source": [
        "import scipy.stats as st\n",
        "from sklearn.model_selection import RandomizedSearchCV\n",
        "from pprint import pprint\n",
        "\n",
        "C = [10, 50, 100, 200, 500, 1000]\n",
        "\n",
        "\n",
        "random_grid = {'C': C\n",
        "               }\n",
        "\n",
        "lr = LogisticRegression(solver='saga', penalty = 'l1', n_jobs = -1, max_iter = 200, class_weight = 'balanced')\n",
        "pprint(random_grid)\n",
        "\n",
        "cv = RepeatedStratifiedKFold(n_splits=3, n_repeats=2, random_state= 5)"
      ],
      "execution_count": null,
      "outputs": []
    },
    {
      "cell_type": "code",
      "metadata": {
        "id": "S-JvmTTZinXv",
        "colab_type": "code",
        "colab": {}
      },
      "source": [
        "# lr_random2 = RandomizedSearchCV(estimator = lr, param_distributions = random_grid, n_iter = 100, cv = cv, verbose=2, random_state=42, n_jobs = -1, scoring='roc_auc')\n",
        "\n",
        "# lr_random2.fit(feature_x, y_train)"
      ],
      "execution_count": null,
      "outputs": []
    },
    {
      "cell_type": "code",
      "metadata": {
        "id": "gaGraZnkjG73",
        "colab_type": "code",
        "colab": {}
      },
      "source": [
        "lr_random2.best_params_"
      ],
      "execution_count": null,
      "outputs": []
    },
    {
      "cell_type": "code",
      "metadata": {
        "id": "TJ86G2f_RVIA",
        "colab_type": "code",
        "colab": {}
      },
      "source": [
        "lr_random2.best_score_ "
      ],
      "execution_count": null,
      "outputs": []
    },
    {
      "cell_type": "markdown",
      "metadata": {
        "id": "wlQPlk-w1ZTD",
        "colab_type": "text"
      },
      "source": [
        "* The best hyperparameter for regulization strength C is 100. \n",
        "\n",
        "* The best corrsponding AUC score is 0.902."
      ]
    },
    {
      "cell_type": "markdown",
      "metadata": {
        "id": "050Q_q9z1MjN",
        "colab_type": "text"
      },
      "source": [
        ""
      ]
    },
    {
      "cell_type": "markdown",
      "metadata": {
        "id": "jIkzKxJEtmv0",
        "colab_type": "text"
      },
      "source": [
        "#### Train AUC for L1 regulizaton"
      ]
    },
    {
      "cell_type": "code",
      "metadata": {
        "id": "h2CPvj_rtDEG",
        "colab_type": "code",
        "colab": {}
      },
      "source": [
        "lr = LogisticRegression(solver='saga', penalty = 'l1', n_jobs = -1, max_iter = 1000, C = 100, class_weight = 'balanced', tol = 1e-3)\n",
        "\n",
        "pred = lr.fit(feature_x, y_train).predict(feature_x)\n",
        "fpr, tpr, thresholds = metrics.roc_curve(y_train, pred)\n",
        "metrics.auc(fpr, tpr)"
      ],
      "execution_count": null,
      "outputs": []
    },
    {
      "cell_type": "markdown",
      "metadata": {
        "id": "nqefFAC4c-Sl",
        "colab_type": "text"
      },
      "source": [
        "#### Test AUC for L1 Regulization"
      ]
    },
    {
      "cell_type": "code",
      "metadata": {
        "id": "sfukcTSXtr1y",
        "colab_type": "code",
        "colab": {}
      },
      "source": [
        "lr = LogisticRegression(solver='saga', penalty = 'l1', n_jobs = -1, max_iter = 1000, C = 100, class_weight = 'balanced', tol = 1e-3)\n",
        "pred = lr.fit(feature_x, y_train).predict(feature_x_test)\n",
        "fpr, tpr, thresholds = metrics.roc_curve(y_test, pred)\n",
        "metrics.auc(fpr, tpr)"
      ],
      "execution_count": null,
      "outputs": []
    },
    {
      "cell_type": "markdown",
      "metadata": {
        "id": "UYVYW5Q9dLCD",
        "colab_type": "text"
      },
      "source": [
        "#### Train and Test AUC for no regulization"
      ]
    },
    {
      "cell_type": "code",
      "metadata": {
        "id": "owR_3snDDc0U",
        "colab_type": "code",
        "colab": {}
      },
      "source": [
        "lr = LogisticRegression(solver='lbfgs',  n_jobs = -1, max_iter = 200, penalty = 'none', class_weight = 'balanced')\n",
        "\n",
        "pred = lr.fit(feature_x, y_train).predict(feature_x)\n",
        "fpr, tpr, thresholds = metrics.roc_curve(y_train, pred)\n",
        "metrics.auc(fpr, tpr)"
      ],
      "execution_count": null,
      "outputs": []
    },
    {
      "cell_type": "code",
      "metadata": {
        "id": "PlbKRfgNAAjW",
        "colab_type": "code",
        "colab": {}
      },
      "source": [
        "lr = LogisticRegression(solver='lbfgs', penalty = 'none', n_jobs = -1, max_iter = 200, class_weight = 'balanced')\n",
        "pred = lr.fit(feature_x, y_train).predict(feature_x_test)\n",
        "fpr, tpr, thresholds = metrics.roc_curve(y_test, pred)\n",
        "metrics.auc(fpr, tpr)"
      ],
      "execution_count": null,
      "outputs": []
    },
    {
      "cell_type": "markdown",
      "metadata": {
        "id": "YgorsMSqii7G",
        "colab_type": "text"
      },
      "source": [
        "### Result Analysis"
      ]
    },
    {
      "cell_type": "markdown",
      "metadata": {
        "id": "Hfukp8a7i0aN",
        "colab_type": "text"
      },
      "source": [
        "##### No restriction"
      ]
    },
    {
      "cell_type": "code",
      "metadata": {
        "id": "-Ao-eVNFiJe9",
        "colab_type": "code",
        "colab": {}
      },
      "source": [
        "from sklearn.ensemble import RandomForestClassifier\n",
        "from numpy import mean\n",
        "from sklearn.model_selection import cross_val_score\n",
        "from sklearn.model_selection import RepeatedStratifiedKFold\n",
        "# generate dataset\n",
        "\n",
        "lr = LogisticRegression(solver='lbfgs', penalty = 'none', n_jobs = -1, max_iter = 200, class_weight = 'balanced')\n",
        "\n",
        "\n",
        "# define evaluation procedure\n",
        "cv = RepeatedStratifiedKFold(n_splits=3, n_repeats=2, random_state=1)\n",
        "# evaluate model\n",
        "scores = cross_val_score(lr, feature_x, y_train, scoring='roc_auc', cv=cv, n_jobs=-1)\n",
        "# summarize performance\n",
        "print('Mean ROC AUC: %.3f' % mean(scores))"
      ],
      "execution_count": null,
      "outputs": []
    },
    {
      "cell_type": "code",
      "metadata": {
        "id": "gk_tm3tijqiL",
        "colab_type": "code",
        "colab": {}
      },
      "source": [
        "print('Mean ROC AUC: %.4f' % mean(scores))"
      ],
      "execution_count": null,
      "outputs": []
    },
    {
      "cell_type": "markdown",
      "metadata": {
        "id": "MDdGPyewi5xW",
        "colab_type": "text"
      },
      "source": [
        "#### Hyperparaters Comparasion"
      ]
    },
    {
      "cell_type": "code",
      "metadata": {
        "id": "i8uuWa1dWjsl",
        "colab_type": "code",
        "colab": {}
      },
      "source": [
        "auc_score = np.array([lr_random.cv_results_['split' + str(i) + '_test_score'] for i in range(6)])\n",
        "print('The mean auc score for 10 differnece strenth of regulization is {}.'.format(np.mean(auc_score, axis = 0)))"
      ],
      "execution_count": null,
      "outputs": []
    },
    {
      "cell_type": "code",
      "metadata": {
        "id": "ctRYuV6QWoT3",
        "colab_type": "code",
        "colab": {}
      },
      "source": [
        "regulization_strength = ['0.01', '0.05', '0.1', '0.5', '1', '5', '10', '50', '100', '500', 'None']\n",
        "\n",
        "mean_auc = [0.92388743, 0.93131265, 0.93318244, 0.93586343, 0.93662489, 0.93784761, 0.9381893,  0.93869786, 0.93881376, 0.93907362, 0.9392]\n",
        "plt.figure(figsize=(8,6))\n",
        "plt.plot(regulization_strength,mean_auc, 'o', color='red')\n",
        "plt.ylabel('Average Validation AUC score')\n",
        "plt.xlabel('Regulization Strength')\n",
        "plt.title('Regulization Strength v.s. Avg AUC in L2 penulty')\n",
        "plt.grid(True)"
      ],
      "execution_count": null,
      "outputs": []
    },
    {
      "cell_type": "code",
      "metadata": {
        "id": "BU3Fim1H-q40",
        "colab_type": "code",
        "colab": {}
      },
      "source": [
        "auc_score = np.array([lr_random2.cv_results_['split' + str(i) + '_test_score'] for i in range(6)])\n",
        "print('The mean auc score for 10 differnece strenth of regulization is {}.'.format(np.mean(auc_score, axis = 0)))"
      ],
      "execution_count": null,
      "outputs": []
    },
    {
      "cell_type": "code",
      "metadata": {
        "id": "ds4wso01-2F_",
        "colab_type": "code",
        "colab": {}
      },
      "source": [
        "regulization_strength = ['10', '50', '100', '200', '500', '1000']\n",
        "\n",
        "mean_auc = np.mean(auc_score, axis = 0)\n",
        "plt.figure(figsize=(8,6))\n",
        "plt.plot(regulization_strength,mean_auc, 'o', color='red')\n",
        "plt.ylabel('Average Validation AUC score')\n",
        "plt.xlabel('Regulization Strength')\n",
        "plt.title('Regulization Strength v.s. Avg AUC in L1 penulty')\n",
        "plt.grid(True)"
      ],
      "execution_count": null,
      "outputs": []
    },
    {
      "cell_type": "code",
      "metadata": {
        "id": "QbBnFc03_SwI",
        "colab_type": "code",
        "colab": {}
      },
      "source": [
        ""
      ],
      "execution_count": null,
      "outputs": []
    }
  ]
}