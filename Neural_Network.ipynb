{
  "nbformat": 4,
  "nbformat_minor": 0,
  "metadata": {
    "colab": {
      "name": "Neural_Network.ipynb",
      "provenance": []
    },
    "kernelspec": {
      "name": "python3",
      "display_name": "Python 3"
    },
    "accelerator": "GPU"
  },
  "cells": [
    {
      "cell_type": "code",
      "metadata": {
        "id": "7qmNRRgNq0E4",
        "colab_type": "code",
        "colab": {}
      },
      "source": [
        "import pandas as pd\n",
        "import os\n",
        "import numpy as np\n",
        "import random \n",
        "from scipy.stats import multivariate_normal\n",
        "import math\n",
        "import matplotlib.pyplot as plt"
      ],
      "execution_count": null,
      "outputs": []
    },
    {
      "cell_type": "code",
      "metadata": {
        "id": "4XzvWwu9ukEX",
        "colab_type": "code",
        "colab": {
          "base_uri": "https://localhost:8080/",
          "height": 156
        },
        "outputId": "eef0e912-67df-45ff-8e43-22f53f5944d8"
      },
      "source": [
        "from google.colab import drive\n",
        "drive.mount('/content/drive')\n",
        "train_data = pd.read_csv('/content/drive/My Drive/project_data/train_data.csv')\n",
        "data = train_data.copy()"
      ],
      "execution_count": null,
      "outputs": [
        {
          "output_type": "stream",
          "text": [
            "Go to this URL in a browser: https://accounts.google.com/o/oauth2/auth?client_id=947318989803-6bn6qk8qdgf4n4g3pfee6491hc0brc4i.apps.googleusercontent.com&redirect_uri=urn%3aietf%3awg%3aoauth%3a2.0%3aoob&response_type=code&scope=email%20https%3a%2f%2fwww.googleapis.com%2fauth%2fdocs.test%20https%3a%2f%2fwww.googleapis.com%2fauth%2fdrive%20https%3a%2f%2fwww.googleapis.com%2fauth%2fdrive.photos.readonly%20https%3a%2f%2fwww.googleapis.com%2fauth%2fpeopleapi.readonly\n",
            "\n",
            "Enter your authorization code:\n",
            "··········\n",
            "Mounted at /content/drive\n"
          ],
          "name": "stdout"
        },
        {
          "output_type": "stream",
          "text": [
            "/usr/local/lib/python3.6/dist-packages/IPython/core/interactiveshell.py:2718: DtypeWarning: Columns (19,47,55,112,123,124,125,128,129,130,133,139,140,141) have mixed types.Specify dtype option on import or set low_memory=False.\n",
            "  interactivity=interactivity, compiler=compiler, result=result)\n"
          ],
          "name": "stderr"
        }
      ]
    },
    {
      "cell_type": "code",
      "metadata": {
        "id": "_fBjFEoOum9y",
        "colab_type": "code",
        "colab": {
          "base_uri": "https://localhost:8080/",
          "height": 419
        },
        "outputId": "9cd52252-507d-4c61-9bfd-d534f73159cc"
      },
      "source": [
        "feature_description = pd.read_excel('/content/drive/My Drive/project_data/data_dictionary.xlsx')\n",
        "feature_description"
      ],
      "execution_count": null,
      "outputs": [
        {
          "output_type": "execute_result",
          "data": {
            "text/html": [
              "<div>\n",
              "<style scoped>\n",
              "    .dataframe tbody tr th:only-of-type {\n",
              "        vertical-align: middle;\n",
              "    }\n",
              "\n",
              "    .dataframe tbody tr th {\n",
              "        vertical-align: top;\n",
              "    }\n",
              "\n",
              "    .dataframe thead th {\n",
              "        text-align: right;\n",
              "    }\n",
              "</style>\n",
              "<table border=\"1\" class=\"dataframe\">\n",
              "  <thead>\n",
              "    <tr style=\"text-align: right;\">\n",
              "      <th></th>\n",
              "      <th>LoanStatNew</th>\n",
              "      <th>Description</th>\n",
              "    </tr>\n",
              "  </thead>\n",
              "  <tbody>\n",
              "    <tr>\n",
              "      <th>0</th>\n",
              "      <td>acc_now_delinq</td>\n",
              "      <td>The number of accounts on which the borrower i...</td>\n",
              "    </tr>\n",
              "    <tr>\n",
              "      <th>1</th>\n",
              "      <td>acc_open_past_24mths</td>\n",
              "      <td>Number of trades opened in past 24 months.</td>\n",
              "    </tr>\n",
              "    <tr>\n",
              "      <th>2</th>\n",
              "      <td>addr_state</td>\n",
              "      <td>The state provided by the borrower in the loan...</td>\n",
              "    </tr>\n",
              "    <tr>\n",
              "      <th>3</th>\n",
              "      <td>all_util</td>\n",
              "      <td>Balance to credit limit on all trades</td>\n",
              "    </tr>\n",
              "    <tr>\n",
              "      <th>4</th>\n",
              "      <td>annual_inc</td>\n",
              "      <td>The self-reported annual income provided by th...</td>\n",
              "    </tr>\n",
              "    <tr>\n",
              "      <th>...</th>\n",
              "      <td>...</td>\n",
              "      <td>...</td>\n",
              "    </tr>\n",
              "    <tr>\n",
              "      <th>148</th>\n",
              "      <td>settlement_amount</td>\n",
              "      <td>The loan amount that the borrower has agreed t...</td>\n",
              "    </tr>\n",
              "    <tr>\n",
              "      <th>149</th>\n",
              "      <td>settlement_percentage</td>\n",
              "      <td>The settlement amount as a percentage of the p...</td>\n",
              "    </tr>\n",
              "    <tr>\n",
              "      <th>150</th>\n",
              "      <td>settlement_term</td>\n",
              "      <td>The number of months that the borrower will be...</td>\n",
              "    </tr>\n",
              "    <tr>\n",
              "      <th>151</th>\n",
              "      <td>NaN</td>\n",
              "      <td>NaN</td>\n",
              "    </tr>\n",
              "    <tr>\n",
              "      <th>152</th>\n",
              "      <td>NaN</td>\n",
              "      <td>* Employer Title replaces Employer Name for al...</td>\n",
              "    </tr>\n",
              "  </tbody>\n",
              "</table>\n",
              "<p>153 rows × 2 columns</p>\n",
              "</div>"
            ],
            "text/plain": [
              "               LoanStatNew                                        Description\n",
              "0           acc_now_delinq  The number of accounts on which the borrower i...\n",
              "1     acc_open_past_24mths         Number of trades opened in past 24 months.\n",
              "2               addr_state  The state provided by the borrower in the loan...\n",
              "3                 all_util              Balance to credit limit on all trades\n",
              "4               annual_inc  The self-reported annual income provided by th...\n",
              "..                     ...                                                ...\n",
              "148      settlement_amount  The loan amount that the borrower has agreed t...\n",
              "149  settlement_percentage  The settlement amount as a percentage of the p...\n",
              "150        settlement_term  The number of months that the borrower will be...\n",
              "151                    NaN                                                NaN\n",
              "152                    NaN  * Employer Title replaces Employer Name for al...\n",
              "\n",
              "[153 rows x 2 columns]"
            ]
          },
          "metadata": {
            "tags": []
          },
          "execution_count": 3
        }
      ]
    },
    {
      "cell_type": "code",
      "metadata": {
        "id": "bLfb8v3hvhy9",
        "colab_type": "code",
        "colab": {}
      },
      "source": [
        "def data_preprocessing(data, miss_threshold, category):\n",
        "    '''\n",
        "    Data: dataframe type original data\n",
        "    miss_threhold: float type, determine whether keep the feature\n",
        "    category: boolean type, determine whether keep categoical data\n",
        "    '''\n",
        "    if category == False: \n",
        "        categorical = []\n",
        "        for name in data.columns:\n",
        "            for x in data[name][data[name].isna() == False]:\n",
        "                if type(x) != str:\n",
        "                    categorical.append(name)\n",
        "                    break\n",
        "        data = data[categorical]\n",
        "                \n",
        "    \n",
        "    data = data[[x for x in data.columns if (sum(data[x].isna())/len(data)) <= miss_threshold]]\n",
        "    unchanged_feature = [x for x in data.columns if len(data[x].unique()) == 1]\n",
        "    data = data.drop(unchanged_feature, axis = 1)\n",
        "    \n",
        "    return data"
      ],
      "execution_count": null,
      "outputs": []
    },
    {
      "cell_type": "code",
      "metadata": {
        "id": "uw2caJoPvmu7",
        "colab_type": "code",
        "colab": {}
      },
      "source": [
        "label = data['loan_status']\n",
        "data = data.drop(['loan_status'], axis = 1)\n",
        "\n",
        "for i in range(len(label)):\n",
        "    if label[i] == 'Charged Off':\n",
        "        label[i] = 1\n",
        "    else:\n",
        "        label[i] = 0\n",
        "\n",
        "import sklearn.model_selection as model_selection\n",
        "\n",
        "X_train, X_test, y_train, y_test = model_selection.train_test_split(data, label, train_size=0.7,test_size=0.3, random_state=101, stratify = label)"
      ],
      "execution_count": null,
      "outputs": []
    },
    {
      "cell_type": "code",
      "metadata": {
        "id": "wHXcp8cfvpcP",
        "colab_type": "code",
        "colab": {}
      },
      "source": [
        "miss_threshold = 0.25\n",
        "category = False\n",
        "X_train = data_preprocessing(X_train, miss_threshold, category)"
      ],
      "execution_count": null,
      "outputs": []
    },
    {
      "cell_type": "code",
      "metadata": {
        "id": "bK6wJee1vsOx",
        "colab_type": "code",
        "colab": {}
      },
      "source": [
        "def categorical_check(df, threshold):\n",
        "    non_cate = []\n",
        "    for x in df.columns:\n",
        "        if len(df[x].unique()) >= threshold:\n",
        "            non_cate.append(x)\n",
        "            \n",
        "    return df[non_cate]"
      ],
      "execution_count": null,
      "outputs": []
    },
    {
      "cell_type": "code",
      "metadata": {
        "id": "H0UvdDMHvuRF",
        "colab_type": "code",
        "colab": {}
      },
      "source": [
        "threshold = 100\n",
        "numerical = categorical_check(X_train, threshold)\n",
        "numerical3 = numerical.drop(['recoveries', 'out_prncp', 'out_prncp_inv', 'collection_recovery_fee'], axis = 1)\n",
        "numerical_test3 = X_test[numerical3.columns]"
      ],
      "execution_count": null,
      "outputs": []
    },
    {
      "cell_type": "code",
      "metadata": {
        "id": "l5sSUhjtvwC7",
        "colab_type": "code",
        "colab": {}
      },
      "source": [
        "import numpy as np\n",
        "from sklearn.experimental import enable_iterative_imputer\n",
        "from sklearn.impute import IterativeImputer\n",
        "imp = IterativeImputer(max_iter=100, random_state=0)\n",
        "\n",
        "y_train = np.array(y_train.astype(int))\n",
        "y_test = np.array(y_test.astype(int))\n",
        "\n",
        "mice_imp_x = imp.fit_transform(numerical3, y = y_train)\n",
        "mice_imp_x_test = imp.fit(numerical3, y = y_train).transform(numerical_test3)"
      ],
      "execution_count": null,
      "outputs": []
    },
    {
      "cell_type": "code",
      "metadata": {
        "id": "gCogQ4xfzc8A",
        "colab_type": "code",
        "colab": {
          "base_uri": "https://localhost:8080/",
          "height": 34
        },
        "outputId": "41043a30-789e-4a9d-9b65-3694835906bd"
      },
      "source": [
        "from keras.layers import Dense\n",
        "from keras.models import Sequential\n",
        "from keras.layers.normalization import BatchNormalization"
      ],
      "execution_count": null,
      "outputs": [
        {
          "output_type": "stream",
          "text": [
            "Using TensorFlow backend.\n"
          ],
          "name": "stderr"
        }
      ]
    },
    {
      "cell_type": "code",
      "metadata": {
        "id": "9OtlHMXEJ-o0",
        "colab_type": "code",
        "colab": {}
      },
      "source": [
        "from sklearn import preprocessing\n",
        "\n",
        "def stadardize(X):\n",
        "  scaler = preprocessing.StandardScaler().fit(X)\n",
        "  X = scaler.transform(X)\n",
        "  return X"
      ],
      "execution_count": null,
      "outputs": []
    },
    {
      "cell_type": "code",
      "metadata": {
        "id": "S6EVmlrmJ7dM",
        "colab_type": "code",
        "colab": {}
      },
      "source": [
        "mice_imp_x = stadardize(mice_imp_x)\n",
        "\n",
        "mice_imp_x_test = stadardize(mice_imp_x_test)"
      ],
      "execution_count": null,
      "outputs": []
    },
    {
      "cell_type": "markdown",
      "metadata": {
        "id": "TTlcYzB0O_DJ",
        "colab_type": "text"
      },
      "source": [
        "### Baseline Keras"
      ]
    },
    {
      "cell_type": "code",
      "metadata": {
        "id": "CrH7Umm1VRRf",
        "colab_type": "code",
        "colab": {}
      },
      "source": [
        "from keras import metrics\n",
        "from keras.optimizers import Adam"
      ],
      "execution_count": null,
      "outputs": []
    },
    {
      "cell_type": "code",
      "metadata": {
        "id": "1FpMOIStS_MC",
        "colab_type": "code",
        "colab": {}
      },
      "source": [
        "def ANN(n_input):\n",
        "  model = Sequential()\n",
        "  model.add(Dense(20, input_dim = n_input, activation= 'relu', kernel_initializer='he_uniform'))\n",
        "  model.add(Dense(10, activation= 'relu'))\n",
        "  model.add(Dense(1, activation='sigmoid'))\n",
        "  model.compile(loss = 'binary_crossentropy', optimizer='adam', metrics = [metrics.AUC()])\n",
        "  return model\n"
      ],
      "execution_count": null,
      "outputs": []
    },
    {
      "cell_type": "code",
      "metadata": {
        "id": "54x8CWxn5EtU",
        "colab_type": "code",
        "colab": {
          "base_uri": "https://localhost:8080/",
          "height": 714
        },
        "outputId": "cb9da322-9b19-4827-8a26-8bdc091193e3"
      },
      "source": [
        "from sklearn.metrics import roc_auc_score\n",
        "\n",
        "n_input = mice_imp_x.shape[1]\n",
        "model = ANN(n_input)\n",
        "history = model.fit(mice_imp_x, y_train, class_weight= 'balanced', epochs= 20, verbose=2)\n",
        "# evaluate model\n",
        "pred = model.predict(mice_imp_x_test)\n",
        "score = roc_auc_score(y_test, pred)\n",
        "print('ROC AUC: %.3f' % score)"
      ],
      "execution_count": null,
      "outputs": [
        {
          "output_type": "stream",
          "text": [
            "Epoch 1/20\n",
            " - 172s - loss: 0.1357 - auc_2: 0.9259\n",
            "Epoch 2/20\n",
            " - 173s - loss: 0.1086 - auc_2: 0.9439\n",
            "Epoch 3/20\n",
            " - 175s - loss: 0.1047 - auc_2: 0.9472\n",
            "Epoch 4/20\n",
            " - 173s - loss: 0.1030 - auc_2: 0.9488\n",
            "Epoch 5/20\n",
            " - 172s - loss: 0.1020 - auc_2: 0.9498\n",
            "Epoch 6/20\n",
            " - 169s - loss: 0.1013 - auc_2: 0.9504\n",
            "Epoch 7/20\n",
            " - 168s - loss: 0.1010 - auc_2: 0.9508\n",
            "Epoch 8/20\n",
            " - 171s - loss: 0.1001 - auc_2: 0.9515\n",
            "Epoch 9/20\n",
            " - 172s - loss: 0.0996 - auc_2: 0.9517\n",
            "Epoch 10/20\n",
            " - 173s - loss: 0.0991 - auc_2: 0.9523\n",
            "Epoch 11/20\n",
            " - 172s - loss: 0.0990 - auc_2: 0.9525\n",
            "Epoch 12/20\n",
            " - 171s - loss: 0.0986 - auc_2: 0.9527\n",
            "Epoch 13/20\n",
            " - 169s - loss: 0.0982 - auc_2: 0.9530\n",
            "Epoch 14/20\n",
            " - 170s - loss: 0.0979 - auc_2: 0.9534\n",
            "Epoch 15/20\n",
            " - 168s - loss: 0.0975 - auc_2: 0.9535\n",
            "Epoch 16/20\n",
            " - 168s - loss: 0.0973 - auc_2: 0.9537\n",
            "Epoch 17/20\n",
            " - 167s - loss: 0.0971 - auc_2: 0.9538\n",
            "Epoch 18/20\n",
            " - 167s - loss: 0.0968 - auc_2: 0.9540\n",
            "Epoch 19/20\n",
            " - 169s - loss: 0.0968 - auc_2: 0.9542\n",
            "Epoch 20/20\n",
            " - 170s - loss: 0.0965 - auc_2: 0.9543\n",
            "ROC AUC: 0.952\n"
          ],
          "name": "stdout"
        }
      ]
    },
    {
      "cell_type": "code",
      "metadata": {
        "id": "6kTaZiDCEIRL",
        "colab_type": "code",
        "colab": {
          "base_uri": "https://localhost:8080/",
          "height": 34
        },
        "outputId": "6bfe6873-67de-411d-c66b-a978728f8940"
      },
      "source": [
        "score = roc_auc_score(y_test, pred)\n",
        "print('ROC AUC: %.3f' % score)"
      ],
      "execution_count": null,
      "outputs": [
        {
          "output_type": "stream",
          "text": [
            "ROC AUC: 0.952\n"
          ],
          "name": "stdout"
        }
      ]
    },
    {
      "cell_type": "code",
      "metadata": {
        "id": "yPg40-jsk3ym",
        "colab_type": "code",
        "colab": {}
      },
      "source": [
        "from sklearn.metrics import roc_auc_score, roc_curve, auc\n",
        "\n",
        "fpr, tpr, thresholds = roc_curve(y_test, pred)\n",
        "roc_auc = auc(fpr, tpr)\n"
      ],
      "execution_count": null,
      "outputs": []
    },
    {
      "cell_type": "code",
      "metadata": {
        "id": "3o1nT_SIk-ni",
        "colab_type": "code",
        "colab": {
          "base_uri": "https://localhost:8080/",
          "height": 404
        },
        "outputId": "40f66b6c-31c6-4650-a517-e682c2511340"
      },
      "source": [
        "plt.figure(figsize= (8,6))\n",
        "\n",
        "lw = 2\n",
        "plt.plot(fpr, tpr, color='darkorange', \n",
        "         lw=lw, label='ROC curve (area = %0.3f)' % roc_auc)\n",
        "plt.plot([0, 1], [0, 1], color='navy', lw=lw, linestyle='--')\n",
        "plt.xlim([-0.02, 1.0])\n",
        "plt.ylim([0.0, 1.05])\n",
        "plt.xlabel('False Positive Rate')\n",
        "plt.ylabel('True Positive Rate')\n",
        "plt.title('Receiver operating characteristic for ANN model')\n",
        "plt.legend(loc=\"lower right\")\n",
        "plt.show()"
      ],
      "execution_count": null,
      "outputs": [
        {
          "output_type": "display_data",
          "data": {
            "image/png": "[encoded data removed]",
            "text/plain": [
              "<Figure size 576x432 with 1 Axes>"
            ]
          },
          "metadata": {
            "tags": [],
            "needs_background": "light"
          }
        }
      ]
    },
    {
      "cell_type": "code",
      "metadata": {
        "id": "S6HUeWC1lA1V",
        "colab_type": "code",
        "colab": {}
      },
      "source": [
        "def pred_convert(pred, threshold):\n",
        "\n",
        "  result = np.array([0 for _ in range(len(pred))])\n",
        "  result[pred.flatten() > threshold] = 1\n",
        "  return result\n"
      ],
      "execution_count": null,
      "outputs": []
    },
    {
      "cell_type": "code",
      "metadata": {
        "id": "vdXJKzNVlPik",
        "colab_type": "code",
        "colab": {}
      },
      "source": [
        "from numpy import arange\n",
        "threshold = arange(0, 1, 0.01)\n",
        "auc_dict = {}\n",
        "for x in threshold:\n",
        "  y_hat = pred_convert(pred, x)\n",
        "  auc_dict[x] = roc_auc_score(y_test, y_hat)\n",
        "\n",
        "auc_dict = {k: v for k, v in sorted(auc_dict.items(), key=lambda item: item[1], reverse = True)}"
      ],
      "execution_count": null,
      "outputs": []
    },
    {
      "cell_type": "code",
      "metadata": {
        "id": "XDuxhbN3A_7g",
        "colab_type": "code",
        "colab": {
          "base_uri": "https://localhost:8080/",
          "height": 34
        },
        "outputId": "a3d6a4b6-ee57-4d1c-b20c-22dbf3c318ef"
      },
      "source": [
        "gmeans = (tpr * (1-fpr))** 0.5\n",
        "ix = np.argmax(gmeans)\n",
        "print('Best Threshold=%f, G-Mean=%.3f' % (thresholds[ix], gmeans[ix]))"
      ],
      "execution_count": null,
      "outputs": [
        {
          "output_type": "stream",
          "text": [
            "Best Threshold=0.066400, G-Mean=0.866\n"
          ],
          "name": "stdout"
        }
      ]
    },
    {
      "cell_type": "code",
      "metadata": {
        "id": "e_MorTqTpOCH",
        "colab_type": "code",
        "colab": {
          "base_uri": "https://localhost:8080/",
          "height": 34
        },
        "outputId": "ed5f89a1-0a20-4370-adba-78306bf13a77"
      },
      "source": [
        "print('The best threshold is 0.07, where the correponding auc is {}'.format(auc_dict[0.07]))"
      ],
      "execution_count": null,
      "outputs": [
        {
          "output_type": "stream",
          "text": [
            "The best threshold is 0.07, where the correponding auc is 0.8656222551265395\n"
          ],
          "name": "stdout"
        }
      ]
    },
    {
      "cell_type": "code",
      "metadata": {
        "id": "kHRtkOE9p7vf",
        "colab_type": "code",
        "colab": {
          "base_uri": "https://localhost:8080/",
          "height": 34
        },
        "outputId": "aeec5314-a516-49b5-d428-a17069e61f78"
      },
      "source": [
        "label = pred_convert(pred, 0.07)\n",
        "fpr, tpr, _ = roc_curve(y_test, label)\n",
        "auc(fpr, tpr)"
      ],
      "execution_count": null,
      "outputs": [
        {
          "output_type": "execute_result",
          "data": {
            "text/plain": [
              "0.8656222551265395"
            ]
          },
          "metadata": {
            "tags": []
          },
          "execution_count": 27
        }
      ]
    },
    {
      "cell_type": "code",
      "metadata": {
        "id": "8j62N6bb-VxJ",
        "colab_type": "code",
        "colab": {
          "base_uri": "https://localhost:8080/",
          "height": 419
        },
        "outputId": "942e41ef-3cbf-4999-8e73-5fe477f9439b"
      },
      "source": [
        "from sklearn.metrics import precision_recall_curve\n",
        "\n",
        "precision, recall, thresholds = precision_recall_curve(\n",
        "    y_test, pred)\n",
        "\n",
        "\n",
        "\n",
        "plt.figure(figsize = (8, 6))\n",
        "plt.rcParams['font.size'] = 16\n",
        "plt.plot(recall, precision, 'r', label='Precision-Recall Curve for ANN')\n",
        "plt.xlabel('Recall') \n",
        "plt.ylabel('Precision')\n",
        "plt.xlim(0,1)\n",
        "plt.ylim(0,1)\n",
        "plt.title('Precision-Recall Curves')\n",
        "plt.legend(loc=\"lower left\")\n",
        "plt.show()"
      ],
      "execution_count": null,
      "outputs": [
        {
          "output_type": "display_data",
          "data": {
            "image/png": "[encoded data removed]",
            "text/plain": [
              "<Figure size 576x432 with 1 Axes>"
            ]
          },
          "metadata": {
            "tags": [],
            "needs_background": "light"
          }
        }
      ]
    },
    {
      "cell_type": "code",
      "metadata": {
        "id": "pnoyI1b8AJxT",
        "colab_type": "code",
        "colab": {
          "base_uri": "https://localhost:8080/",
          "height": 662
        },
        "outputId": "45e64767-b04a-43ba-eb01-3ce943583a81"
      },
      "source": [
        "from sklearn.metrics import confusion_matrix\n",
        "import itertools\n",
        "\n",
        "def plot_confusion_matrix(cm, classes,\n",
        "                          normalize=False,\n",
        "                          title='Confusion matrix',\n",
        "                          cmap=plt.cm.Oranges):\n",
        "    \"\"\"\n",
        "    This function prints and plots the confusion matrix.\n",
        "    Normalization can be applied by setting `normalize=True`.\n",
        "    Source: http://scikit-learn.org/stable/auto_examples/model_selection/plot_confusion_matrix.html\n",
        "    \"\"\"\n",
        "    if normalize:\n",
        "        cm = cm.astype('float') / cm.sum(axis=1)[:, np.newaxis]\n",
        "        print(\"Normalized confusion matrix\")\n",
        "    else:\n",
        "        print('Confusion matrix, without normalization')\n",
        "\n",
        "    print(cm)\n",
        "\n",
        "    # Plot the confusion matrix\n",
        "    plt.figure(figsize = (10, 10))\n",
        "    plt.imshow(cm, interpolation='nearest', cmap=cmap)\n",
        "    plt.title(title, size = 24)\n",
        "    plt.colorbar(aspect=4)\n",
        "    tick_marks = np.arange(len(classes))\n",
        "    plt.xticks(tick_marks, classes, rotation=45, size = 14)\n",
        "    plt.yticks(tick_marks, classes, size = 14)\n",
        "\n",
        "    fmt = '.2f' if normalize else 'd'\n",
        "    thresh = cm.max() / 2.\n",
        "    \n",
        "    # Labeling the plot\n",
        "    for i, j in itertools.product(range(cm.shape[0]), range(cm.shape[1])):\n",
        "        plt.text(j, i, format(cm[i, j], fmt), fontsize = 20,\n",
        "                 horizontalalignment=\"center\",\n",
        "                 color=\"white\" if cm[i, j] > thresh else \"black\")\n",
        "        \n",
        "    plt.grid(None)\n",
        "    plt.tight_layout()\n",
        "    plt.ylabel('True label', size = 18)\n",
        "    plt.xlabel('Predicted label', size = 18)\n",
        "\n",
        "# Confusion matrix\n",
        "cm = confusion_matrix(y_test, label)\n",
        "plot_confusion_matrix(cm, classes = ['0', '1'], normalize = True, \n",
        "                      title = 'Confusion Matrix')\n"
      ],
      "execution_count": null,
      "outputs": [
        {
          "output_type": "stream",
          "text": [
            "Normalized confusion matrix\n",
            "[[0.88736813 0.11263187]\n",
            " [0.15612362 0.84387638]]\n"
          ],
          "name": "stdout"
        },
        {
          "output_type": "display_data",
          "data": {
            "image/png": "[encoded data removed]",
            "text/plain": [
              "<Figure size 720x720 with 2 Axes>"
            ]
          },
          "metadata": {
            "tags": [],
            "needs_background": "light"
          }
        }
      ]
    },
    {
      "cell_type": "code",
      "metadata": {
        "id": "dQ4VyOjvDjqZ",
        "colab_type": "code",
        "colab": {}
      },
      "source": [
        ""
      ],
      "execution_count": null,
      "outputs": []
    }
  ]
}