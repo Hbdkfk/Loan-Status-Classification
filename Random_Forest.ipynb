{
  "nbformat": 4,
  "nbformat_minor": 0,
  "metadata": {
    "colab": {
      "name": "Random_Forest.ipynb",
      "provenance": [],
      "collapsed_sections": [],
      "machine_shape": "hm"
    },
    "kernelspec": {
      "name": "python3",
      "display_name": "Python 3"
    }
  },
  "cells": [
    {
      "cell_type": "code",
      "metadata": {
        "id": "dso9OEMwu2qu",
        "colab_type": "code",
        "colab": {}
      },
      "source": [
        "import pandas as pd\n",
        "import os\n",
        "import numpy as np\n",
        "import random \n",
        "from scipy.stats import multivariate_normal\n",
        "import math\n",
        "import matplotlib.pyplot as plt"
      ],
      "execution_count": 1,
      "outputs": []
    },
    {
      "cell_type": "code",
      "metadata": {
        "id": "f6sWPl25u6tI",
        "colab_type": "code",
        "colab": {
          "base_uri": "https://localhost:8080/",
          "height": 156
        },
        "outputId": "160ca683-b160-4f91-acb6-bbc4fdb06d40"
      },
      "source": [
        "from google.colab import drive\n",
        "drive.mount('/content/drive')\n",
        "train_data = pd.read_csv('/content/drive/My Drive/Colab Notebooks/project_data/train_data.csv')\n",
        "data = train_data.copy()"
      ],
      "execution_count": 2,
      "outputs": [
        {
          "output_type": "stream",
          "text": [
            "Go to this URL in a browser: https://accounts.google.com/o/oauth2/auth?client_id=947318989803-6bn6qk8qdgf4n4g3pfee6491hc0brc4i.apps.googleusercontent.com&redirect_uri=urn%3aietf%3awg%3aoauth%3a2.0%3aoob&response_type=code&scope=email%20https%3a%2f%2fwww.googleapis.com%2fauth%2fdocs.test%20https%3a%2f%2fwww.googleapis.com%2fauth%2fdrive%20https%3a%2f%2fwww.googleapis.com%2fauth%2fdrive.photos.readonly%20https%3a%2f%2fwww.googleapis.com%2fauth%2fpeopleapi.readonly\n",
            "\n",
            "Enter your authorization code:\n",
            "··········\n",
            "Mounted at /content/drive\n"
          ],
          "name": "stdout"
        },
        {
          "output_type": "stream",
          "text": [
            "/usr/local/lib/python3.6/dist-packages/IPython/core/interactiveshell.py:2718: DtypeWarning: Columns (19,47,55,112,123,124,125,128,129,130,133,139,140,141) have mixed types.Specify dtype option on import or set low_memory=False.\n",
            "  interactivity=interactivity, compiler=compiler, result=result)\n"
          ],
          "name": "stderr"
        }
      ]
    },
    {
      "cell_type": "code",
      "metadata": {
        "id": "wVlLnykBvAk_",
        "colab_type": "code",
        "colab": {
          "base_uri": "https://localhost:8080/",
          "height": 419
        },
        "outputId": "f2a5e1b7-4211-447b-85e7-1f3d00aafe8a"
      },
      "source": [
        "feature_description = pd.read_excel('/content/drive/My Drive/Colab Notebooks/project_data/data_dictionary.xlsx')\n",
        "feature_description"
      ],
      "execution_count": 3,
      "outputs": [
        {
          "output_type": "execute_result",
          "data": {
            "text/html": [
              "<div>\n",
              "<style scoped>\n",
              "    .dataframe tbody tr th:only-of-type {\n",
              "        vertical-align: middle;\n",
              "    }\n",
              "\n",
              "    .dataframe tbody tr th {\n",
              "        vertical-align: top;\n",
              "    }\n",
              "\n",
              "    .dataframe thead th {\n",
              "        text-align: right;\n",
              "    }\n",
              "</style>\n",
              "<table border=\"1\" class=\"dataframe\">\n",
              "  <thead>\n",
              "    <tr style=\"text-align: right;\">\n",
              "      <th></th>\n",
              "      <th>LoanStatNew</th>\n",
              "      <th>Description</th>\n",
              "    </tr>\n",
              "  </thead>\n",
              "  <tbody>\n",
              "    <tr>\n",
              "      <th>0</th>\n",
              "      <td>acc_now_delinq</td>\n",
              "      <td>The number of accounts on which the borrower i...</td>\n",
              "    </tr>\n",
              "    <tr>\n",
              "      <th>1</th>\n",
              "      <td>acc_open_past_24mths</td>\n",
              "      <td>Number of trades opened in past 24 months.</td>\n",
              "    </tr>\n",
              "    <tr>\n",
              "      <th>2</th>\n",
              "      <td>addr_state</td>\n",
              "      <td>The state provided by the borrower in the loan...</td>\n",
              "    </tr>\n",
              "    <tr>\n",
              "      <th>3</th>\n",
              "      <td>all_util</td>\n",
              "      <td>Balance to credit limit on all trades</td>\n",
              "    </tr>\n",
              "    <tr>\n",
              "      <th>4</th>\n",
              "      <td>annual_inc</td>\n",
              "      <td>The self-reported annual income provided by th...</td>\n",
              "    </tr>\n",
              "    <tr>\n",
              "      <th>...</th>\n",
              "      <td>...</td>\n",
              "      <td>...</td>\n",
              "    </tr>\n",
              "    <tr>\n",
              "      <th>148</th>\n",
              "      <td>settlement_amount</td>\n",
              "      <td>The loan amount that the borrower has agreed t...</td>\n",
              "    </tr>\n",
              "    <tr>\n",
              "      <th>149</th>\n",
              "      <td>settlement_percentage</td>\n",
              "      <td>The settlement amount as a percentage of the p...</td>\n",
              "    </tr>\n",
              "    <tr>\n",
              "      <th>150</th>\n",
              "      <td>settlement_term</td>\n",
              "      <td>The number of months that the borrower will be...</td>\n",
              "    </tr>\n",
              "    <tr>\n",
              "      <th>151</th>\n",
              "      <td>NaN</td>\n",
              "      <td>NaN</td>\n",
              "    </tr>\n",
              "    <tr>\n",
              "      <th>152</th>\n",
              "      <td>NaN</td>\n",
              "      <td>* Employer Title replaces Employer Name for al...</td>\n",
              "    </tr>\n",
              "  </tbody>\n",
              "</table>\n",
              "<p>153 rows × 2 columns</p>\n",
              "</div>"
            ],
            "text/plain": [
              "               LoanStatNew                                        Description\n",
              "0           acc_now_delinq  The number of accounts on which the borrower i...\n",
              "1     acc_open_past_24mths         Number of trades opened in past 24 months.\n",
              "2               addr_state  The state provided by the borrower in the loan...\n",
              "3                 all_util              Balance to credit limit on all trades\n",
              "4               annual_inc  The self-reported annual income provided by th...\n",
              "..                     ...                                                ...\n",
              "148      settlement_amount  The loan amount that the borrower has agreed t...\n",
              "149  settlement_percentage  The settlement amount as a percentage of the p...\n",
              "150        settlement_term  The number of months that the borrower will be...\n",
              "151                    NaN                                                NaN\n",
              "152                    NaN  * Employer Title replaces Employer Name for al...\n",
              "\n",
              "[153 rows x 2 columns]"
            ]
          },
          "metadata": {
            "tags": []
          },
          "execution_count": 3
        }
      ]
    },
    {
      "cell_type": "code",
      "metadata": {
        "id": "4vYjbTPPvLI0",
        "colab_type": "code",
        "colab": {}
      },
      "source": [
        "label = data['loan_status']\n",
        "data = data.drop(['loan_status'], axis = 1)\n",
        "\n",
        "for i in range(len(label)):\n",
        "    if label[i] == 'Charged Off':\n",
        "        label[i] = 1\n",
        "    else:\n",
        "        label[i] = 0\n",
        "\n",
        "import sklearn.model_selection as model_selection\n",
        "\n",
        "X_train, X_test, y_train, y_test = model_selection.train_test_split(data, label, train_size=0.7,test_size=0.3, random_state=101, stratify = label)"
      ],
      "execution_count": 4,
      "outputs": []
    },
    {
      "cell_type": "code",
      "metadata": {
        "id": "LNsZVYvU3uUd",
        "colab_type": "code",
        "colab": {}
      },
      "source": [
        "def data_preprocessing(data, miss_threshold, category):\n",
        "    '''\n",
        "    Data: dataframe type original data\n",
        "    miss_threhold: float type, determine whether keep the feature\n",
        "    category: boolean type, determine whether keep categoical data\n",
        "    '''\n",
        "    if category == False: \n",
        "        categorical = []\n",
        "        for name in data.columns:\n",
        "            for x in data[name][data[name].isna() == False]:\n",
        "                if type(x) != str:\n",
        "                    categorical.append(name)\n",
        "                    break\n",
        "        data = data[categorical]\n",
        "                \n",
        "    \n",
        "    data = data[[x for x in data.columns if (sum(data[x].isna())/len(data)) <= miss_threshold]]\n",
        "    unchanged_feature = [x for x in data.columns if len(data[x].unique()) == 1]\n",
        "    data = data.drop(unchanged_feature, axis = 1)\n",
        "    \n",
        "    return data"
      ],
      "execution_count": 5,
      "outputs": []
    },
    {
      "cell_type": "code",
      "metadata": {
        "id": "57GiIqz-3V8s",
        "colab_type": "code",
        "colab": {}
      },
      "source": [
        "miss_threshold = 0.25\n",
        "category = False\n",
        "X_train = data_preprocessing(X_train, miss_threshold, category)\n"
      ],
      "execution_count": 6,
      "outputs": []
    },
    {
      "cell_type": "code",
      "metadata": {
        "id": "HfzP_6gV3Z09",
        "colab_type": "code",
        "colab": {}
      },
      "source": [
        "def categorical_check(df, threshold):\n",
        "    non_cate = []\n",
        "    for x in df.columns:\n",
        "        if len(df[x].unique()) >= threshold:\n",
        "            non_cate.append(x)\n",
        "            \n",
        "    return df[non_cate]"
      ],
      "execution_count": 7,
      "outputs": []
    },
    {
      "cell_type": "code",
      "metadata": {
        "id": "E8K6LeX-3jMD",
        "colab_type": "code",
        "colab": {}
      },
      "source": [
        "threshold = 100\n",
        "numerical = categorical_check(X_train, threshold)\n",
        "numerical3 = numerical.drop(['recoveries', 'out_prncp', 'out_prncp_inv', 'collection_recovery_fee'], axis = 1)\n",
        "numerical_test3 = X_test[numerical3.columns]"
      ],
      "execution_count": 8,
      "outputs": []
    },
    {
      "cell_type": "markdown",
      "metadata": {
        "id": "xN0a2NHXG28U",
        "colab_type": "text"
      },
      "source": [
        "### Some Visualizaton"
      ]
    },
    {
      "cell_type": "code",
      "metadata": {
        "id": "pTRDtB0M4YMH",
        "colab_type": "code",
        "colab": {}
      },
      "source": [
        "from scipy.cluster import hierarchy\n",
        "def corr_ord(df):\n",
        "  cov = np.cov(df, rowvar = False)\n",
        "  order = np.array(hierarchy.dendrogram(hierarchy.ward(cov), no_plot = True)['ivl'], dtype= 'int')\n",
        "  order_features = []\n",
        "  for x in order:\n",
        "    for i, name in enumerate(list(df.columns)):\n",
        "      if x == i:\n",
        "        order_features.append(name)\n",
        "        break\n",
        "  return df[order_features]"
      ],
      "execution_count": 9,
      "outputs": []
    },
    {
      "cell_type": "markdown",
      "metadata": {
        "id": "PH8-OlNzG-Dn",
        "colab_type": "text"
      },
      "source": [
        "## Model\n",
        "\n"
      ]
    },
    {
      "cell_type": "markdown",
      "metadata": {
        "id": "Egf1SPlZxsXD",
        "colab_type": "text"
      },
      "source": [
        "### Baseline Model"
      ]
    },
    {
      "cell_type": "code",
      "metadata": {
        "id": "VioromAywTl5",
        "colab_type": "code",
        "colab": {}
      },
      "source": [
        "import numpy as np\n",
        "from sklearn.experimental import enable_iterative_imputer\n",
        "from sklearn.impute import IterativeImputer\n",
        "imp = IterativeImputer(max_iter=100, random_state=0)\n",
        "\n",
        "y_train = np.array(y_train.astype(int))\n",
        "y_test = np.array(y_test.astype(int))\n",
        "\n",
        "mice_imp_x = imp.fit_transform(numerical3, y = y_train)\n",
        "mice_imp_x_test = imp.fit(numerical3, y = y_train).transform(numerical_test3)"
      ],
      "execution_count": 10,
      "outputs": []
    },
    {
      "cell_type": "code",
      "metadata": {
        "id": "l-v-HEsYkZcx",
        "colab_type": "code",
        "colab": {
          "base_uri": "https://localhost:8080/",
          "height": 204
        },
        "outputId": "5867c651-5cbc-4a2f-9ee2-72d1597a7180"
      },
      "source": [
        "numerical3.columns"
      ],
      "execution_count": 11,
      "outputs": [
        {
          "output_type": "execute_result",
          "data": {
            "text/plain": [
              "Index(['loan_amnt', 'funded_amnt', 'funded_amnt_inv', 'int_rate',\n",
              "       'installment', 'annual_inc', 'dti', 'revol_bal', 'revol_util',\n",
              "       'total_acc', 'total_pymnt', 'total_pymnt_inv', 'total_rec_prncp',\n",
              "       'total_rec_int', 'total_rec_late_fee', 'last_pymnt_amnt',\n",
              "       'tot_coll_amt', 'tot_cur_bal', 'total_rev_hi_lim', 'avg_cur_bal',\n",
              "       'bc_open_to_buy', 'bc_util', 'delinq_amnt', 'mo_sin_old_il_acct',\n",
              "       'mo_sin_old_rev_tl_op', 'mo_sin_rcnt_rev_tl_op', 'mo_sin_rcnt_tl',\n",
              "       'mths_since_recent_bc', 'num_il_tl', 'num_rev_accts', 'pct_tl_nvr_dlq',\n",
              "       'percent_bc_gt_75', 'tot_hi_cred_lim', 'total_bal_ex_mort',\n",
              "       'total_bc_limit', 'total_il_high_credit_limit'],\n",
              "      dtype='object')"
            ]
          },
          "metadata": {
            "tags": []
          },
          "execution_count": 11
        }
      ]
    },
    {
      "cell_type": "code",
      "metadata": {
        "id": "wrFUYGxoJyl6",
        "colab_type": "code",
        "colab": {
          "base_uri": "https://localhost:8080/",
          "height": 516
        },
        "outputId": "4fa2fb2f-77c9-44d6-925e-44d90710ad95"
      },
      "source": [
        "import xgboost as xgb\n",
        "dtrain = xgb.DMatrix(mice_imp_x, y_train)\n",
        "param = {'max_depth':4, 'objective':'binary:logistic', 'nthread': 8, 'eval_metric': 'auc' , 'learning_rate': 0.5, 'n_estimators': 50, 'n_jobs': -1 }\n",
        "\n",
        "num_round = 300\n",
        "bst = xgb.train(param, dtrain, num_round)\n",
        "\n",
        "feature_important = bst.get_score(importance_type='weight')\n",
        "keys = list(feature_important.keys())\n",
        "values = list(feature_important.values())\n",
        "\n",
        "feature_importance = pd.DataFrame(data=values, index=keys, columns=[\"score\"]).sort_values(by = \"score\", ascending=True)\n",
        "feature_importance.plot(kind='barh', grid=True, figsize = (10,8), alpha = 0.8, legend = True, title = 'Feature importance selected by xgboost')\n",
        "\n",
        "\n"
      ],
      "execution_count": 12,
      "outputs": [
        {
          "output_type": "execute_result",
          "data": {
            "text/plain": [
              "<matplotlib.axes._subplots.AxesSubplot at 0x7fb0fc5fcfd0>"
            ]
          },
          "metadata": {
            "tags": []
          },
          "execution_count": 12
        },
        {
          "output_type": "display_data",
          "data": {
            "image/png": "[encoded data removed]",
            "text/plain": [
              "<Figure size 720x576 with 1 Axes>"
            ]
          },
          "metadata": {
            "tags": [],
            "needs_background": "light"
          }
        }
      ]
    },
    {
      "cell_type": "code",
      "metadata": {
        "id": "QiGTpCMrJ8hq",
        "colab_type": "code",
        "colab": {}
      },
      "source": [
        "selected_features = feature_importance.index[feature_importance.score > 50]\n",
        "\n",
        "\n",
        "selected_features_index = [int(x[1:]) for x in selected_features]\n",
        "features_names = list(numerical3.columns[selected_features_index])\n",
        "\n",
        "selected_column_index = []\n",
        "for x in features_names:\n",
        "  for i in range(len(X_test.columns)):\n",
        "    if X_test.columns[i] == x:\n",
        "      selected_column_index.append(i)\n",
        "\n",
        "\n",
        "selected_features = [int(x[1:]) for x in selected_features]\n",
        "feature_x = mice_imp_x[:,selected_features]      \n",
        "\n"
      ],
      "execution_count": 13,
      "outputs": []
    },
    {
      "cell_type": "code",
      "metadata": {
        "id": "0NdETmGTNKE8",
        "colab_type": "code",
        "colab": {}
      },
      "source": [
        "feature_x = mice_imp_x[:,selected_features]      \n",
        "\n",
        "feature_x_test = mice_imp_x_test[:,selected_features]      \n"
      ],
      "execution_count": 14,
      "outputs": []
    },
    {
      "cell_type": "code",
      "metadata": {
        "id": "WsAwNhJHwgPM",
        "colab_type": "code",
        "colab": {}
      },
      "source": [
        "# from sklearn import preprocessing\n",
        "\n",
        "# def stadardize(X):\n",
        "#   scaler = preprocessing.StandardScaler().fit(X)\n",
        "#   X = scaler.transform(X)\n",
        "#   return X"
      ],
      "execution_count": 15,
      "outputs": []
    },
    {
      "cell_type": "code",
      "metadata": {
        "id": "TBt0wGyjxLEc",
        "colab_type": "code",
        "colab": {}
      },
      "source": [
        "# feature_x = stadardize(feature_x)\n",
        "\n",
        "# feature_x_test = stadardize(feature_x_test)"
      ],
      "execution_count": 16,
      "outputs": []
    },
    {
      "cell_type": "code",
      "metadata": {
        "id": "G5EsgdQ7FJRQ",
        "colab_type": "code",
        "colab": {}
      },
      "source": [
        ""
      ],
      "execution_count": null,
      "outputs": []
    },
    {
      "cell_type": "code",
      "metadata": {
        "id": "DyYKFi1v0GXk",
        "colab_type": "code",
        "colab": {
          "base_uri": "https://localhost:8080/",
          "height": 34
        },
        "outputId": "57ff2ae2-3db8-43e5-f3b0-3633876f7649"
      },
      "source": [
        "from sklearn.ensemble import RandomForestClassifier\n",
        "from numpy import mean\n",
        "from sklearn.model_selection import cross_val_score\n",
        "from sklearn.model_selection import RepeatedStratifiedKFold\n",
        "# generate dataset\n",
        "\n",
        "rf = RandomForestClassifier(max_depth = 5, min_samples_leaf = 3,  n_estimators = 100, class_weight = 'balanced', criterion = 'gini')\n",
        "\n",
        "\n",
        "# define evaluation procedure\n",
        "cv = RepeatedStratifiedKFold(n_splits=5, n_repeats=2, random_state=1)\n",
        "# evaluate model\n",
        "scores = cross_val_score(rf, feature_x, y_train, scoring='roc_auc', cv=cv, n_jobs=-1)\n",
        "# summarize performance\n",
        "print('Mean ROC AUC: %.3f' % mean(scores))\n"
      ],
      "execution_count": 17,
      "outputs": [
        {
          "output_type": "stream",
          "text": [
            "Mean ROC AUC: 0.865\n"
          ],
          "name": "stdout"
        }
      ]
    },
    {
      "cell_type": "code",
      "metadata": {
        "id": "W0ZgX1k0G8_Z",
        "colab_type": "code",
        "colab": {
          "base_uri": "https://localhost:8080/",
          "height": 34
        },
        "outputId": "a18dc820-2d53-4185-f149-0c2380187d36"
      },
      "source": [
        "from sklearn import metrics\n",
        "\n",
        "rf = RandomForestClassifier(max_depth = 5, min_samples_leaf = 3,  n_estimators = 100, class_weight = 'balanced', n_jobs=-1, criterion = 'gini')\n",
        "pred = rf.fit(feature_x, y_train).predict(feature_x_test)\n",
        "fpr, tpr, thresholds = metrics.roc_curve(y_test, pred)\n",
        "\n",
        "metrics.auc(fpr, tpr)"
      ],
      "execution_count": 18,
      "outputs": [
        {
          "output_type": "execute_result",
          "data": {
            "text/plain": [
              "0.7862994748289677"
            ]
          },
          "metadata": {
            "tags": []
          },
          "execution_count": 18
        }
      ]
    },
    {
      "cell_type": "code",
      "metadata": {
        "id": "ojJnQUc8cgp_",
        "colab_type": "code",
        "colab": {
          "base_uri": "https://localhost:8080/",
          "height": 34
        },
        "outputId": "864fea3f-b320-4ff6-af74-5afba93c2826"
      },
      "source": [
        "from sklearn import metrics\n",
        "\n",
        "rf = RandomForestClassifier(max_depth = 20, min_samples_leaf = 2,  n_estimators = 100, class_weight = 'balanced_subsample', n_jobs=-1, criterion = 'gini')\n",
        "pred = rf.fit(feature_x, y_train).predict(feature_x_test)\n",
        "fpr, tpr, thresholds = metrics.roc_curve(y_test, pred)\n",
        "\n",
        "metrics.auc(fpr, tpr)"
      ],
      "execution_count": 19,
      "outputs": [
        {
          "output_type": "execute_result",
          "data": {
            "text/plain": [
              "0.8791256214349688"
            ]
          },
          "metadata": {
            "tags": []
          },
          "execution_count": 19
        }
      ]
    },
    {
      "cell_type": "code",
      "metadata": {
        "id": "JNkNh_SsYKXZ",
        "colab_type": "code",
        "colab": {
          "base_uri": "https://localhost:8080/",
          "height": 34
        },
        "outputId": "a43c7b5a-1e64-47c6-d1ae-00475f738bd1"
      },
      "source": [
        "a = rf.fit(feature_x, y_train).predict(feature_x)\n",
        "fpr, tpr, thresholds = metrics.roc_curve(y_train, a)\n",
        "metrics.auc(fpr, tpr)"
      ],
      "execution_count": 20,
      "outputs": [
        {
          "output_type": "execute_result",
          "data": {
            "text/plain": [
              "0.944550691655379"
            ]
          },
          "metadata": {
            "tags": []
          },
          "execution_count": 20
        }
      ]
    },
    {
      "cell_type": "markdown",
      "metadata": {
        "id": "An1KyeF_yoOT",
        "colab_type": "text"
      },
      "source": [
        "### Tune the Hyperparameters\n",
        "\n"
      ]
    },
    {
      "cell_type": "code",
      "metadata": {
        "id": "Tb_yipJYyitf",
        "colab_type": "code",
        "colab": {
          "base_uri": "https://localhost:8080/",
          "height": 68
        },
        "outputId": "1ff67849-ada4-4517-8cd7-8a5e7c6ae0e2"
      },
      "source": [
        "import scipy.stats as st\n",
        "from sklearn.model_selection import RandomizedSearchCV\n",
        "from pprint import pprint\n",
        "\n",
        "n_estimators = [int(x) for x in np.linspace(start = 200, stop = 300, num = 2)]\n",
        "\n",
        "max_depth = [10, 30, 40]\n",
        "max_depth.append(None)\n",
        "\n",
        "\n",
        "class_weight = ['balanced', 'balanced_subsample']\n",
        "random_grid = {'n_estimators': n_estimators,\n",
        "               'max_depth': max_depth,\n",
        "               'class_weight':class_weight\n",
        "               }\n",
        "\n",
        "rf = RandomForestClassifier()\n",
        "pprint(random_grid)\n",
        "\n",
        "cv = RepeatedStratifiedKFold(n_splits=2, n_repeats=2, random_state= 5)\n"
      ],
      "execution_count": 33,
      "outputs": [
        {
          "output_type": "stream",
          "text": [
            "{'class_weight': ['balanced', 'balanced_subsample'],\n",
            " 'max_depth': [10, 30, 40, None],\n",
            " 'n_estimators': [200, 300]}\n"
          ],
          "name": "stdout"
        }
      ]
    },
    {
      "cell_type": "code",
      "metadata": {
        "id": "Rpqv5N7wxMoM",
        "colab_type": "code",
        "colab": {
          "base_uri": "https://localhost:8080/",
          "height": 632
        },
        "outputId": "2ed649ee-03a5-4c8b-998f-83e1dca9141e"
      },
      "source": [
        "rf_random = RandomizedSearchCV(estimator = rf, param_distributions = random_grid, n_iter = 100, cv = cv, verbose=2, random_state=42, n_jobs = -1, scoring='roc_auc')\n",
        "\n",
        "rf_random.fit(feature_x, y_train)\n"
      ],
      "execution_count": 34,
      "outputs": [
        {
          "output_type": "stream",
          "text": [
            "/usr/local/lib/python3.6/dist-packages/sklearn/model_selection/_search.py:281: UserWarning: The total space of parameters 16 is smaller than n_iter=100. Running 16 iterations. For exhaustive searches, use GridSearchCV.\n",
            "  % (grid_size, self.n_iter, grid_size), UserWarning)\n"
          ],
          "name": "stderr"
        },
        {
          "output_type": "stream",
          "text": [
            "Fitting 4 folds for each of 16 candidates, totalling 64 fits\n"
          ],
          "name": "stdout"
        },
        {
          "output_type": "stream",
          "text": [
            "[Parallel(n_jobs=-1)]: Using backend LokyBackend with 4 concurrent workers.\n",
            "/usr/local/lib/python3.6/dist-packages/joblib/externals/loky/process_executor.py:691: UserWarning: A worker stopped while some jobs were given to the executor. This can be caused by a too short worker timeout or by a memory leak.\n",
            "  \"timeout or by a memory leak.\", UserWarning\n",
            "[Parallel(n_jobs=-1)]: Done  33 tasks      | elapsed: 129.3min\n",
            "[Parallel(n_jobs=-1)]: Done  64 out of  64 | elapsed: 263.2min finished\n"
          ],
          "name": "stderr"
        },
        {
          "output_type": "execute_result",
          "data": {
            "text/plain": [
              "RandomizedSearchCV(cv=RepeatedStratifiedKFold(n_repeats=2, n_splits=2, random_state=5),\n",
              "                   error_score=nan,\n",
              "                   estimator=RandomForestClassifier(bootstrap=True,\n",
              "                                                    ccp_alpha=0.0,\n",
              "                                                    class_weight=None,\n",
              "                                                    criterion='gini',\n",
              "                                                    max_depth=None,\n",
              "                                                    max_features='auto',\n",
              "                                                    max_leaf_nodes=None,\n",
              "                                                    max_samples=None,\n",
              "                                                    min_impurity_decrease=0.0,\n",
              "                                                    min_impurity_split=None,\n",
              "                                                    min_samples_leaf=1,\n",
              "                                                    min_samples...\n",
              "                                                    n_estimators=100,\n",
              "                                                    n_jobs=None,\n",
              "                                                    oob_score=False,\n",
              "                                                    random_state=None,\n",
              "                                                    verbose=0,\n",
              "                                                    warm_start=False),\n",
              "                   iid='deprecated', n_iter=100, n_jobs=-1,\n",
              "                   param_distributions={'class_weight': ['balanced',\n",
              "                                                         'balanced_subsample'],\n",
              "                                        'max_depth': [10, 30, 40, None],\n",
              "                                        'n_estimators': [200, 300]},\n",
              "                   pre_dispatch='2*n_jobs', random_state=42, refit=True,\n",
              "                   return_train_score=False, scoring='roc_auc', verbose=2)"
            ]
          },
          "metadata": {
            "tags": []
          },
          "execution_count": 34
        }
      ]
    },
    {
      "cell_type": "code",
      "metadata": {
        "id": "LVw3y8-_tvZW",
        "colab_type": "code",
        "colab": {}
      },
      "source": [
        "test_data = pd.read_csv('/content/drive/My Drive/Colab Notebooks/project_data/capstone_test_data_20200723.csv')"
      ],
      "execution_count": null,
      "outputs": []
    },
    {
      "cell_type": "code",
      "metadata": {
        "id": "DsNkrOYavGbN",
        "colab_type": "code",
        "colab": {
          "base_uri": "https://localhost:8080/",
          "height": 34
        },
        "outputId": "1b525cb2-e340-416c-ee7a-d7c5aad840d8"
      },
      "source": [
        "rf_random.best_params_"
      ],
      "execution_count": 35,
      "outputs": [
        {
          "output_type": "execute_result",
          "data": {
            "text/plain": [
              "{'class_weight': 'balanced', 'max_depth': None, 'n_estimators': 300}"
            ]
          },
          "metadata": {
            "tags": []
          },
          "execution_count": 35
        }
      ]
    },
    {
      "cell_type": "code",
      "metadata": {
        "id": "At8frzbUvORZ",
        "colab_type": "code",
        "colab": {
          "base_uri": "https://localhost:8080/",
          "height": 34
        },
        "outputId": "cd26cdcf-169e-40d9-93e4-bbdce87e389e"
      },
      "source": [
        "rf_random.best_score_"
      ],
      "execution_count": 36,
      "outputs": [
        {
          "output_type": "execute_result",
          "data": {
            "text/plain": [
              "0.9798201495327745"
            ]
          },
          "metadata": {
            "tags": []
          },
          "execution_count": 36
        }
      ]
    },
    {
      "cell_type": "markdown",
      "metadata": {
        "id": "dbOrht80yelo",
        "colab_type": "text"
      },
      "source": [
        "#### Use the best random forest hyperparameter and retrain the model"
      ]
    },
    {
      "cell_type": "code",
      "metadata": {
        "id": "xxnMLeEpySYv",
        "colab_type": "code",
        "colab": {
          "base_uri": "https://localhost:8080/",
          "height": 34
        },
        "outputId": "8a9a4a30-d49b-4357-8e4c-b60cff2b2f29"
      },
      "source": [
        "rf = RandomForestClassifier(max_depth = 40, min_samples_leaf = 4,  n_estimators = 300, class_weight = 'balanced_subsample', n_jobs=-1, criterion = 'gini')\n",
        "pred = rf.fit(feature_x, y_train).predict(feature_x_test)\n",
        "fpr, tpr, thresholds = metrics.roc_curve(y_test, pred)\n",
        "metrics.auc(fpr, tpr)"
      ],
      "execution_count": 40,
      "outputs": [
        {
          "output_type": "execute_result",
          "data": {
            "text/plain": [
              "0.8627821931659967"
            ]
          },
          "metadata": {
            "tags": []
          },
          "execution_count": 40
        }
      ]
    },
    {
      "cell_type": "code",
      "metadata": {
        "id": "VLB2Sxsky13A",
        "colab_type": "code",
        "colab": {
          "base_uri": "https://localhost:8080/",
          "height": 34
        },
        "outputId": "db96e44a-fd78-4416-b4f0-8398c293c947"
      },
      "source": [
        "rf = RandomForestClassifier(max_depth = 20, min_samples_leaf = 2,  n_estimators = 300, class_weight = 'balanced_subsample', n_jobs=-1, criterion = 'gini')\n",
        "pred = rf.fit(feature_x, y_train).predict(feature_x)\n",
        "fpr, tpr, thresholds = metrics.roc_curve(y_train, pred)\n",
        "metrics.auc(fpr, tpr)"
      ],
      "execution_count": 44,
      "outputs": [
        {
          "output_type": "execute_result",
          "data": {
            "text/plain": [
              "0.9434778007264235"
            ]
          },
          "metadata": {
            "tags": []
          },
          "execution_count": 44
        }
      ]
    },
    {
      "cell_type": "code",
      "metadata": {
        "id": "WrH_S8N42ioV",
        "colab_type": "code",
        "colab": {
          "base_uri": "https://localhost:8080/",
          "height": 34
        },
        "outputId": "8e4d7640-27ca-4f3b-aa6f-60ddceceaab4"
      },
      "source": [
        "rf = RandomForestClassifier(max_depth = 20, min_samples_leaf = 2,  n_estimators = 300, class_weight = 'balanced_subsample', n_jobs=-1, criterion = 'gini')\n",
        "pred = rf.fit(feature_x, y_train).predict(feature_x_test)\n",
        "fpr, tpr, thresholds = metrics.roc_curve(y_test, pred)\n",
        "metrics.auc(fpr, tpr)"
      ],
      "execution_count": 42,
      "outputs": [
        {
          "output_type": "execute_result",
          "data": {
            "text/plain": [
              "0.8790232528445469"
            ]
          },
          "metadata": {
            "tags": []
          },
          "execution_count": 42
        }
      ]
    },
    {
      "cell_type": "code",
      "metadata": {
        "id": "D_oN9jAz92YH",
        "colab_type": "code",
        "colab": {
          "base_uri": "https://localhost:8080/",
          "height": 34
        },
        "outputId": "10feca45-e13e-43e3-94f2-ab221d115f3a"
      },
      "source": [
        "rf = RandomForestClassifier(max_depth = 20, min_samples_leaf = 4,  n_estimators = 300, class_weight = 'balanced_subsample', n_jobs=-1, criterion = 'gini')\n",
        "pred = rf.fit(feature_x, y_train).predict(feature_x_test)\n",
        "fpr, tpr, thresholds = metrics.roc_curve(y_test, pred)\n",
        "metrics.auc(fpr, tpr)"
      ],
      "execution_count": 45,
      "outputs": [
        {
          "output_type": "execute_result",
          "data": {
            "text/plain": [
              "0.8819802392753937"
            ]
          },
          "metadata": {
            "tags": []
          },
          "execution_count": 45
        }
      ]
    },
    {
      "cell_type": "markdown",
      "metadata": {
        "id": "feQ82VG8UA0X",
        "colab_type": "text"
      },
      "source": [
        "### Tune Hyperparameters process 2"
      ]
    },
    {
      "cell_type": "code",
      "metadata": {
        "id": "B9UW_-voKIrw",
        "colab_type": "code",
        "colab": {
          "base_uri": "https://localhost:8080/",
          "height": 34
        },
        "outputId": "065d3eaf-bfd5-4747-d5f7-fc499f744647"
      },
      "source": [
        "import scipy.stats as st\n",
        "from sklearn.model_selection import RandomizedSearchCV\n",
        "from pprint import pprint\n",
        "\n",
        "\n",
        "max_depth = [16, 18, 20, 22, 24]\n",
        "\n",
        "min_samples_leaf = [4,6]\n",
        "random_grid = {\n",
        "                'min_samples_leaf': min_samples_leaf,\n",
        "               'max_depth': max_depth\n",
        "\n",
        "               }\n",
        "\n",
        "rf = RandomForestClassifier(class_weight = 'balanced_subsample', n_estimators= 300, n_jobs=-1, criterion = 'gini')\n",
        "pprint(random_grid)\n",
        "\n",
        "cv = RepeatedStratifiedKFold(n_splits=3, n_repeats=2, random_state= 5)"
      ],
      "execution_count": 50,
      "outputs": [
        {
          "output_type": "stream",
          "text": [
            "{'max_depth': [16, 18, 20, 22, 24], 'min_samples_leaf': [4, 6]}\n"
          ],
          "name": "stdout"
        }
      ]
    },
    {
      "cell_type": "code",
      "metadata": {
        "id": "c4yMNJ27U8FL",
        "colab_type": "code",
        "colab": {
          "base_uri": "https://localhost:8080/",
          "height": 598
        },
        "outputId": "09a0c590-3383-48bb-9434-435c7cfa738d"
      },
      "source": [
        "rf_random = RandomizedSearchCV(estimator = rf, param_distributions = random_grid, n_iter = 100, cv = cv, verbose=2, random_state=42, n_jobs = -1, scoring='roc_auc')\n",
        "\n",
        "rf_random.fit(feature_x, y_train)"
      ],
      "execution_count": 51,
      "outputs": [
        {
          "output_type": "stream",
          "text": [
            "/usr/local/lib/python3.6/dist-packages/sklearn/model_selection/_search.py:281: UserWarning: The total space of parameters 10 is smaller than n_iter=100. Running 10 iterations. For exhaustive searches, use GridSearchCV.\n",
            "  % (grid_size, self.n_iter, grid_size), UserWarning)\n"
          ],
          "name": "stderr"
        },
        {
          "output_type": "stream",
          "text": [
            "Fitting 6 folds for each of 10 candidates, totalling 60 fits\n"
          ],
          "name": "stdout"
        },
        {
          "output_type": "stream",
          "text": [
            "[Parallel(n_jobs=-1)]: Using backend LokyBackend with 4 concurrent workers.\n",
            "[Parallel(n_jobs=-1)]: Done  33 tasks      | elapsed: 275.2min\n",
            "/usr/local/lib/python3.6/dist-packages/joblib/externals/loky/process_executor.py:691: UserWarning: A worker stopped while some jobs were given to the executor. This can be caused by a too short worker timeout or by a memory leak.\n",
            "  \"timeout or by a memory leak.\", UserWarning\n",
            "[Parallel(n_jobs=-1)]: Done  60 out of  60 | elapsed: 479.1min finished\n"
          ],
          "name": "stderr"
        },
        {
          "output_type": "execute_result",
          "data": {
            "text/plain": [
              "RandomizedSearchCV(cv=RepeatedStratifiedKFold(n_repeats=2, n_splits=3, random_state=5),\n",
              "                   error_score=nan,\n",
              "                   estimator=RandomForestClassifier(bootstrap=True,\n",
              "                                                    ccp_alpha=0.0,\n",
              "                                                    class_weight='balanced_subsample',\n",
              "                                                    criterion='gini',\n",
              "                                                    max_depth=None,\n",
              "                                                    max_features='auto',\n",
              "                                                    max_leaf_nodes=None,\n",
              "                                                    max_samples=None,\n",
              "                                                    min_impurity_decrease=0.0,\n",
              "                                                    min_impurity_split=None,\n",
              "                                                    min_samples_le...\n",
              "                                                    min_samples_split=2,\n",
              "                                                    min_weight_fraction_leaf=0.0,\n",
              "                                                    n_estimators=300, n_jobs=-1,\n",
              "                                                    oob_score=False,\n",
              "                                                    random_state=None,\n",
              "                                                    verbose=0,\n",
              "                                                    warm_start=False),\n",
              "                   iid='deprecated', n_iter=100, n_jobs=-1,\n",
              "                   param_distributions={'max_depth': [16, 18, 20, 22, 24],\n",
              "                                        'min_samples_leaf': [4, 6]},\n",
              "                   pre_dispatch='2*n_jobs', random_state=42, refit=True,\n",
              "                   return_train_score=False, scoring='roc_auc', verbose=2)"
            ]
          },
          "metadata": {
            "tags": []
          },
          "execution_count": 51
        }
      ]
    },
    {
      "cell_type": "code",
      "metadata": {
        "id": "DO3hc5QdVJkc",
        "colab_type": "code",
        "colab": {
          "base_uri": "https://localhost:8080/",
          "height": 34
        },
        "outputId": "da927088-86b1-4d3d-c6e0-61c2360cf963"
      },
      "source": [
        "rf_random.best_params_"
      ],
      "execution_count": 52,
      "outputs": [
        {
          "output_type": "execute_result",
          "data": {
            "text/plain": [
              "{'max_depth': 24, 'min_samples_leaf': 4}"
            ]
          },
          "metadata": {
            "tags": []
          },
          "execution_count": 52
        }
      ]
    },
    {
      "cell_type": "code",
      "metadata": {
        "id": "sGM0y_NIvSdz",
        "colab_type": "code",
        "colab": {
          "base_uri": "https://localhost:8080/",
          "height": 34
        },
        "outputId": "5e615675-53f4-42f6-a636-eab50f828133"
      },
      "source": [
        "rf_random.best_score_"
      ],
      "execution_count": 53,
      "outputs": [
        {
          "output_type": "execute_result",
          "data": {
            "text/plain": [
              "0.9677381579338271"
            ]
          },
          "metadata": {
            "tags": []
          },
          "execution_count": 53
        }
      ]
    },
    {
      "cell_type": "markdown",
      "metadata": {
        "id": "pjG8QNfUpXiO",
        "colab_type": "text"
      },
      "source": [
        "### Random Forest Result Analysis"
      ]
    },
    {
      "cell_type": "code",
      "metadata": {
        "id": "wVMwX6lyvV9t",
        "colab_type": "code",
        "colab": {
          "base_uri": "https://localhost:8080/",
          "height": 34
        },
        "outputId": "8151c7cf-a961-4898-aeab-9126c28fb541"
      },
      "source": [
        "rf = RandomForestClassifier(max_depth = 24, min_samples_leaf = 4,  n_estimators = 300, class_weight = 'balanced_subsample', n_jobs=-1, criterion = 'gini')\n",
        "pred = rf.fit(feature_x, y_train).predict(feature_x_test)\n",
        "fpr, tpr, thresholds = metrics.roc_curve(y_test, pred)\n",
        "metrics.auc(fpr, tpr)"
      ],
      "execution_count": 54,
      "outputs": [
        {
          "output_type": "execute_result",
          "data": {
            "text/plain": [
              "0.883352512882065"
            ]
          },
          "metadata": {
            "tags": []
          },
          "execution_count": 54
        }
      ]
    },
    {
      "cell_type": "code",
      "metadata": {
        "id": "RuOUg8lG7CAE",
        "colab_type": "code",
        "colab": {}
      },
      "source": [
        ""
      ],
      "execution_count": null,
      "outputs": []
    }
  ]
}