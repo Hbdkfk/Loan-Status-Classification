{
  "nbformat": 4,
  "nbformat_minor": 0,
  "metadata": {
    "colab": {
      "name": "xgboost2.ipynb",
      "provenance": [],
      "collapsed_sections": [],
      "machine_shape": "hm"
    },
    "kernelspec": {
      "name": "python3",
      "display_name": "Python 3"
    }
  },
  "cells": [
    {
      "cell_type": "code",
      "metadata": {
        "id": "QIH1se-ly8JF",
        "colab_type": "code",
        "colab": {}
      },
      "source": [
        "import pandas as pd\n",
        "import os\n",
        "import numpy as np\n",
        "import random \n",
        "from scipy.stats import multivariate_normal\n",
        "import math\n",
        "import matplotlib.pyplot as plt"
      ],
      "execution_count": null,
      "outputs": []
    },
    {
      "cell_type": "code",
      "metadata": {
        "id": "XUoMugG419mo",
        "colab_type": "code",
        "colab": {
          "base_uri": "https://localhost:8080/",
          "height": 122
        },
        "outputId": "981d7f32-cd9c-4f52-b8ca-8443fefda1c9"
      },
      "source": [
        "from google.colab import drive\n",
        "drive.mount('/content/drive')\n"
      ],
      "execution_count": null,
      "outputs": [
        {
          "output_type": "stream",
          "text": [
            "Go to this URL in a browser: https://accounts.google.com/o/oauth2/auth?client_id=947318989803-6bn6qk8qdgf4n4g3pfee6491hc0brc4i.apps.googleusercontent.com&redirect_uri=urn%3aietf%3awg%3aoauth%3a2.0%3aoob&response_type=code&scope=email%20https%3a%2f%2fwww.googleapis.com%2fauth%2fdocs.test%20https%3a%2f%2fwww.googleapis.com%2fauth%2fdrive%20https%3a%2f%2fwww.googleapis.com%2fauth%2fdrive.photos.readonly%20https%3a%2f%2fwww.googleapis.com%2fauth%2fpeopleapi.readonly\n",
            "\n",
            "Enter your authorization code:\n",
            "··········\n",
            "Mounted at /content/drive\n"
          ],
          "name": "stdout"
        }
      ]
    },
    {
      "cell_type": "code",
      "metadata": {
        "id": "AkAYdu_i3OoM",
        "colab_type": "code",
        "colab": {
          "base_uri": "https://localhost:8080/",
          "height": 34
        },
        "outputId": "c4ad76b1-da0a-4100-c3e1-850bb4ab1b5f"
      },
      "source": [
        "cd /content/drive/My Drive/project_data"
      ],
      "execution_count": null,
      "outputs": [
        {
          "output_type": "stream",
          "text": [
            "/content/drive/My Drive/project_data\n"
          ],
          "name": "stdout"
        }
      ]
    },
    {
      "cell_type": "code",
      "metadata": {
        "id": "i0A86oc723rf",
        "colab_type": "code",
        "colab": {
          "base_uri": "https://localhost:8080/",
          "height": 71
        },
        "outputId": "d7cf1166-54fd-4e59-c69e-9cfa511540ca"
      },
      "source": [
        "train_data = pd.read_csv('/content/drive/My Drive/project_data/train_data.csv')\n",
        "data = train_data.copy()"
      ],
      "execution_count": null,
      "outputs": [
        {
          "output_type": "stream",
          "text": [
            "/usr/local/lib/python3.6/dist-packages/IPython/core/interactiveshell.py:2718: DtypeWarning: Columns (19,47,55,112,123,124,125,128,129,130,133,139,140,141) have mixed types.Specify dtype option on import or set low_memory=False.\n",
            "  interactivity=interactivity, compiler=compiler, result=result)\n"
          ],
          "name": "stderr"
        }
      ]
    },
    {
      "cell_type": "code",
      "metadata": {
        "id": "7FcOaszh3GzI",
        "colab_type": "code",
        "colab": {}
      },
      "source": [
        "label = data['loan_status']\n",
        "data = data.drop(['loan_status'], axis = 1)\n",
        "\n",
        "for i in range(len(label)):\n",
        "    if label[i] == 'Charged Off':\n",
        "        label[i] = 1\n",
        "    else:\n",
        "        label[i] = 0\n",
        "\n",
        "import sklearn.model_selection as model_selection\n",
        "\n",
        "X_train, X_test, y_train, y_test = model_selection.train_test_split(data, label, train_size=0.7,test_size=0.3, random_state=101, stratify = label)"
      ],
      "execution_count": null,
      "outputs": []
    },
    {
      "cell_type": "code",
      "metadata": {
        "id": "sRDyHx1L3sK6",
        "colab_type": "code",
        "colab": {}
      },
      "source": [
        "def data_preprocessing(data, miss_threshold, category):\n",
        "    '''\n",
        "    Data: dataframe type original data\n",
        "    miss_threhold: float type, determine whether keep the feature\n",
        "    category: boolean type, determine whether keep categoical data\n",
        "    '''\n",
        "    if category == False: \n",
        "        categorical = []\n",
        "        for name in data.columns:\n",
        "            for x in data[name][data[name].isna() == False]:\n",
        "                if type(x) != str:\n",
        "                    categorical.append(name)\n",
        "                    break\n",
        "        data = data[categorical]\n",
        "                \n",
        "    \n",
        "    data = data[[x for x in data.columns if (sum(data[x].isna())/len(data)) <= miss_threshold]]\n",
        "    unchanged_feature = [x for x in data.columns if len(data[x].unique()) == 1]\n",
        "    data = data.drop(unchanged_feature, axis = 1)\n",
        "    \n",
        "    return data"
      ],
      "execution_count": null,
      "outputs": []
    },
    {
      "cell_type": "code",
      "metadata": {
        "id": "--pT6ob73s0F",
        "colab_type": "code",
        "colab": {}
      },
      "source": [
        "miss_threshold = 0.25\n",
        "category = False\n",
        "X_train = data_preprocessing(X_train, miss_threshold, category)"
      ],
      "execution_count": null,
      "outputs": []
    },
    {
      "cell_type": "code",
      "metadata": {
        "id": "p1keV1Oc3u87",
        "colab_type": "code",
        "colab": {}
      },
      "source": [
        "def categorical_check(df, threshold):\n",
        "    non_cate = []\n",
        "    for x in df.columns:\n",
        "        if len(df[x].unique()) >= threshold:\n",
        "            non_cate.append(x)\n",
        "            \n",
        "    return df[non_cate]"
      ],
      "execution_count": null,
      "outputs": []
    },
    {
      "cell_type": "code",
      "metadata": {
        "id": "G7K2riUb3w3V",
        "colab_type": "code",
        "colab": {}
      },
      "source": [
        "threshold = 100\n",
        "numerical = categorical_check(X_train, threshold)\n",
        "numerical3 = numerical.drop(['recoveries', 'out_prncp', 'out_prncp_inv', 'collection_recovery_fee'], axis = 1)\n",
        "numerical_test3 = X_test[numerical3.columns]"
      ],
      "execution_count": null,
      "outputs": []
    },
    {
      "cell_type": "code",
      "metadata": {
        "id": "qLbhxmUc30Ib",
        "colab_type": "code",
        "colab": {}
      },
      "source": [
        "import numpy as np\n",
        "from sklearn.experimental import enable_iterative_imputer\n",
        "from sklearn.impute import IterativeImputer\n",
        "imp = IterativeImputer(max_iter=100, random_state=0)\n",
        "\n",
        "y_train = np.array(y_train.astype(int))\n",
        "y_test = np.array(y_test.astype(int))\n",
        "\n",
        "mice_imp_x = imp.fit_transform(numerical3, y = y_train)\n",
        "mice_imp_x_test = imp.fit(numerical3, y = y_train).transform(numerical_test3)"
      ],
      "execution_count": null,
      "outputs": []
    },
    {
      "cell_type": "code",
      "metadata": {
        "id": "0TBWYQtD35Vn",
        "colab_type": "code",
        "colab": {}
      },
      "source": [
        ""
      ],
      "execution_count": null,
      "outputs": []
    },
    {
      "cell_type": "code",
      "metadata": {
        "id": "fHev5DeUWwNz",
        "colab_type": "code",
        "colab": {
          "base_uri": "https://localhost:8080/",
          "height": 34
        },
        "outputId": "ce13e8f0-6c85-4f43-e88f-f029df72680e"
      },
      "source": [
        "from xgboost import XGBClassifier\n",
        "from numpy import mean\n",
        "\n",
        "from sklearn.model_selection import cross_val_score\n",
        "from sklearn.model_selection import RepeatedStratifiedKFold\n",
        "\n",
        "\n",
        "xgb = XGBClassifier(colsample_bytree = 0.7, learning_rate=0.5,max_depth=5, \n",
        "                          scale_pos_weight= 1, eval_metric = 'auc', n_estimator = 300)\n",
        "\n",
        "# define evaluation procedure\n",
        "cv = RepeatedStratifiedKFold(n_splits=3, n_repeats=2, random_state=1)\n",
        "# evaluate model\n",
        "scores = cross_val_score(xgb, mice_imp_x, y_train, scoring='roc_auc', cv=cv, n_jobs=-1)\n",
        "# summarize performance\n",
        "print('Mean ROC AUC: %.3f' % mean(scores))"
      ],
      "execution_count": null,
      "outputs": [
        {
          "output_type": "stream",
          "text": [
            "Mean ROC AUC: 0.977\n"
          ],
          "name": "stdout"
        }
      ]
    },
    {
      "cell_type": "code",
      "metadata": {
        "id": "6ULoUXZj4Abe",
        "colab_type": "code",
        "colab": {
          "base_uri": "https://localhost:8080/",
          "height": 34
        },
        "outputId": "b98c467e-48b4-489d-a0b3-dca3dea58f6f"
      },
      "source": [
        "import scipy.stats as st\n",
        "from sklearn.model_selection import RandomizedSearchCV\n",
        "from pprint import pprint\n",
        "\n",
        "\n",
        "max_depth = [int(x) for x in np.linspace(5, 30, num = 4)]\n",
        "\n",
        "\n",
        "random_grid = {\n",
        "               'max_depth': max_depth, \n",
        "               }\n",
        "\n",
        "xgb = XGBClassifier(nthreads = -1, scale_pos_weight = 1, colsample_bytree = 0.7, n_estimators = 300)\n",
        "pprint(random_grid)\n",
        "\n",
        "cv = RepeatedStratifiedKFold(n_splits=3, n_repeats=2, random_state= 5)"
      ],
      "execution_count": null,
      "outputs": [
        {
          "output_type": "stream",
          "text": [
            "{'max_depth': [5, 13, 21, 30]}\n"
          ],
          "name": "stdout"
        }
      ]
    },
    {
      "cell_type": "code",
      "metadata": {
        "id": "KE7tzm-PjBWv",
        "colab_type": "code",
        "colab": {
          "base_uri": "https://localhost:8080/",
          "height": 34
        },
        "outputId": "227b9b24-a35f-4179-d82e-aee047dbf0ed"
      },
      "source": [
        "from sklearn.metrics import roc_auc_score, roc_curve, auc\n",
        "\n",
        "xgb = XGBClassifier(colsample_bytree = 0.7, learning_rate=0.5, max_depth= 20, \n",
        "                    scale_pos_weight= 1,  eval_metric = 'auc', n_estimator = 300)\n",
        "\n",
        "pred = xgb.fit(mice_imp_x, y_train).predict_proba(mice_imp_x_test)\n",
        "\n",
        "fpr, tpr, thresholds = roc_curve(y_test, pred[:,1])\n",
        "\n",
        "auc(fpr, tpr)"
      ],
      "execution_count": null,
      "outputs": [
        {
          "output_type": "execute_result",
          "data": {
            "text/plain": [
              "0.9910348305066298"
            ]
          },
          "metadata": {
            "tags": []
          },
          "execution_count": 15
        }
      ]
    },
    {
      "cell_type": "code",
      "metadata": {
        "id": "5_ytNsU0h0B0",
        "colab_type": "code",
        "colab": {}
      },
      "source": [
        "xgb = XGBClassifier(colsample_bytree = 0.7, learning_rate=0.5, max_depth= 20, \n",
        "                    scale_pos_weight= 1,  eval_metric = 'auc', n_estimator = 300)\n",
        "\n",
        "pred = xgb.fit(mice_imp_x, y_train).predict(mice_imp_x_test)"
      ],
      "execution_count": null,
      "outputs": []
    },
    {
      "cell_type": "code",
      "metadata": {
        "id": "Z12ead_UTK_5",
        "colab_type": "code",
        "colab": {
          "base_uri": "https://localhost:8080/",
          "height": 34
        },
        "outputId": "d333b56f-5781-4924-b760-c03e86efcce2"
      },
      "source": [
        "from sklearn import metrics\n",
        "fpr, tpr, thresholds = metrics.roc_curve(y_test, pred)\n",
        "\n",
        "metrics.auc(fpr, tpr)"
      ],
      "execution_count": null,
      "outputs": [
        {
          "output_type": "execute_result",
          "data": {
            "text/plain": [
              "0.910639255511409"
            ]
          },
          "metadata": {
            "tags": []
          },
          "execution_count": 19
        }
      ]
    },
    {
      "cell_type": "code",
      "metadata": {
        "id": "W1JT4o0WjZN5",
        "colab_type": "code",
        "colab": {
          "base_uri": "https://localhost:8080/",
          "height": 34
        },
        "outputId": "878575da-c980-4589-d18b-0d6c9751d831"
      },
      "source": [
        "xgb = XGBClassifier(colsample_bytree = 0.7, learning_rate=0.5, max_depth= 20, \n",
        "                    scale_pos_weight= 1,  eval_metric = 'auc', n_estimator = 300)\n",
        "\n",
        "pred = xgb.fit(mice_imp_x, y_train).predict(mice_imp_x)\n",
        "\n",
        "fpr, tpr, thresholds = metrics.roc_curve(y_train, pred)\n",
        "\n",
        "metrics.auc(fpr, tpr)"
      ],
      "execution_count": null,
      "outputs": [
        {
          "output_type": "execute_result",
          "data": {
            "text/plain": [
              "1.0"
            ]
          },
          "metadata": {
            "tags": []
          },
          "execution_count": 24
        }
      ]
    },
    {
      "cell_type": "code",
      "metadata": {
        "id": "jSqy4IRh4Fh2",
        "colab_type": "code",
        "colab": {}
      },
      "source": [
        "# xgb_random = RandomizedSearchCV(estimator = xgb, param_distributions = random_grid, n_iter = 100, cv = cv, verbose=2, random_state=42, n_jobs = -1, scoring='roc_auc')\n",
        "\n",
        "# xgb_random.fit(mice_imp_x, y_train)\n"
      ],
      "execution_count": null,
      "outputs": []
    },
    {
      "cell_type": "code",
      "metadata": {
        "id": "QBxOAHIbQkxB",
        "colab_type": "code",
        "colab": {}
      },
      "source": [
        "xgb_random.best_score_"
      ],
      "execution_count": null,
      "outputs": []
    },
    {
      "cell_type": "code",
      "metadata": {
        "id": "BZm9jF8dBewn",
        "colab_type": "code",
        "colab": {
          "base_uri": "https://localhost:8080/",
          "height": 680
        },
        "outputId": "580beea3-9c99-4c73-df90-8ffd080114cc"
      },
      "source": [
        "from sklearn.metrics import confusion_matrix\n",
        "import itertools\n",
        "\n",
        "def plot_confusion_matrix(cm, classes,\n",
        "                          normalize=False,\n",
        "                          title='Confusion matrix',\n",
        "                          cmap=plt.cm.Oranges):\n",
        "    \"\"\"\n",
        "    This function prints and plots the confusion matrix.\n",
        "    Normalization can be applied by setting `normalize=True`.\n",
        "    Source: http://scikit-learn.org/stable/auto_examples/model_selection/plot_confusion_matrix.html\n",
        "    \"\"\"\n",
        "    if normalize:\n",
        "        cm = cm.astype('float') / cm.sum(axis=1)[:, np.newaxis]\n",
        "        print(\"Normalized confusion matrix\")\n",
        "    else:\n",
        "        print('Confusion matrix, without normalization')\n",
        "\n",
        "    print(cm)\n",
        "\n",
        "    # Plot the confusion matrix\n",
        "    plt.figure(figsize = (10, 10))\n",
        "    plt.imshow(cm, interpolation='nearest', cmap=cmap)\n",
        "    plt.title(title, size = 24)\n",
        "    plt.colorbar(aspect=4)\n",
        "    tick_marks = np.arange(len(classes))\n",
        "    plt.xticks(tick_marks, classes, rotation=45, size = 14)\n",
        "    plt.yticks(tick_marks, classes, size = 14)\n",
        "\n",
        "    fmt = '.2f' if normalize else 'd'\n",
        "    thresh = cm.max() / 2.\n",
        "    \n",
        "    # Labeling the plot\n",
        "    for i, j in itertools.product(range(cm.shape[0]), range(cm.shape[1])):\n",
        "        plt.text(j, i, format(cm[i, j], fmt), fontsize = 20,\n",
        "                 horizontalalignment=\"center\",\n",
        "                 color=\"white\" if cm[i, j] > thresh else \"black\")\n",
        "        \n",
        "    plt.grid(None)\n",
        "    plt.tight_layout()\n",
        "    plt.ylabel('True label', size = 18)\n",
        "    plt.xlabel('Predicted label', size = 18)\n",
        "\n",
        "# Confusion matrix\n",
        "cm = confusion_matrix(y_test, pred)\n",
        "plot_confusion_matrix(cm, classes = ['0', '1'], normalize = True, \n",
        "                      title = 'Confusion Matrix')"
      ],
      "execution_count": null,
      "outputs": [
        {
          "output_type": "stream",
          "text": [
            "Normalized confusion matrix\n",
            "[[9.99295387e-01 7.04613447e-04]\n",
            " [1.78016876e-01 8.21983124e-01]]\n"
          ],
          "name": "stdout"
        },
        {
          "output_type": "display_data",
          "data": {
            "image/png": "[encoded data removed]",
            "text/plain": [
              "<Figure size 720x720 with 2 Axes>"
            ]
          },
          "metadata": {
            "tags": [],
            "needs_background": "light"
          }
        }
      ]
    },
    {
      "cell_type": "code",
      "metadata": {
        "id": "gXE39lvih-IZ",
        "colab_type": "code",
        "colab": {}
      },
      "source": [
        "from sklearn.metrics import roc_auc_score, roc_curve, auc\n",
        "\n",
        "fpr, tpr, thresholds = roc_curve(y_test, pred)\n",
        "roc_auc = auc(fpr, tpr)\n"
      ],
      "execution_count": null,
      "outputs": []
    },
    {
      "cell_type": "code",
      "metadata": {
        "id": "YHlrFHWB-nPF",
        "colab_type": "code",
        "colab": {}
      },
      "source": [
        "pred = xgb.fit(mice_imp_x, y_train).predict_proba(mice_imp_x_test)"
      ],
      "execution_count": null,
      "outputs": []
    },
    {
      "cell_type": "code",
      "metadata": {
        "id": "1671KyXR-sHg",
        "colab_type": "code",
        "colab": {}
      },
      "source": [
        ""
      ],
      "execution_count": null,
      "outputs": []
    }
  ]
}